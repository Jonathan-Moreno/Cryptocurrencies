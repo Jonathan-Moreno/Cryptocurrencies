{
 "cells": [
  {
   "cell_type": "markdown",
   "metadata": {},
   "source": [
    "# Clustering Crypto"
   ]
  },
  {
   "cell_type": "code",
   "execution_count": 93,
   "metadata": {},
   "outputs": [],
   "source": [
    "# Initial imports\n",
    "import pandas as pd\n",
    "import hvplot.pandas\n",
    "from path import Path\n",
    "import plotly.express as px\n",
    "from sklearn.preprocessing import StandardScaler, MinMaxScaler\n",
    "from sklearn.decomposition import PCA\n",
    "from sklearn.cluster import KMeans\n"
   ]
  },
  {
   "cell_type": "markdown",
   "metadata": {},
   "source": [
    "### Deliverable 1: Preprocessing the Data for PCA"
   ]
  },
  {
   "cell_type": "code",
   "execution_count": 94,
   "metadata": {},
   "outputs": [
    {
     "data": {
      "text/html": [
       "<div>\n",
       "<style scoped>\n",
       "    .dataframe tbody tr th:only-of-type {\n",
       "        vertical-align: middle;\n",
       "    }\n",
       "\n",
       "    .dataframe tbody tr th {\n",
       "        vertical-align: top;\n",
       "    }\n",
       "\n",
       "    .dataframe thead th {\n",
       "        text-align: right;\n",
       "    }\n",
       "</style>\n",
       "<table border=\"1\" class=\"dataframe\">\n",
       "  <thead>\n",
       "    <tr style=\"text-align: right;\">\n",
       "      <th></th>\n",
       "      <th>CoinName</th>\n",
       "      <th>Algorithm</th>\n",
       "      <th>IsTrading</th>\n",
       "      <th>ProofType</th>\n",
       "      <th>TotalCoinsMined</th>\n",
       "      <th>TotalCoinSupply</th>\n",
       "    </tr>\n",
       "  </thead>\n",
       "  <tbody>\n",
       "    <tr>\n",
       "      <th>42</th>\n",
       "      <td>42 Coin</td>\n",
       "      <td>Scrypt</td>\n",
       "      <td>True</td>\n",
       "      <td>PoW/PoS</td>\n",
       "      <td>4.199995e+01</td>\n",
       "      <td>42</td>\n",
       "    </tr>\n",
       "    <tr>\n",
       "      <th>365</th>\n",
       "      <td>365Coin</td>\n",
       "      <td>X11</td>\n",
       "      <td>True</td>\n",
       "      <td>PoW/PoS</td>\n",
       "      <td>NaN</td>\n",
       "      <td>2300000000</td>\n",
       "    </tr>\n",
       "    <tr>\n",
       "      <th>404</th>\n",
       "      <td>404Coin</td>\n",
       "      <td>Scrypt</td>\n",
       "      <td>True</td>\n",
       "      <td>PoW/PoS</td>\n",
       "      <td>1.055185e+09</td>\n",
       "      <td>532000000</td>\n",
       "    </tr>\n",
       "    <tr>\n",
       "      <th>611</th>\n",
       "      <td>SixEleven</td>\n",
       "      <td>SHA-256</td>\n",
       "      <td>True</td>\n",
       "      <td>PoW</td>\n",
       "      <td>NaN</td>\n",
       "      <td>611000</td>\n",
       "    </tr>\n",
       "    <tr>\n",
       "      <th>808</th>\n",
       "      <td>808</td>\n",
       "      <td>SHA-256</td>\n",
       "      <td>True</td>\n",
       "      <td>PoW/PoS</td>\n",
       "      <td>0.000000e+00</td>\n",
       "      <td>0</td>\n",
       "    </tr>\n",
       "  </tbody>\n",
       "</table>\n",
       "</div>"
      ],
      "text/plain": [
       "      CoinName Algorithm  IsTrading ProofType  TotalCoinsMined TotalCoinSupply\n",
       "42     42 Coin    Scrypt       True   PoW/PoS     4.199995e+01              42\n",
       "365    365Coin       X11       True   PoW/PoS              NaN      2300000000\n",
       "404    404Coin    Scrypt       True   PoW/PoS     1.055185e+09       532000000\n",
       "611  SixEleven   SHA-256       True       PoW              NaN          611000\n",
       "808        808   SHA-256       True   PoW/PoS     0.000000e+00               0"
      ]
     },
     "execution_count": 94,
     "metadata": {},
     "output_type": "execute_result"
    }
   ],
   "source": [
    "# Load the crypto_data.csv dataset.\n",
    "file_path = \"Resources/crypto_data.csv\"\n",
    "\n",
    "crypto_df = pd.read_csv(file_path, index_col=0)\n",
    "\n",
    "crypto_df.head()"
   ]
  },
  {
   "cell_type": "code",
   "execution_count": 95,
   "metadata": {},
   "outputs": [
    {
     "data": {
      "text/html": [
       "<div>\n",
       "<style scoped>\n",
       "    .dataframe tbody tr th:only-of-type {\n",
       "        vertical-align: middle;\n",
       "    }\n",
       "\n",
       "    .dataframe tbody tr th {\n",
       "        vertical-align: top;\n",
       "    }\n",
       "\n",
       "    .dataframe thead th {\n",
       "        text-align: right;\n",
       "    }\n",
       "</style>\n",
       "<table border=\"1\" class=\"dataframe\">\n",
       "  <thead>\n",
       "    <tr style=\"text-align: right;\">\n",
       "      <th></th>\n",
       "      <th>CoinName</th>\n",
       "      <th>Algorithm</th>\n",
       "      <th>IsTrading</th>\n",
       "      <th>ProofType</th>\n",
       "      <th>TotalCoinsMined</th>\n",
       "      <th>TotalCoinSupply</th>\n",
       "    </tr>\n",
       "  </thead>\n",
       "  <tbody>\n",
       "    <tr>\n",
       "      <th>42</th>\n",
       "      <td>42 Coin</td>\n",
       "      <td>Scrypt</td>\n",
       "      <td>True</td>\n",
       "      <td>PoW/PoS</td>\n",
       "      <td>4.199995e+01</td>\n",
       "      <td>42</td>\n",
       "    </tr>\n",
       "    <tr>\n",
       "      <th>365</th>\n",
       "      <td>365Coin</td>\n",
       "      <td>X11</td>\n",
       "      <td>True</td>\n",
       "      <td>PoW/PoS</td>\n",
       "      <td>NaN</td>\n",
       "      <td>2300000000</td>\n",
       "    </tr>\n",
       "    <tr>\n",
       "      <th>404</th>\n",
       "      <td>404Coin</td>\n",
       "      <td>Scrypt</td>\n",
       "      <td>True</td>\n",
       "      <td>PoW/PoS</td>\n",
       "      <td>1.055185e+09</td>\n",
       "      <td>532000000</td>\n",
       "    </tr>\n",
       "    <tr>\n",
       "      <th>611</th>\n",
       "      <td>SixEleven</td>\n",
       "      <td>SHA-256</td>\n",
       "      <td>True</td>\n",
       "      <td>PoW</td>\n",
       "      <td>NaN</td>\n",
       "      <td>611000</td>\n",
       "    </tr>\n",
       "    <tr>\n",
       "      <th>808</th>\n",
       "      <td>808</td>\n",
       "      <td>SHA-256</td>\n",
       "      <td>True</td>\n",
       "      <td>PoW/PoS</td>\n",
       "      <td>0.000000e+00</td>\n",
       "      <td>0</td>\n",
       "    </tr>\n",
       "  </tbody>\n",
       "</table>\n",
       "</div>"
      ],
      "text/plain": [
       "      CoinName Algorithm  IsTrading ProofType  TotalCoinsMined TotalCoinSupply\n",
       "42     42 Coin    Scrypt       True   PoW/PoS     4.199995e+01              42\n",
       "365    365Coin       X11       True   PoW/PoS              NaN      2300000000\n",
       "404    404Coin    Scrypt       True   PoW/PoS     1.055185e+09       532000000\n",
       "611  SixEleven   SHA-256       True       PoW              NaN          611000\n",
       "808        808   SHA-256       True   PoW/PoS     0.000000e+00               0"
      ]
     },
     "execution_count": 95,
     "metadata": {},
     "output_type": "execute_result"
    }
   ],
   "source": [
    "# Keep all the cryptocurrencies that are being traded.\n",
    "crypto_df = crypto_df[crypto_df['IsTrading']==True]\n",
    "\n",
    "crypto_df.head()"
   ]
  },
  {
   "cell_type": "code",
   "execution_count": 96,
   "metadata": {},
   "outputs": [
    {
     "data": {
      "text/plain": [
       "42      False\n",
       "365     False\n",
       "404     False\n",
       "611     False\n",
       "808     False\n",
       "        ...  \n",
       "SERO    False\n",
       "UOS     False\n",
       "BDX     False\n",
       "ZEN     False\n",
       "XBC     False\n",
       "Name: Algorithm, Length: 1144, dtype: bool"
      ]
     },
     "execution_count": 96,
     "metadata": {},
     "output_type": "execute_result"
    }
   ],
   "source": [
    "# Keep all the cryptocurrencies that have a working algorithm.\n",
    "pd.isna(crypto_df[\"Algorithm\"])"
   ]
  },
  {
   "cell_type": "code",
   "execution_count": 97,
   "metadata": {},
   "outputs": [
    {
     "data": {
      "text/html": [
       "<div>\n",
       "<style scoped>\n",
       "    .dataframe tbody tr th:only-of-type {\n",
       "        vertical-align: middle;\n",
       "    }\n",
       "\n",
       "    .dataframe tbody tr th {\n",
       "        vertical-align: top;\n",
       "    }\n",
       "\n",
       "    .dataframe thead th {\n",
       "        text-align: right;\n",
       "    }\n",
       "</style>\n",
       "<table border=\"1\" class=\"dataframe\">\n",
       "  <thead>\n",
       "    <tr style=\"text-align: right;\">\n",
       "      <th></th>\n",
       "      <th>CoinName</th>\n",
       "      <th>Algorithm</th>\n",
       "      <th>ProofType</th>\n",
       "      <th>TotalCoinsMined</th>\n",
       "      <th>TotalCoinSupply</th>\n",
       "    </tr>\n",
       "  </thead>\n",
       "  <tbody>\n",
       "    <tr>\n",
       "      <th>42</th>\n",
       "      <td>42 Coin</td>\n",
       "      <td>Scrypt</td>\n",
       "      <td>PoW/PoS</td>\n",
       "      <td>4.199995e+01</td>\n",
       "      <td>42</td>\n",
       "    </tr>\n",
       "    <tr>\n",
       "      <th>365</th>\n",
       "      <td>365Coin</td>\n",
       "      <td>X11</td>\n",
       "      <td>PoW/PoS</td>\n",
       "      <td>NaN</td>\n",
       "      <td>2300000000</td>\n",
       "    </tr>\n",
       "    <tr>\n",
       "      <th>404</th>\n",
       "      <td>404Coin</td>\n",
       "      <td>Scrypt</td>\n",
       "      <td>PoW/PoS</td>\n",
       "      <td>1.055185e+09</td>\n",
       "      <td>532000000</td>\n",
       "    </tr>\n",
       "    <tr>\n",
       "      <th>611</th>\n",
       "      <td>SixEleven</td>\n",
       "      <td>SHA-256</td>\n",
       "      <td>PoW</td>\n",
       "      <td>NaN</td>\n",
       "      <td>611000</td>\n",
       "    </tr>\n",
       "    <tr>\n",
       "      <th>808</th>\n",
       "      <td>808</td>\n",
       "      <td>SHA-256</td>\n",
       "      <td>PoW/PoS</td>\n",
       "      <td>0.000000e+00</td>\n",
       "      <td>0</td>\n",
       "    </tr>\n",
       "  </tbody>\n",
       "</table>\n",
       "</div>"
      ],
      "text/plain": [
       "      CoinName Algorithm ProofType  TotalCoinsMined TotalCoinSupply\n",
       "42     42 Coin    Scrypt   PoW/PoS     4.199995e+01              42\n",
       "365    365Coin       X11   PoW/PoS              NaN      2300000000\n",
       "404    404Coin    Scrypt   PoW/PoS     1.055185e+09       532000000\n",
       "611  SixEleven   SHA-256       PoW              NaN          611000\n",
       "808        808   SHA-256   PoW/PoS     0.000000e+00               0"
      ]
     },
     "execution_count": 97,
     "metadata": {},
     "output_type": "execute_result"
    }
   ],
   "source": [
    "# Remove the \"IsTrading\" column. \n",
    "crypto_df = crypto_df.drop(columns=\"IsTrading\", axis=1)\n",
    "\n",
    "crypto_df.head()"
   ]
  },
  {
   "cell_type": "code",
   "execution_count": 98,
   "metadata": {},
   "outputs": [
    {
     "name": "stdout",
     "output_type": "stream",
     "text": [
      "<class 'pandas.core.frame.DataFrame'>\n",
      "Index: 685 entries, 42 to XBC\n",
      "Data columns (total 5 columns):\n",
      " #   Column           Non-Null Count  Dtype  \n",
      "---  ------           --------------  -----  \n",
      " 0   CoinName         685 non-null    object \n",
      " 1   Algorithm        685 non-null    object \n",
      " 2   ProofType        685 non-null    object \n",
      " 3   TotalCoinsMined  685 non-null    float64\n",
      " 4   TotalCoinSupply  685 non-null    object \n",
      "dtypes: float64(1), object(4)\n",
      "memory usage: 32.1+ KB\n"
     ]
    }
   ],
   "source": [
    "# Remove rows that have at least 1 null value.\n",
    "crypto_df = crypto_df.dropna()\n",
    "\n",
    "crypto_df.info()"
   ]
  },
  {
   "cell_type": "code",
   "execution_count": 99,
   "metadata": {},
   "outputs": [
    {
     "data": {
      "text/html": [
       "<div>\n",
       "<style scoped>\n",
       "    .dataframe tbody tr th:only-of-type {\n",
       "        vertical-align: middle;\n",
       "    }\n",
       "\n",
       "    .dataframe tbody tr th {\n",
       "        vertical-align: top;\n",
       "    }\n",
       "\n",
       "    .dataframe thead th {\n",
       "        text-align: right;\n",
       "    }\n",
       "</style>\n",
       "<table border=\"1\" class=\"dataframe\">\n",
       "  <thead>\n",
       "    <tr style=\"text-align: right;\">\n",
       "      <th></th>\n",
       "      <th>CoinName</th>\n",
       "      <th>Algorithm</th>\n",
       "      <th>ProofType</th>\n",
       "      <th>TotalCoinsMined</th>\n",
       "      <th>TotalCoinSupply</th>\n",
       "    </tr>\n",
       "  </thead>\n",
       "  <tbody>\n",
       "    <tr>\n",
       "      <th>42</th>\n",
       "      <td>42 Coin</td>\n",
       "      <td>Scrypt</td>\n",
       "      <td>PoW/PoS</td>\n",
       "      <td>4.199995e+01</td>\n",
       "      <td>42</td>\n",
       "    </tr>\n",
       "    <tr>\n",
       "      <th>404</th>\n",
       "      <td>404Coin</td>\n",
       "      <td>Scrypt</td>\n",
       "      <td>PoW/PoS</td>\n",
       "      <td>1.055185e+09</td>\n",
       "      <td>532000000</td>\n",
       "    </tr>\n",
       "    <tr>\n",
       "      <th>1337</th>\n",
       "      <td>EliteCoin</td>\n",
       "      <td>X13</td>\n",
       "      <td>PoW/PoS</td>\n",
       "      <td>2.927942e+10</td>\n",
       "      <td>314159265359</td>\n",
       "    </tr>\n",
       "    <tr>\n",
       "      <th>BTC</th>\n",
       "      <td>Bitcoin</td>\n",
       "      <td>SHA-256</td>\n",
       "      <td>PoW</td>\n",
       "      <td>1.792718e+07</td>\n",
       "      <td>21000000</td>\n",
       "    </tr>\n",
       "    <tr>\n",
       "      <th>ETH</th>\n",
       "      <td>Ethereum</td>\n",
       "      <td>Ethash</td>\n",
       "      <td>PoW</td>\n",
       "      <td>1.076842e+08</td>\n",
       "      <td>0</td>\n",
       "    </tr>\n",
       "    <tr>\n",
       "      <th>...</th>\n",
       "      <td>...</td>\n",
       "      <td>...</td>\n",
       "      <td>...</td>\n",
       "      <td>...</td>\n",
       "      <td>...</td>\n",
       "    </tr>\n",
       "    <tr>\n",
       "      <th>ZEPH</th>\n",
       "      <td>ZEPHYR</td>\n",
       "      <td>SHA-256</td>\n",
       "      <td>DPoS</td>\n",
       "      <td>2.000000e+09</td>\n",
       "      <td>2000000000</td>\n",
       "    </tr>\n",
       "    <tr>\n",
       "      <th>GAP</th>\n",
       "      <td>Gapcoin</td>\n",
       "      <td>Scrypt</td>\n",
       "      <td>PoW/PoS</td>\n",
       "      <td>1.493105e+07</td>\n",
       "      <td>250000000</td>\n",
       "    </tr>\n",
       "    <tr>\n",
       "      <th>BDX</th>\n",
       "      <td>Beldex</td>\n",
       "      <td>CryptoNight</td>\n",
       "      <td>PoW</td>\n",
       "      <td>9.802226e+08</td>\n",
       "      <td>1400222610</td>\n",
       "    </tr>\n",
       "    <tr>\n",
       "      <th>ZEN</th>\n",
       "      <td>Horizen</td>\n",
       "      <td>Equihash</td>\n",
       "      <td>PoW</td>\n",
       "      <td>7.296538e+06</td>\n",
       "      <td>21000000</td>\n",
       "    </tr>\n",
       "    <tr>\n",
       "      <th>XBC</th>\n",
       "      <td>BitcoinPlus</td>\n",
       "      <td>Scrypt</td>\n",
       "      <td>PoS</td>\n",
       "      <td>1.283270e+05</td>\n",
       "      <td>1000000</td>\n",
       "    </tr>\n",
       "  </tbody>\n",
       "</table>\n",
       "<p>532 rows × 5 columns</p>\n",
       "</div>"
      ],
      "text/plain": [
       "         CoinName    Algorithm ProofType  TotalCoinsMined TotalCoinSupply\n",
       "42        42 Coin       Scrypt   PoW/PoS     4.199995e+01              42\n",
       "404       404Coin       Scrypt   PoW/PoS     1.055185e+09       532000000\n",
       "1337    EliteCoin          X13   PoW/PoS     2.927942e+10    314159265359\n",
       "BTC       Bitcoin      SHA-256       PoW     1.792718e+07        21000000\n",
       "ETH      Ethereum       Ethash       PoW     1.076842e+08               0\n",
       "...           ...          ...       ...              ...             ...\n",
       "ZEPH       ZEPHYR      SHA-256      DPoS     2.000000e+09      2000000000\n",
       "GAP       Gapcoin       Scrypt   PoW/PoS     1.493105e+07       250000000\n",
       "BDX        Beldex  CryptoNight       PoW     9.802226e+08      1400222610\n",
       "ZEN       Horizen     Equihash       PoW     7.296538e+06        21000000\n",
       "XBC   BitcoinPlus       Scrypt       PoS     1.283270e+05         1000000\n",
       "\n",
       "[532 rows x 5 columns]"
      ]
     },
     "execution_count": 99,
     "metadata": {},
     "output_type": "execute_result"
    }
   ],
   "source": [
    "# Keep the rows where coins are mined.\n",
    "crypto_df = crypto_df[crypto_df.TotalCoinsMined>0]\n",
    "\n",
    "crypto_df"
   ]
  },
  {
   "cell_type": "code",
   "execution_count": 100,
   "metadata": {},
   "outputs": [
    {
     "data": {
      "text/html": [
       "<div>\n",
       "<style scoped>\n",
       "    .dataframe tbody tr th:only-of-type {\n",
       "        vertical-align: middle;\n",
       "    }\n",
       "\n",
       "    .dataframe tbody tr th {\n",
       "        vertical-align: top;\n",
       "    }\n",
       "\n",
       "    .dataframe thead th {\n",
       "        text-align: right;\n",
       "    }\n",
       "</style>\n",
       "<table border=\"1\" class=\"dataframe\">\n",
       "  <thead>\n",
       "    <tr style=\"text-align: right;\">\n",
       "      <th></th>\n",
       "      <th>CoinName</th>\n",
       "    </tr>\n",
       "  </thead>\n",
       "  <tbody>\n",
       "    <tr>\n",
       "      <th>42</th>\n",
       "      <td>42 Coin</td>\n",
       "    </tr>\n",
       "    <tr>\n",
       "      <th>404</th>\n",
       "      <td>404Coin</td>\n",
       "    </tr>\n",
       "    <tr>\n",
       "      <th>1337</th>\n",
       "      <td>EliteCoin</td>\n",
       "    </tr>\n",
       "    <tr>\n",
       "      <th>BTC</th>\n",
       "      <td>Bitcoin</td>\n",
       "    </tr>\n",
       "    <tr>\n",
       "      <th>ETH</th>\n",
       "      <td>Ethereum</td>\n",
       "    </tr>\n",
       "    <tr>\n",
       "      <th>...</th>\n",
       "      <td>...</td>\n",
       "    </tr>\n",
       "    <tr>\n",
       "      <th>ZEPH</th>\n",
       "      <td>ZEPHYR</td>\n",
       "    </tr>\n",
       "    <tr>\n",
       "      <th>GAP</th>\n",
       "      <td>Gapcoin</td>\n",
       "    </tr>\n",
       "    <tr>\n",
       "      <th>BDX</th>\n",
       "      <td>Beldex</td>\n",
       "    </tr>\n",
       "    <tr>\n",
       "      <th>ZEN</th>\n",
       "      <td>Horizen</td>\n",
       "    </tr>\n",
       "    <tr>\n",
       "      <th>XBC</th>\n",
       "      <td>BitcoinPlus</td>\n",
       "    </tr>\n",
       "  </tbody>\n",
       "</table>\n",
       "<p>532 rows × 1 columns</p>\n",
       "</div>"
      ],
      "text/plain": [
       "         CoinName\n",
       "42        42 Coin\n",
       "404       404Coin\n",
       "1337    EliteCoin\n",
       "BTC       Bitcoin\n",
       "ETH      Ethereum\n",
       "...           ...\n",
       "ZEPH       ZEPHYR\n",
       "GAP       Gapcoin\n",
       "BDX        Beldex\n",
       "ZEN       Horizen\n",
       "XBC   BitcoinPlus\n",
       "\n",
       "[532 rows x 1 columns]"
      ]
     },
     "execution_count": 100,
     "metadata": {},
     "output_type": "execute_result"
    }
   ],
   "source": [
    "# Create a new DataFrame that holds only the cryptocurrencies names.\n",
    "coin_names = crypto_df.filter([\"CoinName\"], axis=1)\n",
    "\n",
    "coin_names"
   ]
  },
  {
   "cell_type": "code",
   "execution_count": 101,
   "metadata": {},
   "outputs": [
    {
     "data": {
      "text/html": [
       "<div>\n",
       "<style scoped>\n",
       "    .dataframe tbody tr th:only-of-type {\n",
       "        vertical-align: middle;\n",
       "    }\n",
       "\n",
       "    .dataframe tbody tr th {\n",
       "        vertical-align: top;\n",
       "    }\n",
       "\n",
       "    .dataframe thead th {\n",
       "        text-align: right;\n",
       "    }\n",
       "</style>\n",
       "<table border=\"1\" class=\"dataframe\">\n",
       "  <thead>\n",
       "    <tr style=\"text-align: right;\">\n",
       "      <th></th>\n",
       "      <th>Algorithm</th>\n",
       "      <th>ProofType</th>\n",
       "      <th>TotalCoinsMined</th>\n",
       "      <th>TotalCoinSupply</th>\n",
       "    </tr>\n",
       "  </thead>\n",
       "  <tbody>\n",
       "    <tr>\n",
       "      <th>42</th>\n",
       "      <td>Scrypt</td>\n",
       "      <td>PoW/PoS</td>\n",
       "      <td>4.199995e+01</td>\n",
       "      <td>42</td>\n",
       "    </tr>\n",
       "    <tr>\n",
       "      <th>404</th>\n",
       "      <td>Scrypt</td>\n",
       "      <td>PoW/PoS</td>\n",
       "      <td>1.055185e+09</td>\n",
       "      <td>532000000</td>\n",
       "    </tr>\n",
       "    <tr>\n",
       "      <th>1337</th>\n",
       "      <td>X13</td>\n",
       "      <td>PoW/PoS</td>\n",
       "      <td>2.927942e+10</td>\n",
       "      <td>314159265359</td>\n",
       "    </tr>\n",
       "    <tr>\n",
       "      <th>BTC</th>\n",
       "      <td>SHA-256</td>\n",
       "      <td>PoW</td>\n",
       "      <td>1.792718e+07</td>\n",
       "      <td>21000000</td>\n",
       "    </tr>\n",
       "    <tr>\n",
       "      <th>ETH</th>\n",
       "      <td>Ethash</td>\n",
       "      <td>PoW</td>\n",
       "      <td>1.076842e+08</td>\n",
       "      <td>0</td>\n",
       "    </tr>\n",
       "  </tbody>\n",
       "</table>\n",
       "</div>"
      ],
      "text/plain": [
       "     Algorithm ProofType  TotalCoinsMined TotalCoinSupply\n",
       "42      Scrypt   PoW/PoS     4.199995e+01              42\n",
       "404     Scrypt   PoW/PoS     1.055185e+09       532000000\n",
       "1337       X13   PoW/PoS     2.927942e+10    314159265359\n",
       "BTC    SHA-256       PoW     1.792718e+07        21000000\n",
       "ETH     Ethash       PoW     1.076842e+08               0"
      ]
     },
     "execution_count": 101,
     "metadata": {},
     "output_type": "execute_result"
    }
   ],
   "source": [
    "# Drop the 'CoinName' column since it's not going to be used on the clustering algorithm.\n",
    "crypto_df = crypto_df.drop(columns=\"CoinName\", axis=1)\n",
    "\n",
    "crypto_df.head()"
   ]
  },
  {
   "cell_type": "code",
   "execution_count": 102,
   "metadata": {},
   "outputs": [
    {
     "name": "stdout",
     "output_type": "stream",
     "text": [
      "(532, 98)\n"
     ]
    },
    {
     "data": {
      "text/html": [
       "<div>\n",
       "<style scoped>\n",
       "    .dataframe tbody tr th:only-of-type {\n",
       "        vertical-align: middle;\n",
       "    }\n",
       "\n",
       "    .dataframe tbody tr th {\n",
       "        vertical-align: top;\n",
       "    }\n",
       "\n",
       "    .dataframe thead th {\n",
       "        text-align: right;\n",
       "    }\n",
       "</style>\n",
       "<table border=\"1\" class=\"dataframe\">\n",
       "  <thead>\n",
       "    <tr style=\"text-align: right;\">\n",
       "      <th></th>\n",
       "      <th>TotalCoinsMined</th>\n",
       "      <th>TotalCoinSupply</th>\n",
       "      <th>Algorithm_1GB AES Pattern Search</th>\n",
       "      <th>Algorithm_536</th>\n",
       "      <th>Algorithm_Argon2d</th>\n",
       "      <th>Algorithm_BLAKE256</th>\n",
       "      <th>Algorithm_Blake</th>\n",
       "      <th>Algorithm_Blake2S</th>\n",
       "      <th>Algorithm_Blake2b</th>\n",
       "      <th>Algorithm_C11</th>\n",
       "      <th>...</th>\n",
       "      <th>ProofType_PoW/PoS</th>\n",
       "      <th>ProofType_PoW/PoS</th>\n",
       "      <th>ProofType_PoW/PoW</th>\n",
       "      <th>ProofType_PoW/nPoS</th>\n",
       "      <th>ProofType_Pos</th>\n",
       "      <th>ProofType_Proof of Authority</th>\n",
       "      <th>ProofType_Proof of Trust</th>\n",
       "      <th>ProofType_TPoS</th>\n",
       "      <th>ProofType_Zero-Knowledge Proof</th>\n",
       "      <th>ProofType_dPoW/PoW</th>\n",
       "    </tr>\n",
       "  </thead>\n",
       "  <tbody>\n",
       "    <tr>\n",
       "      <th>42</th>\n",
       "      <td>4.199995e+01</td>\n",
       "      <td>42</td>\n",
       "      <td>0</td>\n",
       "      <td>0</td>\n",
       "      <td>0</td>\n",
       "      <td>0</td>\n",
       "      <td>0</td>\n",
       "      <td>0</td>\n",
       "      <td>0</td>\n",
       "      <td>0</td>\n",
       "      <td>...</td>\n",
       "      <td>1</td>\n",
       "      <td>0</td>\n",
       "      <td>0</td>\n",
       "      <td>0</td>\n",
       "      <td>0</td>\n",
       "      <td>0</td>\n",
       "      <td>0</td>\n",
       "      <td>0</td>\n",
       "      <td>0</td>\n",
       "      <td>0</td>\n",
       "    </tr>\n",
       "    <tr>\n",
       "      <th>404</th>\n",
       "      <td>1.055185e+09</td>\n",
       "      <td>532000000</td>\n",
       "      <td>0</td>\n",
       "      <td>0</td>\n",
       "      <td>0</td>\n",
       "      <td>0</td>\n",
       "      <td>0</td>\n",
       "      <td>0</td>\n",
       "      <td>0</td>\n",
       "      <td>0</td>\n",
       "      <td>...</td>\n",
       "      <td>1</td>\n",
       "      <td>0</td>\n",
       "      <td>0</td>\n",
       "      <td>0</td>\n",
       "      <td>0</td>\n",
       "      <td>0</td>\n",
       "      <td>0</td>\n",
       "      <td>0</td>\n",
       "      <td>0</td>\n",
       "      <td>0</td>\n",
       "    </tr>\n",
       "    <tr>\n",
       "      <th>1337</th>\n",
       "      <td>2.927942e+10</td>\n",
       "      <td>314159265359</td>\n",
       "      <td>0</td>\n",
       "      <td>0</td>\n",
       "      <td>0</td>\n",
       "      <td>0</td>\n",
       "      <td>0</td>\n",
       "      <td>0</td>\n",
       "      <td>0</td>\n",
       "      <td>0</td>\n",
       "      <td>...</td>\n",
       "      <td>1</td>\n",
       "      <td>0</td>\n",
       "      <td>0</td>\n",
       "      <td>0</td>\n",
       "      <td>0</td>\n",
       "      <td>0</td>\n",
       "      <td>0</td>\n",
       "      <td>0</td>\n",
       "      <td>0</td>\n",
       "      <td>0</td>\n",
       "    </tr>\n",
       "    <tr>\n",
       "      <th>BTC</th>\n",
       "      <td>1.792718e+07</td>\n",
       "      <td>21000000</td>\n",
       "      <td>0</td>\n",
       "      <td>0</td>\n",
       "      <td>0</td>\n",
       "      <td>0</td>\n",
       "      <td>0</td>\n",
       "      <td>0</td>\n",
       "      <td>0</td>\n",
       "      <td>0</td>\n",
       "      <td>...</td>\n",
       "      <td>0</td>\n",
       "      <td>0</td>\n",
       "      <td>0</td>\n",
       "      <td>0</td>\n",
       "      <td>0</td>\n",
       "      <td>0</td>\n",
       "      <td>0</td>\n",
       "      <td>0</td>\n",
       "      <td>0</td>\n",
       "      <td>0</td>\n",
       "    </tr>\n",
       "    <tr>\n",
       "      <th>ETH</th>\n",
       "      <td>1.076842e+08</td>\n",
       "      <td>0</td>\n",
       "      <td>0</td>\n",
       "      <td>0</td>\n",
       "      <td>0</td>\n",
       "      <td>0</td>\n",
       "      <td>0</td>\n",
       "      <td>0</td>\n",
       "      <td>0</td>\n",
       "      <td>0</td>\n",
       "      <td>...</td>\n",
       "      <td>0</td>\n",
       "      <td>0</td>\n",
       "      <td>0</td>\n",
       "      <td>0</td>\n",
       "      <td>0</td>\n",
       "      <td>0</td>\n",
       "      <td>0</td>\n",
       "      <td>0</td>\n",
       "      <td>0</td>\n",
       "      <td>0</td>\n",
       "    </tr>\n",
       "  </tbody>\n",
       "</table>\n",
       "<p>5 rows × 98 columns</p>\n",
       "</div>"
      ],
      "text/plain": [
       "      TotalCoinsMined TotalCoinSupply  Algorithm_1GB AES Pattern Search  \\\n",
       "42       4.199995e+01              42                                 0   \n",
       "404      1.055185e+09       532000000                                 0   \n",
       "1337     2.927942e+10    314159265359                                 0   \n",
       "BTC      1.792718e+07        21000000                                 0   \n",
       "ETH      1.076842e+08               0                                 0   \n",
       "\n",
       "      Algorithm_536  Algorithm_Argon2d  Algorithm_BLAKE256  Algorithm_Blake  \\\n",
       "42                0                  0                   0                0   \n",
       "404               0                  0                   0                0   \n",
       "1337              0                  0                   0                0   \n",
       "BTC               0                  0                   0                0   \n",
       "ETH               0                  0                   0                0   \n",
       "\n",
       "      Algorithm_Blake2S  Algorithm_Blake2b  Algorithm_C11  ...  \\\n",
       "42                    0                  0              0  ...   \n",
       "404                   0                  0              0  ...   \n",
       "1337                  0                  0              0  ...   \n",
       "BTC                   0                  0              0  ...   \n",
       "ETH                   0                  0              0  ...   \n",
       "\n",
       "      ProofType_PoW/PoS  ProofType_PoW/PoS   ProofType_PoW/PoW  \\\n",
       "42                    1                   0                  0   \n",
       "404                   1                   0                  0   \n",
       "1337                  1                   0                  0   \n",
       "BTC                   0                   0                  0   \n",
       "ETH                   0                   0                  0   \n",
       "\n",
       "      ProofType_PoW/nPoS  ProofType_Pos  ProofType_Proof of Authority  \\\n",
       "42                     0              0                             0   \n",
       "404                    0              0                             0   \n",
       "1337                   0              0                             0   \n",
       "BTC                    0              0                             0   \n",
       "ETH                    0              0                             0   \n",
       "\n",
       "      ProofType_Proof of Trust  ProofType_TPoS  \\\n",
       "42                           0               0   \n",
       "404                          0               0   \n",
       "1337                         0               0   \n",
       "BTC                          0               0   \n",
       "ETH                          0               0   \n",
       "\n",
       "      ProofType_Zero-Knowledge Proof  ProofType_dPoW/PoW  \n",
       "42                                 0                   0  \n",
       "404                                0                   0  \n",
       "1337                               0                   0  \n",
       "BTC                                0                   0  \n",
       "ETH                                0                   0  \n",
       "\n",
       "[5 rows x 98 columns]"
      ]
     },
     "execution_count": 102,
     "metadata": {},
     "output_type": "execute_result"
    }
   ],
   "source": [
    "# Use get_dummies() to create variables for text features.\n",
    "X = pd.get_dummies(crypto_df, columns=[\"Algorithm\",\"ProofType\"])\n",
    "\n",
    "print(X.shape)\n",
    "\n",
    "X.head()"
   ]
  },
  {
   "cell_type": "code",
   "execution_count": 103,
   "metadata": {},
   "outputs": [
    {
     "data": {
      "text/plain": [
       "array([[-0.11710817, -0.1528703 , -0.0433963 , -0.0433963 , -0.0433963 ,\n",
       "        -0.06142951, -0.07530656, -0.0433963 , -0.06142951, -0.06142951,\n",
       "        -0.0433963 , -0.0433963 , -0.19245009, -0.06142951, -0.09740465,\n",
       "        -0.0433963 , -0.11547005, -0.07530656, -0.0433963 , -0.0433963 ,\n",
       "        -0.15191091, -0.0433963 , -0.13118084, -0.0433963 , -0.0433963 ,\n",
       "        -0.08703883, -0.0433963 , -0.0433963 , -0.0433963 , -0.0433963 ,\n",
       "        -0.06142951, -0.0433963 , -0.08703883, -0.08703883, -0.08703883,\n",
       "        -0.0433963 , -0.13118084, -0.13840913, -0.13840913, -0.0433963 ,\n",
       "        -0.06142951, -0.0433963 , -0.07530656, -0.18168574, -0.0433963 ,\n",
       "        -0.0433963 , -0.0433963 , -0.07530656, -0.15826614, -0.31491833,\n",
       "        -0.0433963 , -0.08703883, -0.07530656, -0.06142951,  1.38675049,\n",
       "        -0.0433963 , -0.0433963 , -0.06142951, -0.0433963 , -0.0433963 ,\n",
       "        -0.0433963 , -0.0433963 , -0.0433963 , -0.0433963 , -0.0433963 ,\n",
       "        -0.0433963 , -0.39879994, -0.0433963 , -0.18168574, -0.0433963 ,\n",
       "        -0.08703883, -0.08703883, -0.10680283, -0.0433963 , -0.13118084,\n",
       "        -0.0433963 , -0.0433963 , -0.0433963 , -0.0433963 , -0.07530656,\n",
       "        -0.43911856, -0.0433963 , -0.06142951, -0.0433963 , -0.0433963 ,\n",
       "        -0.89632016, -0.0433963 , -0.0433963 ,  1.42222617, -0.0433963 ,\n",
       "        -0.0433963 , -0.0433963 , -0.0433963 , -0.0433963 , -0.0433963 ,\n",
       "        -0.0433963 , -0.0433963 , -0.0433963 ],\n",
       "       [-0.09396955, -0.145009  , -0.0433963 , -0.0433963 , -0.0433963 ,\n",
       "        -0.06142951, -0.07530656, -0.0433963 , -0.06142951, -0.06142951,\n",
       "        -0.0433963 , -0.0433963 , -0.19245009, -0.06142951, -0.09740465,\n",
       "        -0.0433963 , -0.11547005, -0.07530656, -0.0433963 , -0.0433963 ,\n",
       "        -0.15191091, -0.0433963 , -0.13118084, -0.0433963 , -0.0433963 ,\n",
       "        -0.08703883, -0.0433963 , -0.0433963 , -0.0433963 , -0.0433963 ,\n",
       "        -0.06142951, -0.0433963 , -0.08703883, -0.08703883, -0.08703883,\n",
       "        -0.0433963 , -0.13118084, -0.13840913, -0.13840913, -0.0433963 ,\n",
       "        -0.06142951, -0.0433963 , -0.07530656, -0.18168574, -0.0433963 ,\n",
       "        -0.0433963 , -0.0433963 , -0.07530656, -0.15826614, -0.31491833,\n",
       "        -0.0433963 , -0.08703883, -0.07530656, -0.06142951,  1.38675049,\n",
       "        -0.0433963 , -0.0433963 , -0.06142951, -0.0433963 , -0.0433963 ,\n",
       "        -0.0433963 , -0.0433963 , -0.0433963 , -0.0433963 , -0.0433963 ,\n",
       "        -0.0433963 , -0.39879994, -0.0433963 , -0.18168574, -0.0433963 ,\n",
       "        -0.08703883, -0.08703883, -0.10680283, -0.0433963 , -0.13118084,\n",
       "        -0.0433963 , -0.0433963 , -0.0433963 , -0.0433963 , -0.07530656,\n",
       "        -0.43911856, -0.0433963 , -0.06142951, -0.0433963 , -0.0433963 ,\n",
       "        -0.89632016, -0.0433963 , -0.0433963 ,  1.42222617, -0.0433963 ,\n",
       "        -0.0433963 , -0.0433963 , -0.0433963 , -0.0433963 , -0.0433963 ,\n",
       "        -0.0433963 , -0.0433963 , -0.0433963 ],\n",
       "       [ 0.52494561,  4.48942416, -0.0433963 , -0.0433963 , -0.0433963 ,\n",
       "        -0.06142951, -0.07530656, -0.0433963 , -0.06142951, -0.06142951,\n",
       "        -0.0433963 , -0.0433963 , -0.19245009, -0.06142951, -0.09740465,\n",
       "        -0.0433963 , -0.11547005, -0.07530656, -0.0433963 , -0.0433963 ,\n",
       "        -0.15191091, -0.0433963 , -0.13118084, -0.0433963 , -0.0433963 ,\n",
       "        -0.08703883, -0.0433963 , -0.0433963 , -0.0433963 , -0.0433963 ,\n",
       "        -0.06142951, -0.0433963 , -0.08703883, -0.08703883, -0.08703883,\n",
       "        -0.0433963 , -0.13118084, -0.13840913, -0.13840913, -0.0433963 ,\n",
       "        -0.06142951, -0.0433963 , -0.07530656, -0.18168574, -0.0433963 ,\n",
       "        -0.0433963 , -0.0433963 , -0.07530656, -0.15826614, -0.31491833,\n",
       "        -0.0433963 , -0.08703883, -0.07530656, -0.06142951, -0.72111026,\n",
       "        -0.0433963 , -0.0433963 , -0.06142951, -0.0433963 , -0.0433963 ,\n",
       "        -0.0433963 , -0.0433963 , -0.0433963 , -0.0433963 , -0.0433963 ,\n",
       "        -0.0433963 , -0.39879994, -0.0433963 ,  5.50400923, -0.0433963 ,\n",
       "        -0.08703883, -0.08703883, -0.10680283, -0.0433963 , -0.13118084,\n",
       "        -0.0433963 , -0.0433963 , -0.0433963 , -0.0433963 , -0.07530656,\n",
       "        -0.43911856, -0.0433963 , -0.06142951, -0.0433963 , -0.0433963 ,\n",
       "        -0.89632016, -0.0433963 , -0.0433963 ,  1.42222617, -0.0433963 ,\n",
       "        -0.0433963 , -0.0433963 , -0.0433963 , -0.0433963 , -0.0433963 ,\n",
       "        -0.0433963 , -0.0433963 , -0.0433963 ],\n",
       "       [-0.11671506, -0.15255998, -0.0433963 , -0.0433963 , -0.0433963 ,\n",
       "        -0.06142951, -0.07530656, -0.0433963 , -0.06142951, -0.06142951,\n",
       "        -0.0433963 , -0.0433963 , -0.19245009, -0.06142951, -0.09740465,\n",
       "        -0.0433963 , -0.11547005, -0.07530656, -0.0433963 , -0.0433963 ,\n",
       "        -0.15191091, -0.0433963 , -0.13118084, -0.0433963 , -0.0433963 ,\n",
       "        -0.08703883, -0.0433963 , -0.0433963 , -0.0433963 , -0.0433963 ,\n",
       "        -0.06142951, -0.0433963 , -0.08703883, -0.08703883, -0.08703883,\n",
       "        -0.0433963 , -0.13118084, -0.13840913, -0.13840913, -0.0433963 ,\n",
       "        -0.06142951, -0.0433963 , -0.07530656, -0.18168574, -0.0433963 ,\n",
       "        -0.0433963 , -0.0433963 , -0.07530656, -0.15826614,  3.17542648,\n",
       "        -0.0433963 , -0.08703883, -0.07530656, -0.06142951, -0.72111026,\n",
       "        -0.0433963 , -0.0433963 , -0.06142951, -0.0433963 , -0.0433963 ,\n",
       "        -0.0433963 , -0.0433963 , -0.0433963 , -0.0433963 , -0.0433963 ,\n",
       "        -0.0433963 , -0.39879994, -0.0433963 , -0.18168574, -0.0433963 ,\n",
       "        -0.08703883, -0.08703883, -0.10680283, -0.0433963 , -0.13118084,\n",
       "        -0.0433963 , -0.0433963 , -0.0433963 , -0.0433963 , -0.07530656,\n",
       "        -0.43911856, -0.0433963 , -0.06142951, -0.0433963 , -0.0433963 ,\n",
       "         1.11567277, -0.0433963 , -0.0433963 , -0.70312305, -0.0433963 ,\n",
       "        -0.0433963 , -0.0433963 , -0.0433963 , -0.0433963 , -0.0433963 ,\n",
       "        -0.0433963 , -0.0433963 , -0.0433963 ],\n",
       "       [-0.11474682, -0.1528703 , -0.0433963 , -0.0433963 , -0.0433963 ,\n",
       "        -0.06142951, -0.07530656, -0.0433963 , -0.06142951, -0.06142951,\n",
       "        -0.0433963 , -0.0433963 , -0.19245009, -0.06142951, -0.09740465,\n",
       "        -0.0433963 , -0.11547005, -0.07530656, -0.0433963 , -0.0433963 ,\n",
       "        -0.15191091, -0.0433963 ,  7.62306442, -0.0433963 , -0.0433963 ,\n",
       "        -0.08703883, -0.0433963 , -0.0433963 , -0.0433963 , -0.0433963 ,\n",
       "        -0.06142951, -0.0433963 , -0.08703883, -0.08703883, -0.08703883,\n",
       "        -0.0433963 , -0.13118084, -0.13840913, -0.13840913, -0.0433963 ,\n",
       "        -0.06142951, -0.0433963 , -0.07530656, -0.18168574, -0.0433963 ,\n",
       "        -0.0433963 , -0.0433963 , -0.07530656, -0.15826614, -0.31491833,\n",
       "        -0.0433963 , -0.08703883, -0.07530656, -0.06142951, -0.72111026,\n",
       "        -0.0433963 , -0.0433963 , -0.06142951, -0.0433963 , -0.0433963 ,\n",
       "        -0.0433963 , -0.0433963 , -0.0433963 , -0.0433963 , -0.0433963 ,\n",
       "        -0.0433963 , -0.39879994, -0.0433963 , -0.18168574, -0.0433963 ,\n",
       "        -0.08703883, -0.08703883, -0.10680283, -0.0433963 , -0.13118084,\n",
       "        -0.0433963 , -0.0433963 , -0.0433963 , -0.0433963 , -0.07530656,\n",
       "        -0.43911856, -0.0433963 , -0.06142951, -0.0433963 , -0.0433963 ,\n",
       "         1.11567277, -0.0433963 , -0.0433963 , -0.70312305, -0.0433963 ,\n",
       "        -0.0433963 , -0.0433963 , -0.0433963 , -0.0433963 , -0.0433963 ,\n",
       "        -0.0433963 , -0.0433963 , -0.0433963 ]])"
      ]
     },
     "execution_count": 103,
     "metadata": {},
     "output_type": "execute_result"
    }
   ],
   "source": [
    "# Standardize the data with StandardScaler().\n",
    "scaled_crypto = StandardScaler().fit_transform(X)\n",
    "\n",
    "scaled_crypto[0:5]"
   ]
  },
  {
   "cell_type": "markdown",
   "metadata": {},
   "source": [
    "### Deliverable 2: Reducing Data Dimensions Using PCA"
   ]
  },
  {
   "cell_type": "code",
   "execution_count": 104,
   "metadata": {},
   "outputs": [
    {
     "data": {
      "text/plain": [
       "array([[-0.33259434,  0.99408948, -0.50221635],\n",
       "       [-0.31592551,  0.99431715, -0.50234459],\n",
       "       [ 2.30506655,  1.69860407, -0.58322824],\n",
       "       ...,\n",
       "       [ 0.32060191, -2.29721097,  0.34372271],\n",
       "       [-0.15463178, -1.98509021,  0.40256253],\n",
       "       [-0.28916153,  0.82559794, -0.23642701]])"
      ]
     },
     "execution_count": 104,
     "metadata": {},
     "output_type": "execute_result"
    }
   ],
   "source": [
    "# Using PCA to reduce dimension to three principal components.\n",
    "pca = PCA(n_components=3)\n",
    "crypto_pca = pca.fit_transform(scaled_crypto)\n",
    "crypto_pca"
   ]
  },
  {
   "cell_type": "code",
   "execution_count": 105,
   "metadata": {},
   "outputs": [
    {
     "data": {
      "text/html": [
       "<div>\n",
       "<style scoped>\n",
       "    .dataframe tbody tr th:only-of-type {\n",
       "        vertical-align: middle;\n",
       "    }\n",
       "\n",
       "    .dataframe tbody tr th {\n",
       "        vertical-align: top;\n",
       "    }\n",
       "\n",
       "    .dataframe thead th {\n",
       "        text-align: right;\n",
       "    }\n",
       "</style>\n",
       "<table border=\"1\" class=\"dataframe\">\n",
       "  <thead>\n",
       "    <tr style=\"text-align: right;\">\n",
       "      <th></th>\n",
       "      <th>PC 1</th>\n",
       "      <th>PC 2</th>\n",
       "      <th>PC 3</th>\n",
       "    </tr>\n",
       "  </thead>\n",
       "  <tbody>\n",
       "    <tr>\n",
       "      <th>42</th>\n",
       "      <td>-0.332594</td>\n",
       "      <td>0.994089</td>\n",
       "      <td>-0.502216</td>\n",
       "    </tr>\n",
       "    <tr>\n",
       "      <th>404</th>\n",
       "      <td>-0.315926</td>\n",
       "      <td>0.994317</td>\n",
       "      <td>-0.502345</td>\n",
       "    </tr>\n",
       "    <tr>\n",
       "      <th>1337</th>\n",
       "      <td>2.305067</td>\n",
       "      <td>1.698604</td>\n",
       "      <td>-0.583228</td>\n",
       "    </tr>\n",
       "    <tr>\n",
       "      <th>BTC</th>\n",
       "      <td>-0.143181</td>\n",
       "      <td>-1.283138</td>\n",
       "      <td>0.175711</td>\n",
       "    </tr>\n",
       "    <tr>\n",
       "      <th>ETH</th>\n",
       "      <td>-0.148425</td>\n",
       "      <td>-1.987071</td>\n",
       "      <td>0.365830</td>\n",
       "    </tr>\n",
       "    <tr>\n",
       "      <th>...</th>\n",
       "      <td>...</td>\n",
       "      <td>...</td>\n",
       "      <td>...</td>\n",
       "    </tr>\n",
       "    <tr>\n",
       "      <th>ZEPH</th>\n",
       "      <td>2.473245</td>\n",
       "      <td>0.722173</td>\n",
       "      <td>0.234928</td>\n",
       "    </tr>\n",
       "    <tr>\n",
       "      <th>GAP</th>\n",
       "      <td>-0.330640</td>\n",
       "      <td>0.993986</td>\n",
       "      <td>-0.502232</td>\n",
       "    </tr>\n",
       "    <tr>\n",
       "      <th>BDX</th>\n",
       "      <td>0.320602</td>\n",
       "      <td>-2.297211</td>\n",
       "      <td>0.343723</td>\n",
       "    </tr>\n",
       "    <tr>\n",
       "      <th>ZEN</th>\n",
       "      <td>-0.154632</td>\n",
       "      <td>-1.985090</td>\n",
       "      <td>0.402563</td>\n",
       "    </tr>\n",
       "    <tr>\n",
       "      <th>XBC</th>\n",
       "      <td>-0.289162</td>\n",
       "      <td>0.825598</td>\n",
       "      <td>-0.236427</td>\n",
       "    </tr>\n",
       "  </tbody>\n",
       "</table>\n",
       "<p>532 rows × 3 columns</p>\n",
       "</div>"
      ],
      "text/plain": [
       "          PC 1      PC 2      PC 3\n",
       "42   -0.332594  0.994089 -0.502216\n",
       "404  -0.315926  0.994317 -0.502345\n",
       "1337  2.305067  1.698604 -0.583228\n",
       "BTC  -0.143181 -1.283138  0.175711\n",
       "ETH  -0.148425 -1.987071  0.365830\n",
       "...        ...       ...       ...\n",
       "ZEPH  2.473245  0.722173  0.234928\n",
       "GAP  -0.330640  0.993986 -0.502232\n",
       "BDX   0.320602 -2.297211  0.343723\n",
       "ZEN  -0.154632 -1.985090  0.402563\n",
       "XBC  -0.289162  0.825598 -0.236427\n",
       "\n",
       "[532 rows x 3 columns]"
      ]
     },
     "execution_count": 105,
     "metadata": {},
     "output_type": "execute_result"
    }
   ],
   "source": [
    "# Create a DataFrame with the three principal components.\n",
    "crypto_pca_df = pd.DataFrame(\n",
    "data=crypto_pca, columns=[\"PC 1\", \"PC 2\", \"PC 3\"], index = crypto_df.index)\n",
    "crypto_pca_df"
   ]
  },
  {
   "cell_type": "markdown",
   "metadata": {},
   "source": [
    "### Deliverable 3: Clustering Crytocurrencies Using K-Means\n",
    "\n",
    "#### Finding the Best Value for `k` Using the Elbow Curve"
   ]
  },
  {
   "cell_type": "code",
   "execution_count": 106,
   "metadata": {},
   "outputs": [
    {
     "data": {},
     "metadata": {},
     "output_type": "display_data"
    },
    {
     "data": {
      "application/vnd.holoviews_exec.v0+json": "",
      "text/html": [
       "<div id='2032'>\n",
       "\n",
       "\n",
       "\n",
       "\n",
       "\n",
       "  <div class=\"bk-root\" id=\"5e5e7370-2b8a-4351-8bd7-76d7799e9c2c\" data-root-id=\"2032\"></div>\n",
       "</div>\n",
       "<script type=\"application/javascript\">(function(root) {\n",
       "  function embed_document(root) {\n",
       "    var docs_json = {\"fbfdfd25-4d13-46ad-80c9-8d238db2d01b\":{\"defs\":[{\"extends\":null,\"module\":null,\"name\":\"ReactiveHTML1\",\"overrides\":[],\"properties\":[]},{\"extends\":null,\"module\":null,\"name\":\"FlexBox1\",\"overrides\":[],\"properties\":[{\"default\":\"flex-start\",\"kind\":null,\"name\":\"align_content\"},{\"default\":\"flex-start\",\"kind\":null,\"name\":\"align_items\"},{\"default\":\"row\",\"kind\":null,\"name\":\"flex_direction\"},{\"default\":\"wrap\",\"kind\":null,\"name\":\"flex_wrap\"},{\"default\":\"flex-start\",\"kind\":null,\"name\":\"justify_content\"}]},{\"extends\":null,\"module\":null,\"name\":\"GridStack1\",\"overrides\":[],\"properties\":[{\"default\":\"warn\",\"kind\":null,\"name\":\"mode\"},{\"default\":null,\"kind\":null,\"name\":\"ncols\"},{\"default\":null,\"kind\":null,\"name\":\"nrows\"},{\"default\":true,\"kind\":null,\"name\":\"allow_resize\"},{\"default\":true,\"kind\":null,\"name\":\"allow_drag\"},{\"default\":[],\"kind\":null,\"name\":\"state\"}]},{\"extends\":null,\"module\":null,\"name\":\"click1\",\"overrides\":[],\"properties\":[{\"default\":\"\",\"kind\":null,\"name\":\"terminal_output\"},{\"default\":\"\",\"kind\":null,\"name\":\"debug_name\"},{\"default\":0,\"kind\":null,\"name\":\"clears\"}]},{\"extends\":null,\"module\":null,\"name\":\"TemplateActions1\",\"overrides\":[],\"properties\":[{\"default\":0,\"kind\":null,\"name\":\"open_modal\"},{\"default\":0,\"kind\":null,\"name\":\"close_modal\"}]},{\"extends\":null,\"module\":null,\"name\":\"MaterialTemplateActions1\",\"overrides\":[],\"properties\":[{\"default\":0,\"kind\":null,\"name\":\"open_modal\"},{\"default\":0,\"kind\":null,\"name\":\"close_modal\"}]}],\"roots\":{\"references\":[{\"attributes\":{\"line_color\":\"#30a2da\",\"line_width\":2,\"x\":{\"field\":\"k\"},\"y\":{\"field\":\"inertia\"}},\"id\":\"2075\",\"type\":\"Line\"},{\"attributes\":{\"axis\":{\"id\":\"2046\"},\"coordinates\":null,\"grid_line_color\":null,\"group\":null,\"ticker\":null},\"id\":\"2049\",\"type\":\"Grid\"},{\"attributes\":{\"end\":10.0,\"reset_end\":10.0,\"reset_start\":1.0,\"start\":1.0,\"tags\":[[[\"k\",\"k\",null]]]},\"id\":\"2034\",\"type\":\"Range1d\"},{\"attributes\":{},\"id\":\"2042\",\"type\":\"LinearScale\"},{\"attributes\":{\"axis\":{\"id\":\"2050\"},\"coordinates\":null,\"dimension\":1,\"grid_line_color\":null,\"group\":null,\"ticker\":null},\"id\":\"2053\",\"type\":\"Grid\"},{\"attributes\":{},\"id\":\"2051\",\"type\":\"BasicTicker\"},{\"attributes\":{\"axis_label\":\"inertia\",\"coordinates\":null,\"formatter\":{\"id\":\"2083\"},\"group\":null,\"major_label_policy\":{\"id\":\"2084\"},\"ticker\":{\"id\":\"2051\"}},\"id\":\"2050\",\"type\":\"LinearAxis\"},{\"attributes\":{\"coordinates\":null,\"data_source\":{\"id\":\"2067\"},\"glyph\":{\"id\":\"2070\"},\"group\":null,\"hover_glyph\":null,\"muted_glyph\":{\"id\":\"2072\"},\"nonselection_glyph\":{\"id\":\"2071\"},\"selection_glyph\":{\"id\":\"2075\"},\"view\":{\"id\":\"2074\"}},\"id\":\"2073\",\"type\":\"GlyphRenderer\"},{\"attributes\":{\"line_alpha\":0.1,\"line_color\":\"#30a2da\",\"line_width\":2,\"x\":{\"field\":\"k\"},\"y\":{\"field\":\"inertia\"}},\"id\":\"2071\",\"type\":\"Line\"},{\"attributes\":{\"line_alpha\":0.2,\"line_color\":\"#30a2da\",\"line_width\":2,\"x\":{\"field\":\"k\"},\"y\":{\"field\":\"inertia\"}},\"id\":\"2072\",\"type\":\"Line\"},{\"attributes\":{\"end\":3992.644140541997,\"reset_end\":3992.644140541997,\"reset_start\":-235.47112286893955,\"start\":-235.47112286893955,\"tags\":[[[\"inertia\",\"inertia\",null]]]},\"id\":\"2035\",\"type\":\"Range1d\"},{\"attributes\":{\"source\":{\"id\":\"2067\"}},\"id\":\"2074\",\"type\":\"CDSView\"},{\"attributes\":{},\"id\":\"2084\",\"type\":\"AllLabels\"},{\"attributes\":{},\"id\":\"2078\",\"type\":\"BasicTickFormatter\"},{\"attributes\":{},\"id\":\"2079\",\"type\":\"AllLabels\"},{\"attributes\":{},\"id\":\"2054\",\"type\":\"SaveTool\"},{\"attributes\":{},\"id\":\"2091\",\"type\":\"UnionRenderers\"},{\"attributes\":{\"callback\":null,\"renderers\":[{\"id\":\"2073\"}],\"tags\":[\"hv_created\"],\"tooltips\":[[\"k\",\"@{k}\"],[\"inertia\",\"@{inertia}\"]]},\"id\":\"2036\",\"type\":\"HoverTool\"},{\"attributes\":{},\"id\":\"2055\",\"type\":\"PanTool\"},{\"attributes\":{\"ticks\":[1,2,3,4,5,6,7,8,9,10]},\"id\":\"2076\",\"type\":\"FixedTicker\"},{\"attributes\":{},\"id\":\"2056\",\"type\":\"WheelZoomTool\"},{\"attributes\":{\"below\":[{\"id\":\"2046\"}],\"center\":[{\"id\":\"2049\"},{\"id\":\"2053\"}],\"height\":300,\"left\":[{\"id\":\"2050\"}],\"margin\":[5,5,5,5],\"min_border_bottom\":10,\"min_border_left\":10,\"min_border_right\":10,\"min_border_top\":10,\"renderers\":[{\"id\":\"2073\"}],\"sizing_mode\":\"fixed\",\"title\":{\"id\":\"2038\"},\"toolbar\":{\"id\":\"2060\"},\"width\":700,\"x_range\":{\"id\":\"2034\"},\"x_scale\":{\"id\":\"2042\"},\"y_range\":{\"id\":\"2035\"},\"y_scale\":{\"id\":\"2044\"}},\"id\":\"2037\",\"subtype\":\"Figure\",\"type\":\"Plot\"},{\"attributes\":{\"margin\":[5,5,5,5],\"name\":\"HSpacer03682\",\"sizing_mode\":\"stretch_width\"},\"id\":\"2033\",\"type\":\"Spacer\"},{\"attributes\":{\"tools\":[{\"id\":\"2036\"},{\"id\":\"2054\"},{\"id\":\"2055\"},{\"id\":\"2056\"},{\"id\":\"2057\"},{\"id\":\"2058\"}]},\"id\":\"2060\",\"type\":\"Toolbar\"},{\"attributes\":{\"children\":[{\"id\":\"2033\"},{\"id\":\"2037\"},{\"id\":\"2103\"}],\"margin\":[0,0,0,0],\"name\":\"Row03678\",\"tags\":[\"embedded\"]},\"id\":\"2032\",\"type\":\"Row\"},{\"attributes\":{\"overlay\":{\"id\":\"2059\"}},\"id\":\"2057\",\"type\":\"BoxZoomTool\"},{\"attributes\":{},\"id\":\"2068\",\"type\":\"Selection\"},{\"attributes\":{\"data\":{\"inertia\":{\"__ndarray__\":\"vn0jN5pwrEBhJUgFrVSjQBYSRh1dUJdA+K8fAnmGgEDiPOTZ5kl1QKOdG98XnHFAM0a5gtIvbUDUlqiLSIhoQKOmZC21b2NAkiJI1Ms3XUA=\",\"dtype\":\"float64\",\"order\":\"little\",\"shape\":[10]},\"k\":[1,2,3,4,5,6,7,8,9,10]},\"selected\":{\"id\":\"2068\"},\"selection_policy\":{\"id\":\"2091\"}},\"id\":\"2067\",\"type\":\"ColumnDataSource\"},{\"attributes\":{},\"id\":\"2083\",\"type\":\"BasicTickFormatter\"},{\"attributes\":{\"line_color\":\"#30a2da\",\"line_width\":2,\"x\":{\"field\":\"k\"},\"y\":{\"field\":\"inertia\"}},\"id\":\"2070\",\"type\":\"Line\"},{\"attributes\":{},\"id\":\"2058\",\"type\":\"ResetTool\"},{\"attributes\":{},\"id\":\"2044\",\"type\":\"LinearScale\"},{\"attributes\":{\"coordinates\":null,\"group\":null,\"text\":\"Elbow Curve\",\"text_color\":\"black\",\"text_font_size\":\"12pt\"},\"id\":\"2038\",\"type\":\"Title\"},{\"attributes\":{\"bottom_units\":\"screen\",\"coordinates\":null,\"fill_alpha\":0.5,\"fill_color\":\"lightgrey\",\"group\":null,\"left_units\":\"screen\",\"level\":\"overlay\",\"line_alpha\":1.0,\"line_color\":\"black\",\"line_dash\":[4,4],\"line_width\":2,\"right_units\":\"screen\",\"syncable\":false,\"top_units\":\"screen\"},\"id\":\"2059\",\"type\":\"BoxAnnotation\"},{\"attributes\":{\"margin\":[5,5,5,5],\"name\":\"HSpacer03683\",\"sizing_mode\":\"stretch_width\"},\"id\":\"2103\",\"type\":\"Spacer\"},{\"attributes\":{\"axis_label\":\"k\",\"coordinates\":null,\"formatter\":{\"id\":\"2078\"},\"group\":null,\"major_label_policy\":{\"id\":\"2079\"},\"ticker\":{\"id\":\"2076\"}},\"id\":\"2046\",\"type\":\"LinearAxis\"}],\"root_ids\":[\"2032\"]},\"title\":\"Bokeh Application\",\"version\":\"2.4.2\"}};\n",
       "    var render_items = [{\"docid\":\"fbfdfd25-4d13-46ad-80c9-8d238db2d01b\",\"root_ids\":[\"2032\"],\"roots\":{\"2032\":\"5e5e7370-2b8a-4351-8bd7-76d7799e9c2c\"}}];\n",
       "    root.Bokeh.embed.embed_items_notebook(docs_json, render_items);\n",
       "  }\n",
       "  if (root.Bokeh !== undefined && root.Bokeh.Panel !== undefined) {\n",
       "    embed_document(root);\n",
       "  } else {\n",
       "    var attempts = 0;\n",
       "    var timer = setInterval(function(root) {\n",
       "      if (root.Bokeh !== undefined && root.Bokeh.Panel !== undefined) {\n",
       "        clearInterval(timer);\n",
       "        embed_document(root);\n",
       "      } else if (document.readyState == \"complete\") {\n",
       "        attempts++;\n",
       "        if (attempts > 200) {\n",
       "          clearInterval(timer);\n",
       "          console.log(\"Bokeh: ERROR: Unable to run BokehJS code because BokehJS library is missing\");\n",
       "        }\n",
       "      }\n",
       "    }, 25, root)\n",
       "  }\n",
       "})(window);</script>"
      ],
      "text/plain": [
       ":Curve   [k]   (inertia)"
      ]
     },
     "execution_count": 106,
     "metadata": {
      "application/vnd.holoviews_exec.v0+json": {
       "id": "2032"
      }
     },
     "output_type": "execute_result"
    }
   ],
   "source": [
    "# Create an elbow curve to find the best value for K.\n",
    "inertia = []\n",
    "k = list(range(1, 11))\n",
    "\n",
    "# Calculate the inertia for the range of K values\n",
    "for i in k:\n",
    "    km = KMeans(n_clusters=i, random_state=0)\n",
    "    km.fit(crypto_pca_df)\n",
    "    inertia.append(km.inertia_)\n",
    "\n",
    "# Create the elbow curve\n",
    "elbow_data = {\"k\": k, \"inertia\": inertia}\n",
    "df_elbow = pd.DataFrame(elbow_data)\n",
    "df_elbow.hvplot.line(x=\"k\", y=\"inertia\", xticks=k, title=\"Elbow Curve\")"
   ]
  },
  {
   "cell_type": "markdown",
   "metadata": {},
   "source": [
    "Running K-Means with `k=4`"
   ]
  },
  {
   "cell_type": "code",
   "execution_count": 107,
   "metadata": {},
   "outputs": [
    {
     "data": {
      "text/plain": [
       "array([0, 0, 0, 1, 1, 1, 0, 1, 1, 1, 0, 1, 0, 0, 1, 0, 1, 1, 0, 0, 1, 1,\n",
       "       1, 1, 1, 0, 1, 1, 1, 0, 1, 0, 1, 1, 0, 0, 1, 1, 1, 1, 1, 1, 0, 0,\n",
       "       1, 1, 1, 1, 1, 0, 0, 1, 0, 1, 1, 1, 1, 0, 1, 1, 0, 1, 0, 0, 0, 1,\n",
       "       1, 1, 0, 0, 0, 0, 0, 1, 1, 1, 0, 0, 1, 0, 1, 0, 0, 1, 1, 1, 1, 0,\n",
       "       0, 1, 0, 1, 1, 0, 0, 1, 0, 0, 1, 1, 0, 0, 1, 0, 0, 1, 0, 1, 0, 1,\n",
       "       0, 1, 0, 0, 1, 1, 0, 1, 1, 1, 0, 1, 1, 1, 1, 1, 0, 0, 1, 1, 1, 0,\n",
       "       1, 0, 1, 1, 0, 1, 0, 1, 0, 0, 1, 1, 0, 1, 1, 0, 0, 1, 0, 1, 0, 0,\n",
       "       0, 1, 1, 1, 1, 0, 0, 0, 0, 0, 1, 1, 0, 0, 0, 0, 0, 1, 0, 0, 0, 0,\n",
       "       0, 1, 0, 1, 0, 0, 1, 0, 1, 0, 0, 1, 0, 1, 0, 1, 0, 1, 0, 0, 0, 0,\n",
       "       1, 0, 0, 0, 0, 0, 1, 1, 0, 0, 1, 1, 0, 0, 0, 0, 0, 1, 0, 0, 0, 0,\n",
       "       0, 0, 0, 0, 1, 0, 0, 0, 0, 0, 0, 1, 1, 1, 0, 0, 0, 0, 1, 0, 1, 0,\n",
       "       0, 1, 0, 1, 1, 0, 1, 1, 0, 1, 0, 0, 0, 1, 0, 0, 1, 0, 0, 0, 0, 0,\n",
       "       0, 0, 1, 0, 1, 0, 0, 0, 0, 1, 0, 1, 0, 1, 1, 1, 1, 0, 1, 0, 0, 1,\n",
       "       0, 1, 1, 1, 0, 1, 0, 1, 1, 1, 0, 1, 0, 1, 0, 0, 0, 1, 0, 1, 1, 1,\n",
       "       1, 1, 0, 0, 1, 0, 0, 0, 1, 0, 1, 0, 1, 0, 1, 0, 0, 0, 0, 1, 0, 0,\n",
       "       1, 0, 0, 0, 1, 1, 1, 1, 0, 0, 0, 0, 1, 0, 1, 1, 1, 0, 0, 1, 1, 0,\n",
       "       0, 1, 0, 1, 1, 1, 0, 1, 1, 0, 0, 0, 1, 1, 1, 0, 0, 0, 1, 1, 0, 1,\n",
       "       1, 1, 1, 0, 3, 3, 1, 1, 1, 0, 3, 0, 0, 0, 0, 1, 1, 1, 1, 0, 0, 0,\n",
       "       1, 0, 1, 0, 0, 0, 0, 1, 0, 0, 1, 0, 0, 1, 1, 0, 1, 0, 1, 1, 1, 1,\n",
       "       0, 0, 1, 0, 1, 0, 0, 0, 0, 0, 0, 1, 1, 1, 0, 0, 0, 0, 0, 0, 1, 0,\n",
       "       1, 1, 1, 1, 0, 0, 0, 0, 1, 0, 0, 1, 0, 0, 1, 3, 1, 0, 1, 1, 0, 0,\n",
       "       1, 0, 1, 1, 0, 1, 1, 0, 1, 0, 1, 0, 0, 1, 0, 0, 0, 0, 0, 1, 1, 1,\n",
       "       0, 0, 0, 1, 0, 1, 0, 1, 0, 0, 0, 0, 1, 0, 0, 0, 1, 0, 1, 0, 1, 0,\n",
       "       0, 0, 1, 1, 0, 0, 0, 0, 0, 0, 1, 0, 1, 0, 1, 0, 0, 3, 0, 2, 0, 0,\n",
       "       0, 1, 1, 0], dtype=int32)"
      ]
     },
     "execution_count": 107,
     "metadata": {},
     "output_type": "execute_result"
    }
   ],
   "source": [
    "# Initialize the K-means model\n",
    "model = KMeans(n_clusters=4, random_state=0)\n",
    "\n",
    "# Fit the model\n",
    "model.fit(crypto_pca_df)\n",
    "\n",
    "# Predict clusters\n",
    "predictions = model.predict(crypto_pca_df)\n",
    "\n",
    "predictions"
   ]
  },
  {
   "cell_type": "code",
   "execution_count": 108,
   "metadata": {},
   "outputs": [
    {
     "name": "stdout",
     "output_type": "stream",
     "text": [
      "(532, 9)\n"
     ]
    },
    {
     "data": {
      "text/html": [
       "<div>\n",
       "<style scoped>\n",
       "    .dataframe tbody tr th:only-of-type {\n",
       "        vertical-align: middle;\n",
       "    }\n",
       "\n",
       "    .dataframe tbody tr th {\n",
       "        vertical-align: top;\n",
       "    }\n",
       "\n",
       "    .dataframe thead th {\n",
       "        text-align: right;\n",
       "    }\n",
       "</style>\n",
       "<table border=\"1\" class=\"dataframe\">\n",
       "  <thead>\n",
       "    <tr style=\"text-align: right;\">\n",
       "      <th></th>\n",
       "      <th>Algorithm</th>\n",
       "      <th>ProofType</th>\n",
       "      <th>TotalCoinsMined</th>\n",
       "      <th>TotalCoinSupply</th>\n",
       "      <th>PC 1</th>\n",
       "      <th>PC 2</th>\n",
       "      <th>PC 3</th>\n",
       "      <th>CoinName</th>\n",
       "      <th>Class</th>\n",
       "    </tr>\n",
       "  </thead>\n",
       "  <tbody>\n",
       "    <tr>\n",
       "      <th>42</th>\n",
       "      <td>Scrypt</td>\n",
       "      <td>PoW/PoS</td>\n",
       "      <td>4.199995e+01</td>\n",
       "      <td>42</td>\n",
       "      <td>-0.332594</td>\n",
       "      <td>0.994089</td>\n",
       "      <td>-0.502216</td>\n",
       "      <td>42 Coin</td>\n",
       "      <td>0</td>\n",
       "    </tr>\n",
       "    <tr>\n",
       "      <th>404</th>\n",
       "      <td>Scrypt</td>\n",
       "      <td>PoW/PoS</td>\n",
       "      <td>1.055185e+09</td>\n",
       "      <td>532000000</td>\n",
       "      <td>-0.315926</td>\n",
       "      <td>0.994317</td>\n",
       "      <td>-0.502345</td>\n",
       "      <td>404Coin</td>\n",
       "      <td>0</td>\n",
       "    </tr>\n",
       "    <tr>\n",
       "      <th>1337</th>\n",
       "      <td>X13</td>\n",
       "      <td>PoW/PoS</td>\n",
       "      <td>2.927942e+10</td>\n",
       "      <td>314159265359</td>\n",
       "      <td>2.305067</td>\n",
       "      <td>1.698604</td>\n",
       "      <td>-0.583228</td>\n",
       "      <td>EliteCoin</td>\n",
       "      <td>0</td>\n",
       "    </tr>\n",
       "    <tr>\n",
       "      <th>BTC</th>\n",
       "      <td>SHA-256</td>\n",
       "      <td>PoW</td>\n",
       "      <td>1.792718e+07</td>\n",
       "      <td>21000000</td>\n",
       "      <td>-0.143181</td>\n",
       "      <td>-1.283138</td>\n",
       "      <td>0.175711</td>\n",
       "      <td>Bitcoin</td>\n",
       "      <td>1</td>\n",
       "    </tr>\n",
       "    <tr>\n",
       "      <th>ETH</th>\n",
       "      <td>Ethash</td>\n",
       "      <td>PoW</td>\n",
       "      <td>1.076842e+08</td>\n",
       "      <td>0</td>\n",
       "      <td>-0.148425</td>\n",
       "      <td>-1.987071</td>\n",
       "      <td>0.365830</td>\n",
       "      <td>Ethereum</td>\n",
       "      <td>1</td>\n",
       "    </tr>\n",
       "    <tr>\n",
       "      <th>LTC</th>\n",
       "      <td>Scrypt</td>\n",
       "      <td>PoW</td>\n",
       "      <td>6.303924e+07</td>\n",
       "      <td>84000000</td>\n",
       "      <td>-0.164308</td>\n",
       "      <td>-1.148276</td>\n",
       "      <td>-0.004613</td>\n",
       "      <td>Litecoin</td>\n",
       "      <td>1</td>\n",
       "    </tr>\n",
       "    <tr>\n",
       "      <th>DASH</th>\n",
       "      <td>X11</td>\n",
       "      <td>PoW/PoS</td>\n",
       "      <td>9.031294e+06</td>\n",
       "      <td>22000000</td>\n",
       "      <td>-0.395067</td>\n",
       "      <td>1.227788</td>\n",
       "      <td>-0.479473</td>\n",
       "      <td>Dash</td>\n",
       "      <td>0</td>\n",
       "    </tr>\n",
       "    <tr>\n",
       "      <th>XMR</th>\n",
       "      <td>CryptoNight-V7</td>\n",
       "      <td>PoW</td>\n",
       "      <td>1.720114e+07</td>\n",
       "      <td>0</td>\n",
       "      <td>-0.149699</td>\n",
       "      <td>-2.173150</td>\n",
       "      <td>0.350879</td>\n",
       "      <td>Monero</td>\n",
       "      <td>1</td>\n",
       "    </tr>\n",
       "    <tr>\n",
       "      <th>ETC</th>\n",
       "      <td>Ethash</td>\n",
       "      <td>PoW</td>\n",
       "      <td>1.133597e+08</td>\n",
       "      <td>210000000</td>\n",
       "      <td>-0.146867</td>\n",
       "      <td>-1.987160</td>\n",
       "      <td>0.365817</td>\n",
       "      <td>Ethereum Classic</td>\n",
       "      <td>1</td>\n",
       "    </tr>\n",
       "    <tr>\n",
       "      <th>ZEC</th>\n",
       "      <td>Equihash</td>\n",
       "      <td>PoW</td>\n",
       "      <td>7.383056e+06</td>\n",
       "      <td>21000000</td>\n",
       "      <td>-0.154631</td>\n",
       "      <td>-1.985090</td>\n",
       "      <td>0.402563</td>\n",
       "      <td>ZCash</td>\n",
       "      <td>1</td>\n",
       "    </tr>\n",
       "  </tbody>\n",
       "</table>\n",
       "</div>"
      ],
      "text/plain": [
       "           Algorithm ProofType  TotalCoinsMined TotalCoinSupply      PC 1  \\\n",
       "42            Scrypt   PoW/PoS     4.199995e+01              42 -0.332594   \n",
       "404           Scrypt   PoW/PoS     1.055185e+09       532000000 -0.315926   \n",
       "1337             X13   PoW/PoS     2.927942e+10    314159265359  2.305067   \n",
       "BTC          SHA-256       PoW     1.792718e+07        21000000 -0.143181   \n",
       "ETH           Ethash       PoW     1.076842e+08               0 -0.148425   \n",
       "LTC           Scrypt       PoW     6.303924e+07        84000000 -0.164308   \n",
       "DASH             X11   PoW/PoS     9.031294e+06        22000000 -0.395067   \n",
       "XMR   CryptoNight-V7       PoW     1.720114e+07               0 -0.149699   \n",
       "ETC           Ethash       PoW     1.133597e+08       210000000 -0.146867   \n",
       "ZEC         Equihash       PoW     7.383056e+06        21000000 -0.154631   \n",
       "\n",
       "          PC 2      PC 3          CoinName  Class  \n",
       "42    0.994089 -0.502216           42 Coin      0  \n",
       "404   0.994317 -0.502345           404Coin      0  \n",
       "1337  1.698604 -0.583228         EliteCoin      0  \n",
       "BTC  -1.283138  0.175711           Bitcoin      1  \n",
       "ETH  -1.987071  0.365830          Ethereum      1  \n",
       "LTC  -1.148276 -0.004613          Litecoin      1  \n",
       "DASH  1.227788 -0.479473              Dash      0  \n",
       "XMR  -2.173150  0.350879            Monero      1  \n",
       "ETC  -1.987160  0.365817  Ethereum Classic      1  \n",
       "ZEC  -1.985090  0.402563             ZCash      1  "
      ]
     },
     "execution_count": 108,
     "metadata": {},
     "output_type": "execute_result"
    }
   ],
   "source": [
    "# Create a new DataFrame including predicted clusters and cryptocurrencies features.\n",
    "# Concatentate the crypto_df and pcs_df DataFrames on the same columns.\n",
    "clustered_df = pd.concat([crypto_df,crypto_pca_df], axis=1)\n",
    "\n",
    "#  Add a new column, \"CoinName\" to the clustered_df DataFrame that holds the names of the cryptocurrencies. \n",
    "clustered_df[\"CoinName\"] = coin_names[\"CoinName\"]\n",
    "\n",
    "#  Add a new column, \"Class\" to the clustered_df DataFrame that holds the predictions.\n",
    "clustered_df[\"Class\"] = model.labels_\n",
    "\n",
    "# Print the shape of the clustered_df\n",
    "print(clustered_df.shape)\n",
    "clustered_df.head(10)"
   ]
  },
  {
   "cell_type": "markdown",
   "metadata": {},
   "source": [
    "### Deliverable 4: Visualizing Cryptocurrencies Results\n",
    "\n",
    "#### 3D-Scatter with Clusters"
   ]
  },
  {
   "cell_type": "code",
   "execution_count": 109,
   "metadata": {},
   "outputs": [
    {
     "data": {
      "application/vnd.plotly.v1+json": {
       "config": {
        "plotlyServerURL": "https://plot.ly"
       },
       "data": [
        {
         "customdata": [
          [
           "Scrypt"
          ],
          [
           "Scrypt"
          ],
          [
           "X13"
          ],
          [
           "X11"
          ],
          [
           "SHA-512"
          ],
          [
           "SHA-256"
          ],
          [
           "SHA-256"
          ],
          [
           "X15"
          ],
          [
           "Scrypt"
          ],
          [
           "Scrypt"
          ],
          [
           "Scrypt"
          ],
          [
           "Scrypt"
          ],
          [
           "Scrypt"
          ],
          [
           "Scrypt"
          ],
          [
           "Groestl"
          ],
          [
           "PoS"
          ],
          [
           "Scrypt"
          ],
          [
           "Scrypt"
          ],
          [
           "X11"
          ],
          [
           "X11"
          ],
          [
           "SHA3"
          ],
          [
           "Scrypt"
          ],
          [
           "SHA-256"
          ],
          [
           "Scrypt"
          ],
          [
           "X13"
          ],
          [
           "X13"
          ],
          [
           "NeoScrypt"
          ],
          [
           "Scrypt"
          ],
          [
           "Scrypt"
          ],
          [
           "Scrypt"
          ],
          [
           "X11"
          ],
          [
           "X11"
          ],
          [
           "Multiple"
          ],
          [
           "PHI1612"
          ],
          [
           "X11"
          ],
          [
           "Scrypt"
          ],
          [
           "Scrypt"
          ],
          [
           "Scrypt"
          ],
          [
           "X11"
          ],
          [
           "Multiple"
          ],
          [
           "X13"
          ],
          [
           "Scrypt"
          ],
          [
           "Shabal256"
          ],
          [
           "Counterparty"
          ],
          [
           "SHA-256"
          ],
          [
           "Groestl"
          ],
          [
           "Scrypt"
          ],
          [
           "X13"
          ],
          [
           "Scrypt"
          ],
          [
           "Scrypt"
          ],
          [
           "X13"
          ],
          [
           "X11"
          ],
          [
           "Scrypt"
          ],
          [
           "X11"
          ],
          [
           "SHA3"
          ],
          [
           "QUAIT"
          ],
          [
           "X11"
          ],
          [
           "Scrypt"
          ],
          [
           "X13"
          ],
          [
           "SHA-256"
          ],
          [
           "X15"
          ],
          [
           "BLAKE256"
          ],
          [
           "SHA-256"
          ],
          [
           "X11"
          ],
          [
           "SHA-256"
          ],
          [
           "NIST5"
          ],
          [
           "Scrypt"
          ],
          [
           "Scrypt"
          ],
          [
           "X11"
          ],
          [
           "Scrypt"
          ],
          [
           "SHA-256"
          ],
          [
           "Scrypt"
          ],
          [
           "PoS"
          ],
          [
           "X11"
          ],
          [
           "SHA-256"
          ],
          [
           "SHA-256"
          ],
          [
           "NIST5"
          ],
          [
           "X11"
          ],
          [
           "POS 3.0"
          ],
          [
           "Scrypt"
          ],
          [
           "Scrypt"
          ],
          [
           "Scrypt"
          ],
          [
           "X13"
          ],
          [
           "X11"
          ],
          [
           "X11"
          ],
          [
           "Scrypt"
          ],
          [
           "SHA-256"
          ],
          [
           "X11"
          ],
          [
           "Scrypt"
          ],
          [
           "Scrypt"
          ],
          [
           "Scrypt"
          ],
          [
           "Scrypt"
          ],
          [
           "SHA-256D"
          ],
          [
           "PoS"
          ],
          [
           "Scrypt"
          ],
          [
           "X11"
          ],
          [
           "PoS"
          ],
          [
           "X13"
          ],
          [
           "X14"
          ],
          [
           "PoS"
          ],
          [
           "SHA-256D"
          ],
          [
           "DPoS"
          ],
          [
           "X11"
          ],
          [
           "X13"
          ],
          [
           "X11"
          ],
          [
           "PoS"
          ],
          [
           "Scrypt"
          ],
          [
           "Scrypt"
          ],
          [
           "PoS"
          ],
          [
           "X11"
          ],
          [
           "SHA-256"
          ],
          [
           "Scrypt"
          ],
          [
           "X11"
          ],
          [
           "Scrypt"
          ],
          [
           "Scrypt"
          ],
          [
           "X11"
          ],
          [
           "Scrypt"
          ],
          [
           "Scrypt"
          ],
          [
           "Scrypt"
          ],
          [
           "Scrypt"
          ],
          [
           "Quark"
          ],
          [
           "QuBit"
          ],
          [
           "Scrypt"
          ],
          [
           "SHA-256"
          ],
          [
           "X11"
          ],
          [
           "Scrypt"
          ],
          [
           "Scrypt"
          ],
          [
           "Scrypt"
          ],
          [
           "Scrypt"
          ],
          [
           "X13"
          ],
          [
           "Scrypt"
          ],
          [
           "Scrypt"
          ],
          [
           "X11"
          ],
          [
           "Blake2S"
          ],
          [
           "X11"
          ],
          [
           "PoS"
          ],
          [
           "X11"
          ],
          [
           "PoS"
          ],
          [
           "X11"
          ],
          [
           "Scrypt"
          ],
          [
           "Scrypt"
          ],
          [
           "Scrypt"
          ],
          [
           "SHA-256"
          ],
          [
           "X11"
          ],
          [
           "Scrypt"
          ],
          [
           "PoS"
          ],
          [
           "Scrypt"
          ],
          [
           "X15"
          ],
          [
           "SHA-256"
          ],
          [
           "POS 3.0"
          ],
          [
           "536"
          ],
          [
           "NIST5"
          ],
          [
           "NIST5"
          ],
          [
           "Skein"
          ],
          [
           "X13"
          ],
          [
           "Scrypt"
          ],
          [
           "X13"
          ],
          [
           "SkunkHash v2 Raptor"
          ],
          [
           "Skein"
          ],
          [
           "X11"
          ],
          [
           "Scrypt"
          ],
          [
           "VeChainThor Authority"
          ],
          [
           "PoS"
          ],
          [
           "Scrypt"
          ],
          [
           "Scrypt"
          ],
          [
           "SHA-512"
          ],
          [
           "Ouroboros"
          ],
          [
           "X11"
          ],
          [
           "NeoScrypt"
          ],
          [
           "Scrypt"
          ],
          [
           "Lyra2REv2"
          ],
          [
           "Scrypt"
          ],
          [
           "SHA-256"
          ],
          [
           "NIST5"
          ],
          [
           "PHI1612"
          ],
          [
           "Scrypt"
          ],
          [
           "Quark"
          ],
          [
           "POS 2.0"
          ],
          [
           "Scrypt"
          ],
          [
           "SHA-256"
          ],
          [
           "X11"
          ],
          [
           "DPoS"
          ],
          [
           "NIST5"
          ],
          [
           "X13"
          ],
          [
           "Scrypt"
          ],
          [
           "NIST5"
          ],
          [
           "Quark"
          ],
          [
           "Scrypt"
          ],
          [
           "Scrypt"
          ],
          [
           "X11"
          ],
          [
           "Quark"
          ],
          [
           "Scrypt"
          ],
          [
           "Scrypt"
          ],
          [
           "X11"
          ],
          [
           "POS 3.0"
          ],
          [
           "Ethash"
          ],
          [
           "Scrypt"
          ],
          [
           "Scrypt"
          ],
          [
           "X13"
          ],
          [
           "C11"
          ],
          [
           "X11"
          ],
          [
           "XEVAN"
          ],
          [
           "Scrypt"
          ],
          [
           "VBFT"
          ],
          [
           "NIST5"
          ],
          [
           "Scrypt"
          ],
          [
           "Scrypt"
          ],
          [
           "Scrypt"
          ],
          [
           "Green Protocol"
          ],
          [
           "PoS"
          ],
          [
           "Scrypt"
          ],
          [
           "Semux BFT consensus"
          ],
          [
           "Quark"
          ],
          [
           "PoS"
          ],
          [
           "X16R"
          ],
          [
           "Scrypt"
          ],
          [
           "XEVAN"
          ],
          [
           "Scrypt"
          ],
          [
           "Scrypt"
          ],
          [
           "Scrypt"
          ],
          [
           "SHA-256D"
          ],
          [
           "Scrypt"
          ],
          [
           "X15"
          ],
          [
           "Scrypt"
          ],
          [
           "Quark"
          ],
          [
           "SHA-256"
          ],
          [
           "DPoS"
          ],
          [
           "X16R"
          ],
          [
           "Quark"
          ],
          [
           "Quark"
          ],
          [
           "Scrypt"
          ],
          [
           "Lyra2REv2"
          ],
          [
           "Quark"
          ],
          [
           "Scrypt"
          ],
          [
           "X11"
          ],
          [
           "X11"
          ],
          [
           "Scrypt"
          ],
          [
           "PoS"
          ],
          [
           "Keccak"
          ],
          [
           "X11"
          ],
          [
           "Scrypt"
          ],
          [
           "SHA-512"
          ],
          [
           "XEVAN"
          ],
          [
           "XEVAN"
          ],
          [
           "X11"
          ],
          [
           "Quark"
          ],
          [
           "Equihash"
          ],
          [
           "Scrypt"
          ],
          [
           "Quark"
          ],
          [
           "Quark"
          ],
          [
           "Scrypt"
          ],
          [
           "X11"
          ],
          [
           "Scrypt"
          ],
          [
           "XEVAN"
          ],
          [
           "SHA-256D"
          ],
          [
           "X11"
          ],
          [
           "X11"
          ],
          [
           "DPoS"
          ],
          [
           "Scrypt"
          ],
          [
           "X11"
          ],
          [
           "Scrypt"
          ],
          [
           "Scrypt"
          ],
          [
           "SHA-256"
          ],
          [
           "Scrypt"
          ],
          [
           "X11"
          ],
          [
           "Scrypt"
          ],
          [
           "SHA-256"
          ],
          [
           "X11"
          ],
          [
           "Scrypt"
          ],
          [
           "Scrypt"
          ],
          [
           "X11"
          ],
          [
           "Scrypt"
          ],
          [
           "PoS"
          ],
          [
           "X11"
          ],
          [
           "SHA-256"
          ],
          [
           "DPoS"
          ],
          [
           "Scrypt"
          ],
          [
           "Scrypt"
          ],
          [
           "NeoScrypt"
          ],
          [
           "X13"
          ],
          [
           "DPoS"
          ],
          [
           "DPoS"
          ],
          [
           "SHA-256"
          ],
          [
           "PoS"
          ],
          [
           "PoS"
          ],
          [
           "SHA-256"
          ],
          [
           "Scrypt"
          ],
          [
           "Scrypt"
          ]
         ],
         "hovertemplate": "<b>%{hovertext}</b><br><br>Class=%{marker.color}<br>PC 1=%{x}<br>PC 2=%{y}<br>PC 3=%{z}<br>Algorithm=%{customdata[0]}<extra></extra>",
         "hovertext": [
          "42 Coin",
          "404Coin",
          "EliteCoin",
          "Dash",
          "Bitshares",
          "BitcoinDark",
          "PayCoin",
          "KoboCoin",
          "Aurora Coin",
          "BlueCoin",
          "EnergyCoin",
          "BitBar",
          "CryptoBullion",
          "CasinoCoin",
          "Diamond",
          "Exclusive Coin",
          "FlutterCoin",
          "HoboNickels",
          "HyperStake",
          "IOCoin",
          "MaxCoin",
          "MintCoin",
          "MazaCoin",
          "Nautilus Coin",
          "NavCoin",
          "OpalCoin",
          "Orbitcoin",
          "PotCoin",
          "PhoenixCoin",
          "Reddcoin",
          "SuperCoin",
          "SyncCoin",
          "TeslaCoin",
          "TittieCoin",
          "TorCoin",
          "UnitaryStatus Dollar",
          "UltraCoin",
          "VeriCoin",
          "X11 Coin",
          "Crypti",
          "StealthCoin",
          "ZCC Coin",
          "BurstCoin",
          "StorjCoin",
          "Neutron",
          "FairCoin",
          "RubyCoin",
          "Kore",
          "Dnotes",
          "8BIT Coin",
          "Sativa Coin",
          "Ucoin",
          "Vtorrent",
          "IslaCoin",
          "Nexus",
          "Droidz",
          "Squall Coin",
          "Diggits",
          "Paycon",
          "Emercoin",
          "EverGreenCoin",
          "Decred",
          "EDRCoin",
          "Hitcoin",
          "DubaiCoin",
          "PWR Coin",
          "BillaryCoin",
          "GPU Coin",
          "EuropeCoin",
          "ZeitCoin",
          "SwingCoin",
          "SafeExchangeCoin",
          "Nebuchadnezzar",
          "Ratecoin",
          "Revenu",
          "Clockcoin",
          "VIP Tokens",
          "BitSend",
          "Let it Ride",
          "PutinCoin",
          "iBankCoin",
          "Frankywillcoin",
          "MudraCoin",
          "Lutetium Coin",
          "GoldBlocks",
          "CarterCoin",
          "BitTokens",
          "MustangCoin",
          "ZoneCoin",
          "RootCoin",
          "BitCurrency",
          "Swiscoin",
          "BuzzCoin",
          "Opair",
          "PesoBit",
          "Halloween Coin",
          "CoffeeCoin",
          "RoyalCoin",
          "GanjaCoin V2",
          "TeamUP",
          "LanaCoin",
          "ARK",
          "InsaneCoin",
          "EmberCoin",
          "XenixCoin",
          "FreeCoin",
          "PLNCoin",
          "AquariusCoin",
          "Creatio",
          "Eternity",
          "Eurocoin",
          "BitcoinFast",
          "Stakenet",
          "BitConnect Coin",
          "MoneyCoin",
          "Enigma",
          "Russiacoin",
          "PandaCoin",
          "GameUnits",
          "GAKHcoin",
          "Allsafe",
          "LiteCreed",
          "Klingon Empire Darsek",
          "Internet of People",
          "KushCoin",
          "Printerium",
          "Impeach",
          "Zilbercoin",
          "FirstCoin",
          "FindCoin",
          "OpenChat",
          "RenosCoin",
          "VirtacoinPlus",
          "TajCoin",
          "Impact",
          "Atmos",
          "HappyCoin",
          "MacronCoin",
          "Condensate",
          "Independent Money System",
          "ArgusCoin",
          "LomoCoin",
          "ProCurrency",
          "GoldReserve",
          "GrowthCoin",
          "Phreak",
          "Degas Coin",
          "HTML5 Coin",
          "Ultimate Secure Cash",
          "QTUM",
          "Espers",
          "Denarius",
          "Virta Unique Coin",
          "Bitcoin Planet",
          "BritCoin",
          "Linda",
          "DeepOnion",
          "Signatum",
          "Cream",
          "Monoeci",
          "Draftcoin",
          "Vechain",
          "Stakecoin",
          "CoinonatX",
          "Ethereum Dark",
          "Obsidian",
          "Cardano",
          "Regalcoin",
          "TrezarCoin",
          "TerraNovaCoin",
          "Rupee",
          "WomenCoin",
          "Theresa May Coin",
          "NamoCoin",
          "LUXCoin",
          "Xios",
          "Bitcloud 2.0",
          "KekCoin",
          "BlackholeCoin",
          "Infinity Economics",
          "Magnet",
          "Lamden Tau",
          "Electra",
          "Bitcoin Diamond",
          "Cash & Back Coin",
          "Bulwark",
          "Kalkulus",
          "GermanCoin",
          "LiteCoin Ultra",
          "PhantomX",
          "Digiwage",
          "Trollcoin",
          "Litecoin Plus",
          "Monkey Project",
          "TokenPay",
          "1717 Masonic Commemorative Token",
          "My Big Coin",
          "Unified Society USDEX",
          "Tokyo Coin",
          "Stipend",
          "Pushi",
          "Ellerium",
          "Velox",
          "Ontology",
          "Bitspace",
          "Briacoin",
          "Ignition",
          "MedicCoin",
          "Bitcoin Green",
          "Deviant Coin",
          "Abjcoin",
          "Semux",
          "Carebit",
          "Zealium",
          "Proton",
          "iDealCash",
          "Bitcoin Incognito",
          "HollyWoodCoin",
          "Swisscoin",
          "Xt3ch",
          "TheVig",
          "EmaratCoin",
          "Dekado",
          "Lynx",
          "Poseidon Quark",
          "BitcoinWSpectrum",
          "Muse",
          "Trivechain",
          "Dystem",
          "Giant",
          "Peony Coin",
          "Absolute Coin",
          "Vitae",
          "TPCash",
          "ARENON",
          "EUNO",
          "MMOCoin",
          "Ketan",
          "XDNA",
          "PAXEX",
          "ThunderStake",
          "Kcash",
          "Bettex coin",
          "BitMoney",
          "Junson Ming Chan Coin",
          "HerbCoin",
          "PirateCash",
          "Oduwa",
          "Galilel",
          "Crypto Sports",
          "Credit",
          "Dash Platinum",
          "Nasdacoin",
          "Beetle Coin",
          "Titan Coin",
          "Award",
          "Insane Coin",
          "ALAX",
          "LiteDoge",
          "TruckCoin",
          "OrangeCoin",
          "BitstarCoin",
          "NeosCoin",
          "HyperCoin",
          "PinkCoin",
          "AudioCoin",
          "IncaKoin",
          "Piggy Coin",
          "Genstake",
          "XiaoMiCoin",
          "CapriCoin",
          " ClubCoin",
          "Radium",
          "Creditbit ",
          "OKCash",
          "Lisk",
          "HiCoin",
          "WhiteCoin",
          "FriendshipCoin",
          "Triangles Coin",
          "EOS",
          "Oxycoin",
          "TigerCash",
          "Particl",
          "Nxt",
          "ZEPHYR",
          "Gapcoin",
          "BitcoinPlus"
         ],
         "legendgroup": "0",
         "marker": {
          "color": [
           0,
           0,
           0,
           0,
           0,
           0,
           0,
           0,
           0,
           0,
           0,
           0,
           0,
           0,
           0,
           0,
           0,
           0,
           0,
           0,
           0,
           0,
           0,
           0,
           0,
           0,
           0,
           0,
           0,
           0,
           0,
           0,
           0,
           0,
           0,
           0,
           0,
           0,
           0,
           0,
           0,
           0,
           0,
           0,
           0,
           0,
           0,
           0,
           0,
           0,
           0,
           0,
           0,
           0,
           0,
           0,
           0,
           0,
           0,
           0,
           0,
           0,
           0,
           0,
           0,
           0,
           0,
           0,
           0,
           0,
           0,
           0,
           0,
           0,
           0,
           0,
           0,
           0,
           0,
           0,
           0,
           0,
           0,
           0,
           0,
           0,
           0,
           0,
           0,
           0,
           0,
           0,
           0,
           0,
           0,
           0,
           0,
           0,
           0,
           0,
           0,
           0,
           0,
           0,
           0,
           0,
           0,
           0,
           0,
           0,
           0,
           0,
           0,
           0,
           0,
           0,
           0,
           0,
           0,
           0,
           0,
           0,
           0,
           0,
           0,
           0,
           0,
           0,
           0,
           0,
           0,
           0,
           0,
           0,
           0,
           0,
           0,
           0,
           0,
           0,
           0,
           0,
           0,
           0,
           0,
           0,
           0,
           0,
           0,
           0,
           0,
           0,
           0,
           0,
           0,
           0,
           0,
           0,
           0,
           0,
           0,
           0,
           0,
           0,
           0,
           0,
           0,
           0,
           0,
           0,
           0,
           0,
           0,
           0,
           0,
           0,
           0,
           0,
           0,
           0,
           0,
           0,
           0,
           0,
           0,
           0,
           0,
           0,
           0,
           0,
           0,
           0,
           0,
           0,
           0,
           0,
           0,
           0,
           0,
           0,
           0,
           0,
           0,
           0,
           0,
           0,
           0,
           0,
           0,
           0,
           0,
           0,
           0,
           0,
           0,
           0,
           0,
           0,
           0,
           0,
           0,
           0,
           0,
           0,
           0,
           0,
           0,
           0,
           0,
           0,
           0,
           0,
           0,
           0,
           0,
           0,
           0,
           0,
           0,
           0,
           0,
           0,
           0,
           0,
           0,
           0,
           0,
           0,
           0,
           0,
           0,
           0,
           0,
           0,
           0,
           0,
           0,
           0,
           0,
           0,
           0,
           0,
           0,
           0,
           0,
           0,
           0,
           0,
           0,
           0,
           0,
           0,
           0,
           0,
           0,
           0,
           0,
           0,
           0,
           0,
           0,
           0,
           0,
           0,
           0,
           0,
           0,
           0
          ],
          "coloraxis": "coloraxis",
          "symbol": "circle"
         },
         "mode": "markers",
         "name": "0",
         "scene": "scene",
         "showlegend": true,
         "type": "scatter3d",
         "x": [
          -0.3325943358455256,
          -0.3159255089593257,
          2.3050665531632997,
          -0.3950670990848221,
          -0.2766135435553144,
          -0.31029741297973695,
          -0.2668097215038359,
          -0.2440255837380958,
          -0.3322538125302439,
          -0.32482703510959093,
          -0.33109004025605515,
          -0.3325902725198617,
          -0.3325745473846996,
          0.7006144436764556,
          -0.3723836860367306,
          -0.35372011560369543,
          -0.26579380617601017,
          -0.33065267776368107,
          -0.3313913576187318,
          -0.39496173448546884,
          -0.42292470316494807,
          -0.028877273309887926,
          -0.27359624940177957,
          -0.2888577357892027,
          -0.27857476869587966,
          -0.27919733632750104,
          -0.3502902735287943,
          -0.3268957036315407,
          -0.3309957164356818,
          0.025753610632956343,
          -0.35128942880895975,
          -0.3953333951875281,
          -0.2457437146430901,
          -0.31704303204044,
          -0.3952450409212847,
          -0.30782125762399754,
          -0.3312715402866441,
          -0.2843303628704726,
          -0.395209470831984,
          -0.24621115293821802,
          -0.27897807341894654,
          -0.32369802546147974,
          0.09539917830741745,
          -0.34502217747776776,
          -0.30950893549839115,
          -0.37180489054521604,
          -0.2888378915999613,
          -0.27927283495142313,
          -0.2834916953487989,
          -0.33257639404588885,
          -0.2792249814363758,
          -0.351734643790054,
          -0.3323107365997502,
          -0.3953149134309195,
          -0.4349770914768126,
          -0.42313044880446027,
          -0.38211213323999,
          -0.28723907793319864,
          -0.27874657109955664,
          -0.3028554272204687,
          -0.24646659119494424,
          -0.08069420156131035,
          -0.31026831016610684,
          -0.0727485162894049,
          -0.3103319757131564,
          -0.22549657394679548,
          -0.33218667084762266,
          -0.2871087382032074,
          -0.3924846744606496,
          0.8644025514147113,
          -0.31013209165004574,
          -0.030359908479791343,
          -0.35340332089621956,
          -0.39315709452695435,
          -0.30887595431190235,
          -0.3065445694448611,
          -0.3469256744940706,
          -0.39405017012493343,
          -0.3657383860599193,
          -0.3084806366825769,
          -0.33222480380816566,
          -0.33066322492191924,
          -0.23447987751058644,
          -0.33922186557672934,
          -0.3947888014969012,
          -0.3314288321634496,
          -0.31031297668007063,
          -0.39530411592041437,
          -0.33241394170679295,
          -0.33257062382043684,
          -0.28709704826978216,
          -0.23786748978913275,
          0.0350041951633315,
          -0.3523601073116293,
          -0.3321845583719457,
          -0.3814670774755262,
          -0.3516881654799579,
          -0.23591017768120093,
          -0.40560108039673753,
          -0.35143845178004385,
          -0.27963162900409416,
          3.717046775247006,
          -0.394896578390492,
          0.8535892300339089,
          -0.3952590046166924,
          -0.35282398737581727,
          -0.3321122918257613,
          -0.33226672661173645,
          -0.35340332089621956,
          -0.3948339860702139,
          -0.3101755647908593,
          -0.33211299642604936,
          -0.37386364299138836,
          -0.33226044341983696,
          -0.3278494951975564,
          -0.3952880217454607,
          -0.3314713549827346,
          0.3545984663932871,
          -0.3324597485846162,
          -0.3325303050661175,
          -0.3542095691726138,
          -0.3476466371188249,
          -0.32875773522183277,
          -0.3102893767861167,
          -0.39519794626640753,
          -0.33230808395945827,
          -0.3324351212807733,
          -0.2887446623289405,
          -0.2768443310542741,
          -0.2356779667577199,
          -0.31328321930985065,
          -0.28848552621369333,
          -0.39446378705528523,
          -0.41783751851012135,
          -0.39320148801228777,
          -0.3516493805482435,
          -0.3943616134410978,
          -0.34604772136752737,
          -0.3903025479363882,
          -0.33237837101953527,
          -0.3323776027947178,
          -0.3255009182289961,
          0.26573209979022505,
          -0.39484002467620816,
          -0.2713878965150771,
          -0.35343769207993053,
          -0.3315890839811817,
          0.8880473876447128,
          -0.26550045122747623,
          -0.36451641361462506,
          0.5586426050594119,
          -0.3484617507709057,
          -0.3469637452202052,
          -0.40755852302833145,
          -0.2789100085289942,
          0.13233451422405607,
          -0.27898075812700573,
          -0.34909334591498914,
          -0.40706312326273203,
          -0.39511239143105004,
          -0.28881869216551115,
          4.366110463773471,
          -0.3533040701661455,
          -0.33201351171498317,
          -0.3325132299637371,
          -0.33469102665635386,
          0.6373106409565307,
          -0.3950532851574597,
          -0.34528890101874465,
          -0.33246888557518295,
          -0.3244977873004311,
          0.43694775033359207,
          -0.3086351463108243,
          -0.33322662743746523,
          -0.3960722295277124,
          -0.3324192258401838,
          -0.396075719535189,
          -0.335490696256012,
          -0.33228951495712,
          -0.09324488554132368,
          -0.39384591212604775,
          3.721903437984572,
          0.21118142136577298,
          -0.2756507852880855,
          -0.32974944071061923,
          -0.30480110337812183,
          -0.3540954358417136,
          0.08180823961070526,
          -0.331428323497038,
          -0.39442685028874813,
          -0.3532602631281525,
          -0.3189912105220646,
          -0.33253537306464437,
          -0.3517065628218692,
          -0.3660204163427028,
          -0.27320640470637253,
          -0.27832038164919665,
          -0.32807936521767156,
          -0.22747348215909913,
          -0.3826071884151298,
          -0.3951297348908346,
          -0.3345969513619606,
          -0.28797880065578074,
          -0.2972957789124308,
          -0.3480607085678168,
          -0.3325627378203688,
          -0.33254444970323305,
          -0.28235914017769237,
          -0.3512486065354237,
          -0.3528984450100238,
          -0.3322609400690836,
          3.9219888972926364,
          -0.39474298132659136,
          -0.353087176910513,
          -0.3154148123199661,
          -0.2791293423607721,
          -0.3215279219098192,
          -0.288512774981755,
          -0.13562093971981662,
          -0.2887650805041172,
          -0.34494207517562886,
          -0.3317349766666342,
          -0.2023861752807628,
          2.246661305607432,
          -0.3498044936863502,
          -0.26562768182053315,
          1.013521423848165,
          -0.35817534527735434,
          -0.35420903877472193,
          -0.39775972758442696,
          -0.16952371821029066,
          -0.3678503421135473,
          -0.3529282852781635,
          -0.32544097507496494,
          -0.35128392097063055,
          -0.39460291091336036,
          -0.2860102048369565,
          -0.3521871957813172,
          -0.35368976658664536,
          -0.3511454751663518,
          -0.1920661410953093,
          -0.3281521499481572,
          -0.2911658346244786,
          0.4623193739032672,
          -0.1415384177134119,
          -0.39705422899289555,
          -0.2774571965558869,
          -0.3322648652513838,
          -0.39751041102134593,
          -0.3543260393192241,
          0.5743438387759042,
          -0.35176090164941387,
          -0.3317478460348385,
          -0.32905187939264086,
          -0.29966362113878603,
          -0.39216825389306775,
          -0.3948301646254613,
          3.7341493374728363,
          0.1027165693409742,
          -0.39236823668906723,
          -0.33113363789969835,
          -0.33195828327594284,
          -0.2668424179689082,
          -0.33247660668986434,
          -0.3864558592427875,
          -0.24618932926990936,
          -0.08983069509053794,
          -0.3822046057367379,
          -0.33175459840928717,
          -0.32481712593739975,
          -0.3913978174603572,
          -0.33019371340149195,
          -0.35367904729939664,
          -0.38330790160896067,
          -0.3088120952526052,
          3.7174386165414415,
          -0.09599340445296108,
          -0.32738767635651206,
          -0.3499162354176804,
          -0.279380033540459,
          3.727313163314166,
          3.728558008830843,
          -0.24773382419302864,
          -0.3536148751290777,
          -0.3596507837850986,
          2.473244652131486,
          -0.3306399957424398,
          -0.28916153371642384
         ],
         "y": [
          0.9940894771668318,
          0.9943171472540692,
          1.6986040658953991,
          1.227788401304203,
          1.5304898801390177,
          0.8592105915223816,
          0.6907282775446594,
          1.8670693205903524,
          0.994090049707634,
          0.994366918504315,
          0.9941432093417949,
          0.9940892767271122,
          0.9940894928081774,
          0.3555148533434258,
          0.9091851350712356,
          1.6178080615082897,
          0.32537056603192327,
          0.9940758858137984,
          1.0600358273074133,
          1.2277921648371626,
          1.8412784208013024,
          0.8348957662198204,
          0.8588645461428932,
          0.8255983036303135,
          1.8234700584586399,
          1.8234478208777627,
          0.52296533969802,
          0.9940027173506412,
          0.9940788394862599,
          1.0068893579436495,
          1.0593250853013576,
          1.2277940954640896,
          0.16513116503415143,
          1.6987145933175198,
          1.2277903399487418,
          0.9938684070585914,
          0.9940676048662906,
          0.37725807509781956,
          1.2277947209470352,
          0.1651835899902439,
          1.8234556527604608,
          0.9937160312552684,
          0.6702570357246435,
          1.7199809526598389,
          0.8592069593933724,
          0.9092088366684044,
          0.8256101962983712,
          1.8234368295577421,
          0.82545555058309,
          0.99409011806153,
          1.8234399212731904,
          1.0592953583146993,
          0.9940857828271753,
          1.2277947563077702,
          1.8189960143151251,
          1.8509304470868557,
          0.6077311131157849,
          0.8255981830984515,
          1.8234293610992165,
          0.8588004050748572,
          1.867205877418608,
          1.0228378334586272,
          0.8592116310498787,
          1.2209648057867635,
          0.8592173059380326,
          1.509884614616969,
          0.9940750076301617,
          0.8255191653866772,
          1.2276304236425992,
          0.7983727181762378,
          0.8592040547971652,
          0.35556928585483855,
          1.61780555285297,
          1.2278199906572038,
          0.8591226207734116,
          0.8589969589736075,
          1.5054850621746458,
          1.2277438530359632,
          1.5909717033818267,
          0.9935683688037293,
          0.9940720327199642,
          0.9940893333684403,
          1.654864623694312,
          1.0593020003624278,
          1.2277789878488259,
          0.9940688986806357,
          0.8592107268148818,
          1.2277930683420568,
          0.9940814052149238,
          0.9940903241690248,
          0.8256723777263542,
          0.1841956843613103,
          1.8602893034137864,
          1.6178054899626668,
          0.994104114095129,
          1.227252567354322,
          1.617852992511173,
          1.6549500493799156,
          1.8255159978322122,
          1.6176815050140292,
          1.8576868161246023,
          1.612230072257773,
          1.2277889624408633,
          1.8633224513850335,
          1.2277940898472204,
          1.617805509713436,
          0.9940800559870969,
          0.9940721481070531,
          1.61780555285297,
          1.227770461749655,
          0.8592163262640008,
          0.9940838601477303,
          0.8339896235495359,
          0.9940820495403198,
          0.9938092133134526,
          1.2277922607831504,
          0.9940300542188725,
          0.8261184080077637,
          0.9940852987486354,
          0.9940894723988386,
          1.5828703885995294,
          0.5645729709315421,
          0.9938809100218459,
          0.8592115697828167,
          1.227792468653919,
          0.9940858775772071,
          0.9940800035654335,
          0.8255755095701284,
          0.09426533591345379,
          1.654950032088543,
          0.9940880391823745,
          0.8255989864443235,
          1.2277560363602407,
          1.9536467989353725,
          1.2277942124524248,
          1.6178057923169096,
          1.2277596859139497,
          1.6178056270366723,
          1.2276281864446965,
          0.9940825291481987,
          0.9940774499794129,
          0.9936516334746976,
          0.6579177662404171,
          1.2277840703459089,
          0.8248510661221701,
          1.617797412998785,
          0.9940528064058438,
          1.8455386141778123,
          0.6906453826342902,
          1.590969385423138,
          1.8187738441200012,
          1.5054854920101561,
          1.5054629658859116,
          2.0901352723767026,
          1.823437347544738,
          0.9761356110629147,
          1.8234424941636191,
          1.6194713366351405,
          2.090152967630672,
          1.2277954186559894,
          0.8255988508812292,
          4.338783683146255,
          1.6177803435046139,
          0.9940768712525208,
          0.9940894711273576,
          1.5308409995313952,
          1.5575859592178083,
          1.2277854386533036,
          0.5228701045040255,
          0.9940830830637704,
          0.6456460697562357,
          1.0042964967165446,
          0.859216051528258,
          1.5052071322659815,
          1.8674822822644226,
          0.9940812164702199,
          1.7512893144871728,
          1.508787322486708,
          0.9940901432652396,
          0.6907155740033537,
          1.2277476928836621,
          1.6121443426389537,
          1.5047459422979985,
          1.823429345587858,
          0.994045939359928,
          1.3369905436916103,
          1.5828710092715252,
          0.9743308559470104,
          0.9940274439795465,
          1.227791916434985,
          1.5828317194728945,
          0.9939532760910662,
          0.9940888184377191,
          1.0592956701282514,
          1.5909675048257332,
          -0.01325290705825277,
          0.32222665018324753,
          0.9940903863024909,
          1.6547001574140543,
          0.9236499952323179,
          1.227784090363522,
          1.3613747520893626,
          0.8255551716903001,
          1.799319459233067,
          1.5054721683129222,
          0.9940885322066604,
          0.9940878030134843,
          0.8254960044806853,
          1.416924319303465,
          1.617776583999581,
          0.994080649371428,
          1.539501425020577,
          1.7513369187508656,
          1.617775372374286,
          0.7647704743802414,
          0.9924588338548095,
          0.7413332888015505,
          0.8256038376075321,
          0.9940748097248132,
          0.8255823836099949,
          1.8604731177172389,
          0.9940621107490494,
          1.6986941367644464,
          0.22403511635840204,
          1.5825888129011705,
          0.6907098364775482,
          1.5807904818503935,
          0.9332593756436407,
          1.582866260257865,
          1.7513638456214038,
          0.8182042952336039,
          0.814120077623871,
          1.582857401726526,
          0.993653774592655,
          1.059287265238912,
          1.227785627700749,
          0.8255314830689972,
          1.6177176610414687,
          0.942822886180401,
          1.059261105751422,
          0.986667162502501,
          1.5185412088335983,
          1.192890762917847,
          0.9598329623568626,
          1.0668172111950158,
          1.7513552802876269,
          -0.011259563047622064,
          0.9940867300978219,
          1.7513631534821277,
          1.5828673550656067,
          0.9747816846623324,
          1.0592946277708755,
          0.9940616510662748,
          1.361268682914072,
          1.8587034741235176,
          1.2276168421912679,
          1.2277913346834857,
          1.6122361483949268,
          0.9854459010741864,
          1.2279000090691392,
          0.9940034091707024,
          0.994074693830776,
          0.69072123433174,
          0.9940936823801477,
          1.2277655868596726,
          0.9899180375017905,
          0.8669693492189325,
          1.2275718307303347,
          0.9941091036780102,
          0.9940907866499888,
          1.2277908989934334,
          0.9940646310463187,
          1.6178033075023006,
          0.7791707625144346,
          0.8592062749915779,
          1.6122199323876074,
          0.8255801833279116,
          0.9940680902480521,
          0.5229397168021664,
          1.823441212144552,
          1.612683180631376,
          1.6127276454436328,
          0.6907270778838599,
          1.6178058525648227,
          1.6281910576754177,
          0.7221727678202589,
          0.993986480919231,
          0.8255979448655476
         ],
         "z": [
          -0.5022163452968669,
          -0.5023445903733675,
          -0.5832282379436629,
          -0.47947326117760036,
          -0.01075698924465999,
          -0.32190145662953373,
          -0.056112495901146364,
          -0.5540596504161727,
          -0.5022189902501266,
          -0.5022750514964999,
          -0.5022277149449639,
          -0.5022163781319107,
          -0.5022164991085077,
          0.0052306423327077205,
          -0.43152572038200493,
          -0.14683589910754125,
          -0.15760876343936212,
          -0.5022315303725297,
          -0.21383683107341936,
          -0.4794740575360092,
          -0.5770643672163248,
          -0.23839427003468347,
          -0.32218903235180635,
          -0.23642937494431618,
          -0.5623661397346563,
          -0.562361434293085,
          -0.2803189094399137,
          -0.5022612005102786,
          -0.5022288441834013,
          -0.50492478248292,
          -0.21368643904110685,
          -0.47947115502235943,
          0.05928865660566138,
          -0.22124548046086218,
          -0.4794718652927634,
          -0.502410380407586,
          -0.5022267679698065,
          -0.21656200608298926,
          -0.4794721150187244,
          0.05929261438497476,
          -0.5623630915087073,
          -0.502287832928763,
          0.5696550483326359,
          -0.15505715353493593,
          -0.32190761145691327,
          -0.43153007638114554,
          -0.23642945619256978,
          -0.5623609146442268,
          -0.23647198751171453,
          -0.5022164809029784,
          -0.5623612678304092,
          -0.213683159017162,
          -0.5022185737389473,
          -0.47947129470546607,
          -0.4373390028431031,
          -0.6571651360084767,
          -0.37216759894333884,
          -0.23644196504398637,
          -0.5623650536433081,
          -0.32196185883864403,
          -0.5540398258221598,
          -0.3354683094734435,
          -0.32190167659212426,
          -0.4820220813951367,
          -0.32190114654544116,
          -0.49938902923969125,
          -0.5022196049042226,
          -0.23644346442815758,
          -0.47949431731881537,
          -0.2455663629710779,
          -0.32190278261649924,
          0.010916241625601302,
          -0.14683837844512387,
          -0.4794879223801632,
          -0.3219130529144181,
          -0.3219319579405674,
          -0.4984716357306784,
          -0.4794814442940132,
          -0.12317435523119978,
          -0.502407096037025,
          -0.5022193266032475,
          -0.5022313656910182,
          -0.2965826583016263,
          -0.2137804382398267,
          -0.47947548353522096,
          -0.502225536656343,
          -0.32190133474896065,
          -0.4794713890590799,
          -0.5022177979504869,
          -0.5022165245150412,
          -0.23644261369732789,
          -0.24181496558004573,
          -0.686979772997806,
          -0.1468464925847538,
          -0.5022194424444648,
          -0.4795823306878868,
          -0.14685142676189722,
          -0.29657100889269544,
          -0.687927195691695,
          -0.14685442291951437,
          -0.6845486398089767,
          0.44578421192669304,
          -0.47947458397959253,
          -0.5709267833807864,
          -0.47947173364091517,
          -0.14684288456526415,
          -0.5022201523709667,
          -0.5022189998330604,
          -0.14683837844512387,
          -0.4794751845071486,
          -0.32190236907642344,
          -0.5022201235102598,
          -0.1591629474653429,
          -0.5022189878468171,
          -0.5022549715365541,
          -0.47947151919728526,
          -0.5022254446687152,
          -0.241430757315451,
          -0.5022174177506316,
          -0.5022168433353394,
          -0.1774507029564784,
          -0.3415663764839557,
          -0.5022474669092178,
          -0.32190151311981785,
          -0.47947221849550636,
          -0.5022185937879236,
          -0.5022176418377249,
          -0.23643039448392456,
          -0.280870063686654,
          -0.2965728150549181,
          -0.5023665492952043,
          -0.2364322656645684,
          -0.47947815244576897,
          -0.5605008309154204,
          -0.47948773553724433,
          -0.1468520185124999,
          -0.47947892468632153,
          -0.14689558728876992,
          -0.4795113028913156,
          -0.5022180676991915,
          -0.5022181048910149,
          -0.5022742064468415,
          -0.06045607643428997,
          -0.47947505390182094,
          -0.2365698418503136,
          -0.146838161145961,
          -0.5022243891773015,
          -0.5629968498305918,
          -0.056123188427299714,
          -0.12318387355495852,
          -0.7560666040747954,
          -0.49845968602086627,
          -0.4984714754347361,
          -0.5499510247612472,
          -0.5623637333986072,
          -0.5059427458917073,
          -0.5623631515014057,
          -0.09311200899781419,
          -0.5499547690526837,
          -0.4794728657804478,
          -0.23642967524863426,
          -5.681092951584041,
          -0.14683930532082498,
          -0.5022209402219217,
          -0.5022169761473726,
          -0.010303124744937059,
          -0.1481948846550696,
          -0.479473386826144,
          -0.28035839369952875,
          -0.5022173603040062,
          -0.1126090405714341,
          -0.50813884361344,
          -0.32191435160513365,
          -0.4985798903347506,
          -0.486756257764468,
          -0.5022177580123668,
          -0.44325266505524025,
          -0.0846021285000045,
          -0.5022187119940352,
          -0.05746250101755562,
          -0.47948300934191346,
          0.44574591159121635,
          -0.5028169416407179,
          -0.5623891316859582,
          -0.5022387394892386,
          -0.23267214813487955,
          -0.17745158683122106,
          -0.5055608621879227,
          -0.5022257953953403,
          -0.4794782192062956,
          -0.1774583239918131,
          -0.5023229827821538,
          -0.5022168079374856,
          -0.21368337550476182,
          -0.12317218750211535,
          0.1340147492393862,
          -0.2206061174481025,
          -0.5022514555834034,
          -0.29663816243073,
          -0.41897785074729604,
          -0.4794728005133178,
          -0.5453635613070185,
          -0.23643647608782026,
          -0.008762252124769266,
          -0.498462887076039,
          -0.5022165968631062,
          -0.5022167435833922,
          -0.23648054750088424,
          -0.2054730216724418,
          -0.14684248323858864,
          -0.5022189925895633,
          0.379119352010178,
          -0.4432627380520556,
          -0.14684102279409803,
          -0.021515124260257697,
          -0.502642199474716,
          -0.4380586889592248,
          -0.23643202391760665,
          -0.5037484261379983,
          -0.23643019343023747,
          -0.6840235530759688,
          -0.5022231972896607,
          -0.2882556559565824,
          -0.3129878011492852,
          -0.17748669468336278,
          -0.056121802735215116,
          0.15445941306442468,
          -0.2873097000893597,
          -0.1774507324547337,
          -0.4432391093529899,
          -0.237402957468682,
          -0.37839910339565863,
          -0.1774607481558046,
          -0.5022746595044605,
          -0.21368671432324807,
          -0.4794768885187687,
          -0.23645193273419507,
          -0.14684837723176455,
          -0.45303209985218806,
          -0.21368795188423292,
          -0.5033549427453523,
          0.21355630302597492,
          -0.2795741708557861,
          -0.4602651783394594,
          -0.21527176259014544,
          -0.44324464911910627,
          0.17073255322122674,
          -0.5022189246883949,
          -0.4432410527045898,
          -0.17744981573636964,
          -0.509388862273864,
          -0.21368295928260864,
          -0.5022231000214173,
          -0.5454073408584957,
          -0.684386589495036,
          -0.47949686180045475,
          -0.479475085942873,
          0.4456512314792421,
          -0.5056551662678697,
          -0.4794935660452123,
          -0.5022282350768097,
          -0.5022213831520963,
          -0.056112284887348464,
          -0.5022172351079022,
          -0.47954037663041177,
          -0.5029140113287854,
          -0.3235684844929326,
          -0.4795746322396586,
          -0.5022227558575523,
          -0.502276825687458,
          -0.479501784225332,
          -0.5022351692103966,
          -0.14683624774092488,
          -0.2978799386454511,
          -0.32191303544480065,
          0.4457811020009635,
          -0.23792951812747398,
          -0.5022569723319605,
          -0.2803219760581528,
          -0.5623600539552079,
          0.4457071483521874,
          0.4456977396589843,
          -0.05626086898126733,
          -0.1468367312076993,
          -0.22358833680002374,
          0.23492822302233807,
          -0.5022321784960582,
          -0.23642701431449106
         ]
        },
        {
         "customdata": [
          [
           "SHA-256"
          ],
          [
           "Ethash"
          ],
          [
           "Scrypt"
          ],
          [
           "CryptoNight-V7"
          ],
          [
           "Ethash"
          ],
          [
           "Equihash"
          ],
          [
           "Multiple"
          ],
          [
           "Scrypt"
          ],
          [
           "X11"
          ],
          [
           "Scrypt"
          ],
          [
           "Multiple"
          ],
          [
           "Scrypt"
          ],
          [
           "SHA-256"
          ],
          [
           "Scrypt"
          ],
          [
           "Scrypt"
          ],
          [
           "Quark"
          ],
          [
           "Groestl"
          ],
          [
           "Scrypt"
          ],
          [
           "Scrypt"
          ],
          [
           "Scrypt"
          ],
          [
           "X11"
          ],
          [
           "Multiple"
          ],
          [
           "SHA-256"
          ],
          [
           "Scrypt"
          ],
          [
           "Scrypt"
          ],
          [
           "Scrypt"
          ],
          [
           "Scrypt"
          ],
          [
           "Scrypt"
          ],
          [
           "NeoScrypt"
          ],
          [
           "Scrypt"
          ],
          [
           "Scrypt"
          ],
          [
           "Scrypt"
          ],
          [
           "Scrypt"
          ],
          [
           "SHA-256"
          ],
          [
           "Scrypt"
          ],
          [
           "Scrypt"
          ],
          [
           "Scrypt"
          ],
          [
           "Scrypt"
          ],
          [
           "HybridScryptHash256"
          ],
          [
           "Scrypt"
          ],
          [
           "Scrypt"
          ],
          [
           "SHA-256"
          ],
          [
           "Scrypt"
          ],
          [
           "Scrypt"
          ],
          [
           "Scrypt"
          ],
          [
           "Scrypt"
          ],
          [
           "SHA-256"
          ],
          [
           "SHA-256"
          ],
          [
           "SHA-256"
          ],
          [
           "SHA-256"
          ],
          [
           "SHA-256"
          ],
          [
           "X11"
          ],
          [
           "Scrypt"
          ],
          [
           "Lyra2REv2"
          ],
          [
           "Scrypt"
          ],
          [
           "SHA-256"
          ],
          [
           "CryptoNight"
          ],
          [
           "CryptoNight"
          ],
          [
           "Scrypt"
          ],
          [
           "Scrypt"
          ],
          [
           "Scrypt"
          ],
          [
           "Scrypt"
          ],
          [
           "Scrypt"
          ],
          [
           "Scrypt"
          ],
          [
           "Stanford Folding"
          ],
          [
           "Multiple"
          ],
          [
           "QuBit"
          ],
          [
           "Scrypt"
          ],
          [
           "Scrypt"
          ],
          [
           "M7 POW"
          ],
          [
           "Scrypt"
          ],
          [
           "SHA-256"
          ],
          [
           "Scrypt"
          ],
          [
           "X11"
          ],
          [
           "Lyra2RE"
          ],
          [
           "SHA-256"
          ],
          [
           "X11"
          ],
          [
           "Scrypt"
          ],
          [
           "Scrypt"
          ],
          [
           "Ethash"
          ],
          [
           "Blake2b"
          ],
          [
           "X11"
          ],
          [
           "SHA-256"
          ],
          [
           "Scrypt"
          ],
          [
           "1GB AES Pattern Search"
          ],
          [
           "Scrypt"
          ],
          [
           "SHA-256"
          ],
          [
           "X11"
          ],
          [
           "Dagger"
          ],
          [
           "Scrypt"
          ],
          [
           "X11GOST"
          ],
          [
           "Scrypt"
          ],
          [
           "X11"
          ],
          [
           "Scrypt"
          ],
          [
           "X11"
          ],
          [
           "Equihash"
          ],
          [
           "CryptoNight"
          ],
          [
           "SHA-256"
          ],
          [
           "Multiple"
          ],
          [
           "Scrypt"
          ],
          [
           "SHA-256"
          ],
          [
           "Scrypt"
          ],
          [
           "Lyra2Z"
          ],
          [
           "Ethash"
          ],
          [
           "Equihash"
          ],
          [
           "Scrypt"
          ],
          [
           "X11"
          ],
          [
           "X11"
          ],
          [
           "CryptoNight"
          ],
          [
           "Scrypt"
          ],
          [
           "CryptoNight"
          ],
          [
           "Lyra2RE"
          ],
          [
           "X11"
          ],
          [
           "CryptoNight-V7"
          ],
          [
           "Scrypt"
          ],
          [
           "X11"
          ],
          [
           "Equihash"
          ],
          [
           "Scrypt"
          ],
          [
           "Lyra2RE"
          ],
          [
           "Dagger-Hashimoto"
          ],
          [
           "Scrypt"
          ],
          [
           "NIST5"
          ],
          [
           "Scrypt"
          ],
          [
           "SHA-256"
          ],
          [
           "Scrypt"
          ],
          [
           "CryptoNight-V7"
          ],
          [
           "Argon2d"
          ],
          [
           "Blake2b"
          ],
          [
           "Cloverhash"
          ],
          [
           "CryptoNight"
          ],
          [
           "X11"
          ],
          [
           "Scrypt"
          ],
          [
           "Scrypt"
          ],
          [
           "X11"
          ],
          [
           "X11"
          ],
          [
           "CryptoNight"
          ],
          [
           "Time Travel"
          ],
          [
           "Scrypt"
          ],
          [
           "Keccak"
          ],
          [
           "X11"
          ],
          [
           "SHA-256"
          ],
          [
           "Scrypt"
          ],
          [
           "Scrypt"
          ],
          [
           "Scrypt"
          ],
          [
           "Scrypt"
          ],
          [
           "Scrypt"
          ],
          [
           "Scrypt"
          ],
          [
           "CryptoNight"
          ],
          [
           "Equihash"
          ],
          [
           "X11"
          ],
          [
           "NeoScrypt"
          ],
          [
           "Equihash"
          ],
          [
           "Dagger"
          ],
          [
           "Scrypt"
          ],
          [
           "X11"
          ],
          [
           "NeoScrypt"
          ],
          [
           "Ethash"
          ],
          [
           "NeoScrypt"
          ],
          [
           "Multiple"
          ],
          [
           "CryptoNight"
          ],
          [
           "CryptoNight"
          ],
          [
           "Ethash"
          ],
          [
           "X11"
          ],
          [
           "CryptoNight-V7"
          ],
          [
           "Scrypt"
          ],
          [
           "BLAKE256"
          ],
          [
           "X11"
          ],
          [
           "NeoScrypt"
          ],
          [
           "NeoScrypt"
          ],
          [
           "Scrypt"
          ],
          [
           "X11"
          ],
          [
           "SHA-256"
          ],
          [
           "C11"
          ],
          [
           "CryptoNight"
          ],
          [
           "SkunkHash"
          ],
          [
           "CryptoNight"
          ],
          [
           "Scrypt"
          ],
          [
           "Dagger"
          ],
          [
           "Lyra2REv2"
          ],
          [
           "Scrypt"
          ],
          [
           "Scrypt"
          ],
          [
           "X11"
          ],
          [
           "Ethash"
          ],
          [
           "CryptoNight"
          ],
          [
           "Scrypt"
          ],
          [
           "IMesh"
          ],
          [
           "Equihash"
          ],
          [
           "Lyra2Z"
          ],
          [
           "X11"
          ],
          [
           "CryptoNight"
          ],
          [
           "NIST5"
          ],
          [
           "Lyra2RE"
          ],
          [
           "Tribus"
          ],
          [
           "Lyra2Z"
          ],
          [
           "CryptoNight"
          ],
          [
           "CryptoNight Heavy"
          ],
          [
           "CryptoNight"
          ],
          [
           "Jump Consistent Hash"
          ],
          [
           "CryptoNight"
          ],
          [
           "X16R"
          ],
          [
           "HMQ1725"
          ],
          [
           "X11"
          ],
          [
           "Scrypt"
          ],
          [
           "CryptoNight-V7"
          ],
          [
           "Cryptonight-GPU"
          ],
          [
           "XEVAN"
          ],
          [
           "CryptoNight Heavy"
          ],
          [
           "SHA-256"
          ],
          [
           "X11"
          ],
          [
           "X16R"
          ],
          [
           "Equihash"
          ],
          [
           "Lyra2Z"
          ],
          [
           "SHA-256"
          ],
          [
           "CryptoNight"
          ],
          [
           "Blake"
          ],
          [
           "Blake"
          ],
          [
           "Exosis"
          ],
          [
           "Scrypt"
          ],
          [
           "Equihash"
          ],
          [
           "Equihash"
          ],
          [
           "QuBit"
          ],
          [
           "SHA-256"
          ],
          [
           "X13"
          ],
          [
           "SHA-256"
          ],
          [
           "Scrypt"
          ],
          [
           "NeoScrypt"
          ],
          [
           "Blake"
          ],
          [
           "Scrypt"
          ],
          [
           "SHA-256"
          ],
          [
           "Scrypt"
          ],
          [
           "Groestl"
          ],
          [
           "Scrypt"
          ],
          [
           "Scrypt"
          ],
          [
           "Multiple"
          ],
          [
           "Equihash+Scrypt"
          ],
          [
           "Ethash"
          ],
          [
           "CryptoNight"
          ],
          [
           "Equihash"
          ]
         ],
         "hovertemplate": "<b>%{hovertext}</b><br><br>Class=%{marker.color}<br>PC 1=%{x}<br>PC 2=%{y}<br>PC 3=%{z}<br>Algorithm=%{customdata[0]}<extra></extra>",
         "hovertext": [
          "Bitcoin",
          "Ethereum",
          "Litecoin",
          "Monero",
          "Ethereum Classic",
          "ZCash",
          "DigiByte",
          "ProsperCoin",
          "Spreadcoin",
          "Argentum",
          "MyriadCoin",
          "MoonCoin",
          "ZetaCoin",
          "SexCoin",
          "Quatloo",
          "QuarkCoin",
          "Riecoin",
          "Digitalcoin ",
          "Catcoin",
          "CannaCoin",
          "CryptCoin",
          "Verge",
          "DevCoin",
          "EarthCoin",
          "E-Gulden",
          "Einsteinium",
          "Emerald",
          "Franko",
          "FeatherCoin",
          "GrandCoin",
          "GlobalCoin",
          "GoldCoin",
          "Infinite Coin",
          "IXcoin",
          "KrugerCoin",
          "LuckyCoin",
          "Litebar ",
          "MegaCoin",
          "MediterraneanCoin",
          "MinCoin",
          "NobleCoin",
          "Namecoin",
          "NyanCoin",
          "RonPaulCoin",
          "StableCoin",
          "SmartCoin",
          "SysCoin",
          "TigerCoin",
          "TerraCoin",
          "UnbreakableCoin",
          "Unobtanium",
          "UroCoin",
          "ViaCoin",
          "Vertcoin",
          "WorldCoin",
          "JouleCoin",
          "ByteCoin",
          "DigitalNote ",
          "MonaCoin",
          "Gulden",
          "PesetaCoin",
          "Wild Beast Coin",
          "Flo",
          "ArtByte",
          "Folding Coin",
          "Unitus",
          "CypherPunkCoin",
          "OmniCron",
          "GreenCoin",
          "Cryptonite",
          "MasterCoin",
          "SoonCoin",
          "1Credit",
          "MarsCoin ",
          "Crypto",
          "Anarchists Prime",
          "BowsCoin",
          "Song Coin",
          "BitZeny",
          "Expanse",
          "Siacoin",
          "MindCoin",
          "I0coin",
          "Revolution VR",
          "HOdlcoin",
          "Gamecredits",
          "CarpeDiemCoin",
          "Adzcoin",
          "SoilCoin",
          "YoCoin",
          "SibCoin",
          "Francs",
          "BolivarCoin",
          "Omni",
          "PizzaCoin",
          "Komodo",
          "Karbo",
          "ZayedCoin",
          "Circuits of Value",
          "DopeCoin",
          "DollarCoin",
          "Shilling",
          "ZCoin",
          "Elementrem",
          "ZClassic",
          "KiloCoin",
          "ArtexCoin",
          "Kurrent",
          "Cannabis Industry Coin",
          "OsmiumCoin",
          "Bikercoins",
          "HexxCoin",
          "PacCoin",
          "Citadel",
          "BeaverCoin",
          "VaultCoin",
          "Zero",
          "Canada eCoin",
          "Zoin",
          "DubaiCoin",
          "EB3coin",
          "Coinonat",
          "BenjiRolls",
          "ILCoin",
          "EquiTrader",
          "Quantum Resistant Ledger",
          "Dynamic",
          "Nano",
          "ChanCoin",
          "Dinastycoin",
          "DigitalPrice",
          "Unify",
          "SocialCoin",
          "ArcticCoin",
          "DAS",
          "LeviarCoin",
          "Bitcore",
          "gCn Coin",
          "SmartCash",
          "Onix",
          "Bitcoin Cash",
          "Sojourn Coin",
          "NewYorkCoin",
          "FrazCoin",
          "Kronecoin",
          "AdCoin",
          "Linx",
          "Sumokoin",
          "BitcoinZ",
          "Elements",
          "VIVO Coin",
          "Bitcoin Gold",
          "Pirl",
          "eBoost",
          "Pura",
          "Innova",
          "Ellaism",
          "GoByte",
          "SHIELD",
          "UltraNote",
          "BitCoal",
          "DaxxCoin",
          "AC3",
          "Lethean",
          "PopularCoin",
          "Photon",
          "Sucre",
          "SparksPay",
          "GunCoin",
          "IrishCoin",
          "Pioneer Coin",
          "UnitedBitcoin",
          "Interzone",
          "TurtleCoin",
          "MUNcoin",
          "Niobio Cash",
          "ShareChain",
          "Travelflex",
          "KREDS",
          "BitFlip",
          "LottoCoin",
          "Crypto Improvement Fund",
          "Callisto Network",
          "BitTube",
          "Poseidon",
          "Aidos Kuneen",
          "Bitrolium",
          "Alpenschillling",
          "FuturoCoin",
          "Monero Classic",
          "Jumpcoin",
          "Infinex",
          "KEYCO",
          "GINcoin",
          "PlatinCoin",
          "Loki",
          "Newton Coin",
          "MassGrid",
          "PluraCoin",
          "Motion",
          "PlusOneCoin",
          "Axe",
          "HexCoin",
          "Webchain",
          "Ryo",
          "Urals Coin",
          "Qwertycoin",
          "Project Pai",
          "Azart",
          "Xchange",
          "CrypticCoin",
          "Actinium",
          "Bitcoin SV",
          "FREDEnergy",
          "Universal Molecule",
          "Lithium",
          "Exosis",
          "Block-Logic",
          "Beam",
          "Bithereum",
          "SLICE",
          "BLAST",
          "Bitcoin Rhodium",
          "GlobalToken",
          "SolarCoin",
          "UFO Coin",
          "BlakeCoin",
          "Crypto Escudo",
          "Crown Coin",
          "SmileyCoin",
          "Groestlcoin",
          "Bata",
          "Pakcoin",
          "JoinCoin",
          "Vollar",
          "Reality Clash",
          "Beldex",
          "Horizen"
         ],
         "legendgroup": "1",
         "marker": {
          "color": [
           1,
           1,
           1,
           1,
           1,
           1,
           1,
           1,
           1,
           1,
           1,
           1,
           1,
           1,
           1,
           1,
           1,
           1,
           1,
           1,
           1,
           1,
           1,
           1,
           1,
           1,
           1,
           1,
           1,
           1,
           1,
           1,
           1,
           1,
           1,
           1,
           1,
           1,
           1,
           1,
           1,
           1,
           1,
           1,
           1,
           1,
           1,
           1,
           1,
           1,
           1,
           1,
           1,
           1,
           1,
           1,
           1,
           1,
           1,
           1,
           1,
           1,
           1,
           1,
           1,
           1,
           1,
           1,
           1,
           1,
           1,
           1,
           1,
           1,
           1,
           1,
           1,
           1,
           1,
           1,
           1,
           1,
           1,
           1,
           1,
           1,
           1,
           1,
           1,
           1,
           1,
           1,
           1,
           1,
           1,
           1,
           1,
           1,
           1,
           1,
           1,
           1,
           1,
           1,
           1,
           1,
           1,
           1,
           1,
           1,
           1,
           1,
           1,
           1,
           1,
           1,
           1,
           1,
           1,
           1,
           1,
           1,
           1,
           1,
           1,
           1,
           1,
           1,
           1,
           1,
           1,
           1,
           1,
           1,
           1,
           1,
           1,
           1,
           1,
           1,
           1,
           1,
           1,
           1,
           1,
           1,
           1,
           1,
           1,
           1,
           1,
           1,
           1,
           1,
           1,
           1,
           1,
           1,
           1,
           1,
           1,
           1,
           1,
           1,
           1,
           1,
           1,
           1,
           1,
           1,
           1,
           1,
           1,
           1,
           1,
           1,
           1,
           1,
           1,
           1,
           1,
           1,
           1,
           1,
           1,
           1,
           1,
           1,
           1,
           1,
           1,
           1,
           1,
           1,
           1,
           1,
           1,
           1,
           1,
           1,
           1,
           1,
           1,
           1,
           1,
           1,
           1,
           1,
           1,
           1,
           1,
           1,
           1,
           1,
           1,
           1,
           1,
           1,
           1,
           1,
           1,
           1,
           1,
           1,
           1,
           1,
           1,
           1,
           1,
           1,
           1,
           1,
           1,
           1,
           1,
           1,
           1,
           1
          ],
          "coloraxis": "coloraxis",
          "symbol": "diamond"
         },
         "mode": "markers",
         "name": "1",
         "scene": "scene",
         "showlegend": true,
         "type": "scatter3d",
         "x": [
          -0.14318068049447266,
          -0.14842504995208256,
          -0.16430798692287438,
          -0.14969909691651737,
          -0.14686733958473433,
          -0.15463071910509657,
          0.16432365716076294,
          -0.1654545562881765,
          -0.22813494209145133,
          -0.1650711115034575,
          -0.08912573118803427,
          2.5558518051395147,
          -0.140264712687115,
          -0.1623259240300134,
          -0.16487522951151184,
          -0.22602481442913616,
          -0.20433367939190464,
          -0.16492373248648692,
          -0.16543681163418852,
          -0.16552327391428573,
          -0.22822432672955478,
          0.18811268408993528,
          0.23477286716583437,
          0.08327928716410812,
          -0.16526946128121542,
          -0.16087373075484643,
          -0.1652087816191066,
          -0.16558030026298876,
          -0.17850385816797218,
          -0.1447982181238203,
          -0.16437501808743685,
          -0.16465264560219145,
          1.583861416862717,
          -0.1431420266777154,
          -0.16194151446741717,
          -0.16529591305576793,
          -0.1656508332966097,
          -0.16490987075093383,
          -0.13969801214011657,
          -0.16553207788760085,
          -0.030441955702550507,
          -0.14321968392445733,
          -0.15919405592829095,
          -0.1655115700069505,
          -0.1636060720243248,
          -0.16499817736038613,
          -0.13036900482414632,
          -0.14268327849272436,
          -0.1429706275114361,
          -0.14295382013085337,
          -0.1435444245928957,
          -0.2283982225319795,
          -0.16522790027906864,
          -0.2002440932372534,
          -0.16233072926830827,
          -0.14275060223066904,
          3.8560714359293438,
          0.45399393119319953,
          -0.16409528398888026,
          -0.14869394770995015,
          -0.1628136820797662,
          -0.16565305126740043,
          -0.16267860361042402,
          -0.1488987685177595,
          -0.13649860909872708,
          -0.12314131212235008,
          -0.18157662040269656,
          -0.16552605677162704,
          -0.03844490340249758,
          -0.12464879341687743,
          -0.16566193764300802,
          -0.14324747818103398,
          0.4863593778847177,
          -0.2277852289107127,
          -0.14422208251967647,
          -0.14298737174563106,
          -0.2280702304755087,
          -0.16378579306549063,
          -0.16297777648121997,
          -0.14949324840844516,
          0.36922472191949113,
          -0.22810561985476926,
          -0.14314314970530115,
          -0.16161856581254383,
          -0.1517433322443588,
          -0.16422490343237137,
          0.2754687271586349,
          -0.227266226646352,
          -0.15855394096155312,
          -0.164472963190923,
          -0.19186961317512008,
          -0.1654518340151551,
          -0.22806889287652324,
          -0.16566199615569366,
          -0.2282189544012314,
          -0.27577988952521604,
          0.2988625385818253,
          -0.14340332679197929,
          -0.10320866615698031,
          -0.1628281451880985,
          -0.1433619366992884,
          -0.16532536226237385,
          -0.14826415485862213,
          -0.14923530328022916,
          -0.1546523492147495,
          -0.0924013259707576,
          -0.2147969070804981,
          -0.2260469627085716,
          0.29885683567519755,
          -0.16564373507379276,
          0.298987607515428,
          -0.14476253194937863,
          0.4868816390462654,
          -0.14846412185518276,
          -0.16561200678098356,
          -0.22095424684607864,
          -0.15466470842622818,
          -0.1637447028678093,
          -0.1444808053984747,
          -0.15562156708027053,
          -0.13654117635236934,
          -0.18119745702329093,
          -0.16517430529254215,
          -0.10972248986726123,
          -0.1649964732522041,
          -0.14832131004159654,
          -0.1492886770306551,
          -0.03132210606409043,
          -0.15343921359758825,
          0.33498924267244795,
          -0.2272747176258387,
          -0.1653156231196682,
          -0.16507918256221207,
          -0.22766940513416845,
          -0.22824696870547834,
          0.2992518713317972,
          -0.17399756910905254,
          3.24494206980149,
          -0.12659019599071364,
          -0.2191198242523291,
          -0.1431798442067721,
          -0.09125125080826801,
          1.5824125771169917,
          -0.1654135339512746,
          -0.1648652153765994,
          -0.16456610233858662,
          -0.16455302536765606,
          0.2994353905682498,
          0.057668676469006,
          -0.182616632338952,
          -0.18319364340164784,
          -0.1545106897803162,
          -0.1573130167730682,
          -0.1637429109405379,
          -0.22379061766438293,
          -0.18303906592332403,
          -0.14760098427576435,
          -0.18313925531396857,
          -0.11337103918940612,
          1.136814437275982,
          0.2988396440590304,
          -0.07250101371835227,
          -0.22353319175331016,
          -0.1374319691900432,
          -0.08177972171484342,
          1.0916187403889863,
          -0.22822095680079732,
          -0.18319116589537207,
          -0.17622759795313053,
          -0.16466433664708607,
          -0.2281463376674165,
          -0.1431592243348437,
          -0.2156526850417684,
          8.035573860665437,
          -0.14570249254797138,
          0.30271454571958367,
          0.027437273012068837,
          -0.15681560651244586,
          -0.18579928829754624,
          -0.16523826942253492,
          0.1419174267566453,
          -0.22228646483922784,
          -0.10064710134151159,
          0.30676185694709684,
          -0.1654753135150651,
          -0.14270691444047578,
          -0.15350145431627277,
          -0.14604793937976668,
          -0.227315514763316,
          0.29902223913433956,
          -0.18125679667958788,
          -0.14460777105664896,
          -0.15564240682288663,
          -0.1483485193096456,
          0.30294946363058123,
          0.58449652110409,
          2.1075368464396096,
          -0.13943967972146448,
          0.3126297368286645,
          -0.19203549682966617,
          -0.16057021855536505,
          -0.22820311316137443,
          -0.16549991665940442,
          -0.1373161246135025,
          -0.13817920093799502,
          -0.16643829013948822,
          3.107513118999465,
          -0.10299530589909818,
          -0.2281744846129477,
          -0.19146332442782085,
          -0.04923707021055781,
          -0.14774633288157377,
          -0.14317988179499014,
          0.3787840078481417,
          -0.1521176166898529,
          -0.15250941541235863,
          -0.1152038036357242,
          -0.16439210996496526,
          -0.15257101997766184,
          -0.15434346460723697,
          -0.18078769537327743,
          -0.1424558347436098,
          -0.11243297987880703,
          -0.14132369030385167,
          0.5302700863532236,
          -0.1083344725383352,
          -0.102985272334321,
          -0.14904944593307892,
          -0.14296999758074863,
          0.5503205145730278,
          -0.20389453510823125,
          -0.16557670243500458,
          -0.16353220106762723,
          -0.12387665933576526,
          -0.14764374940116726,
          -0.14926847195765705,
          0.3206019079823938,
          -0.15463177669392938
         ],
         "y": [
          -1.283137601483745,
          -1.987070632698624,
          -1.148275691348877,
          -2.1731504428790034,
          -1.9871601476684742,
          -1.98509017161517,
          -1.8129438907344804,
          -1.1482730993077255,
          -0.914565693365391,
          -1.1482891252131346,
          -1.8088638095484848,
          -1.3164822281642707,
          -1.2831362952876226,
          -1.148319635372979,
          -1.1483070121988181,
          -0.3909872506902124,
          -1.2331854478970763,
          -1.1482729162708292,
          -1.148272465483931,
          -1.1482701208962882,
          -0.9145675036788551,
          -1.8090217186640911,
          -1.2841384145784742,
          -1.1487054204313096,
          -1.1482664878731141,
          -1.1483021815460863,
          -1.148271923807261,
          -1.1482708416267933,
          -1.619446389657117,
          -1.1485027031214587,
          -1.1482684086414348,
          -1.1482798775181287,
          -1.1483985543197017,
          -1.2831362208026171,
          -1.1483165636743136,
          -1.14826674149327,
          -1.1482665277888253,
          -1.1482681591129162,
          -2.2053973551736585,
          -1.1482682649531084,
          -1.1538042672701287,
          -1.283138994652746,
          -1.1482679033971692,
          -1.1482751357887724,
          -1.148365361159405,
          -1.1482776725225643,
          -1.2832792624114957,
          -1.2831378145611647,
          -1.2831446140762435,
          -1.2831702798821871,
          -1.2831362514094484,
          -0.9145612732264379,
          -1.1482663857788347,
          -1.3282330947487324,
          -1.1483304660925797,
          -1.2831388286057757,
          -2.2974657510542524,
          -2.2983906109404826,
          -1.148282692233154,
          -1.148821149631878,
          -1.1482792624619194,
          -1.1482674903849714,
          -1.1482700234792362,
          -1.1483584397926936,
          -2.247067513264884,
          -1.8086963878653095,
          -1.5777588090433599,
          -1.1482634680560146,
          -1.1506340531676273,
          -2.193604156112757,
          -1.1482664194791357,
          -1.2831399874397094,
          -1.1885680844591946,
          -0.9145621876996031,
          -2.1964382007856567,
          -1.2831533408484643,
          -0.9145640731365744,
          -1.1483442979519114,
          -1.1483429189824503,
          -1.9871204737764712,
          -2.1523564703562377,
          -0.9145618811422765,
          -1.2831362609161974,
          -1.1482667205650845,
          -1.997767138573675,
          -1.1482727236779877,
          -1.2831176872456278,
          -0.9145789013243419,
          -2.228424602163567,
          -1.1483398890013827,
          -2.226103262658942,
          -1.148272310855968,
          -0.9145667902167023,
          -1.1482664194747787,
          -0.9145721502854288,
          -1.2116117756552554,
          -2.2970265381012256,
          -1.2831377683780154,
          -1.8088138682823225,
          -1.1483030135560457,
          -1.2831369136409319,
          -1.1482747055386624,
          -2.1779246563789343,
          -1.987117687899945,
          -1.9850909442241018,
          -1.152561330221222,
          -0.9144210531768633,
          -0.9146348851526219,
          -2.2970343451636905,
          -1.1482672172606754,
          -2.297032438963934,
          -2.196418942939166,
          -0.9581335415157394,
          -2.173234205314099,
          -1.1482665302801995,
          -0.9149865953145722,
          -1.9850886208265015,
          -1.148266630758478,
          -2.1964164832690645,
          -2.248653300069084,
          -1.1499906807292817,
          -0.6368845617861569,
          -1.1482731256940368,
          -1.2836560244169894,
          -1.1482919889149588,
          -2.173173807038536,
          -2.148451344314758,
          -2.1668988670005733,
          -2.0720276431350495,
          -2.297111640134145,
          -0.9145902640468914,
          -1.148266945633488,
          -1.148297016863958,
          -0.9145767133654205,
          -0.9145689345238344,
          -2.2970430449080794,
          -2.3698287010820147,
          -1.1646850473283206,
          -1.200586550611198,
          -0.9149901927660601,
          -1.2831375716122613,
          -1.1528658577763915,
          -1.0858262716037386,
          -1.1482709428105948,
          -1.1482955950704659,
          -1.1482959704418099,
          -1.148295503343644,
          -2.2970606054640372,
          -1.9920080086887386,
          -0.914170180267783,
          -1.619400319474483,
          -1.9850858842708206,
          -2.228467582463336,
          -1.1482665667523753,
          -0.9146386186157851,
          -1.6194072399608384,
          -1.9872347378417263,
          -1.6194016946083396,
          -1.8088036036833588,
          -2.325841936928111,
          -2.297029083910168,
          -1.9912708363960212,
          -0.9147676664841492,
          -2.1734031277367474,
          -1.1487258631247894,
          -1.145801095666628,
          -0.914568627494002,
          -1.6193960836930659,
          -1.6194784427766475,
          -1.1482745955647746,
          -0.9145681740490836,
          -1.2831362586152573,
          -1.218707213107295,
          -2.711885448690745,
          -2.279259185678084,
          -2.29711428364417,
          -1.1482807984335108,
          -2.228410895365912,
          -1.3284194126632443,
          -1.1482785068022912,
          -1.1500026921025581,
          -0.9146885737448126,
          -1.989856939699559,
          -2.297428683595057,
          -1.1482738407380344,
          -2.324950439706702,
          -1.9850837047578789,
          -2.1780380674269555,
          -0.9145917212855882,
          -2.297026639936539,
          -0.6368678443700418,
          -2.1964246679858617,
          -2.3503932325046453,
          -2.1779201355665467,
          -2.297288373565238,
          -2.24010861527086,
          -2.3595988023959027,
          -2.09486169418613,
          -2.2972190879674996,
          -1.2090826036972033,
          -2.208253054546788,
          -0.9145688195919381,
          -1.1482754835150266,
          -2.1739177591293757,
          -2.2660500131369763,
          -0.781040597507557,
          -2.2773932875301663,
          -1.283139249384348,
          -0.9145705618628008,
          -1.2091160285969755,
          -1.9865643157560322,
          -2.1779494302507643,
          -1.2831375729548804,
          -2.299749912933424,
          -2.2712368735032102,
          -2.2711956462597906,
          -2.2527032905256226,
          -1.1483035798737944,
          -1.9851837365990481,
          -1.9850867444779037,
          -1.5777997507695314,
          -1.2831414328399773,
          -0.31891510146257646,
          -1.2831728799217275,
          -1.191216040153748,
          -1.6194726094347196,
          -2.274247749434055,
          -1.1483638218605035,
          -1.2831445915756605,
          -1.157252438462002,
          -1.2331842775451616,
          -1.1482664028310816,
          -1.1483157199660576,
          -1.8087245892365567,
          -2.1934326941968494,
          -1.9871176854300283,
          -2.2972109685364557,
          -1.985090209391334
         ],
         "z": [
          0.1757110151410171,
          0.3658295939385227,
          -0.004613074729303589,
          0.3508786865318256,
          0.36581692844435226,
          0.40256252309822915,
          0.28885847992915215,
          -0.004604141179994396,
          0.01814060988510561,
          -0.004607221976468975,
          0.2908547976777905,
          -0.02680333946383021,
          0.1756883437836552,
          -0.004628760608667372,
          -0.0046088554129524685,
          0.054337425967671577,
          0.06607935509623779,
          -0.004608268618289943,
          -0.004604275296238647,
          -0.004603588412681477,
          0.018141293961508806,
          0.2886975630114556,
          0.1727652726069658,
          -0.006541363732836537,
          -0.004605540150477428,
          -0.004639947991686584,
          -0.004606045505360235,
          -0.004603149311185701,
          0.2172568526606076,
          -0.00476621016431273,
          -0.004612508624268845,
          -0.004610419822157174,
          -0.018210484584038664,
          0.17571072299078175,
          -0.004631731533973382,
          -0.004605335976520747,
          -0.004602574216661954,
          -0.0046083471923147904,
          0.42145549698768553,
          -0.004603508531709278,
          -0.00568821716505364,
          0.17571130993365922,
          -0.004652801244074985,
          -0.004603710263401715,
          -0.004619085095061923,
          -0.004607718844077447,
          0.17561049971982612,
          0.175707145211333,
          0.17570933832206895,
          0.1757090498567084,
          0.1757138525139592,
          0.01814268475537811,
          -0.00460586277004728,
          0.11920953048288802,
          -0.004628789801362838,
          0.17570766259962337,
          0.31622348976511017,
          0.34267798330277854,
          -0.004614772086679312,
          -0.004737867720975784,
          -0.0046247188618567,
          -0.0046025628822214575,
          -0.004625712672025904,
          -0.004733430856902124,
          0.3912231893274123,
          0.2911203880399766,
          0.15605433715381603,
          -0.004603525879877913,
          -0.005606488714010684,
          0.37621205788705403,
          -0.004602487185233542,
          0.17571152000601706,
          -0.009921378769639392,
          0.018137911483397082,
          0.3660032281401685,
          0.17570941491771,
          0.018140116538633087,
          -0.004617557831617338,
          -0.0046238338288822,
          0.3658375956894008,
          0.3790942499360394,
          0.01814040525705124,
          0.1757107314787601,
          -0.0046339369781341734,
          0.4063133711342688,
          -0.004613702684383444,
          0.1724550277795294,
          0.018133772141146406,
          0.34761247081684266,
          -0.004612186163296897,
          0.19236707154696492,
          -0.004604157507022968,
          0.01814008943593565,
          -0.004602486730115399,
          0.0181412236191164,
          0.6680121181435194,
          0.34389292508267977,
          0.17571274578087845,
          0.29096463679862267,
          -0.004624752348291233,
          0.17571242911636542,
          -0.004605155878255774,
          0.36043772613141906,
          0.3658356066038845,
          0.402562686581218,
          -0.005198679536488423,
          0.018037760245373076,
          0.01812394504997053,
          0.3438929214552923,
          -0.004602633661705103,
          0.3438919160729213,
          0.3660075499279459,
          0.012311688861026729,
          0.35086856651621406,
          -0.004602876211133634,
          0.0180821740448683,
          0.4025627969865977,
          -0.004617400070266686,
          0.3660053738738979,
          0.31741860269559713,
          -0.004839575757122315,
          -0.0008484962881560457,
          -0.004606321037118836,
          0.1754476026950417,
          -0.004607820087337753,
          0.35086782698647506,
          0.39844550275159635,
          0.38212018577888796,
          0.40201135968327645,
          0.34361142107836334,
          0.018133768345148564,
          -0.004605183933142741,
          -0.004607207705075794,
          0.01813692137076848,
          0.018141461268888943,
          0.3438897955360098,
          0.21989115875314866,
          -0.03122989088602128,
          0.04410732376706935,
          0.018067884432642133,
          0.17571100882024715,
          -0.005209496064168397,
          -0.017814643480684844,
          -0.004604446983545004,
          -0.0046088631291479965,
          -0.004611191833570123,
          -0.004611290670900438,
          0.34388826025900104,
          0.4008688147113695,
          0.017789015118112508,
          0.21729361133181924,
          0.4025616159020534,
          0.3476025551801247,
          -0.004617413613869876,
          0.01810637303546371,
          0.2172923665481835,
          0.36582217604295353,
          0.21729317986850952,
          0.29104373929488786,
          0.3371985251637099,
          0.3438930875016549,
          0.36521326847011526,
          0.018103577731128667,
          0.35078172405661195,
          -0.005257717705119214,
          0.15416451089846842,
          0.018141260844346,
          0.2172936180959703,
          0.21723895169872404,
          -0.004610296430106408,
          0.018140683269527325,
          0.17571085651579005,
          0.07863582737624952,
          0.2811697256578938,
          0.3032335422811172,
          0.34386242621970736,
          -0.006104434183672146,
          0.3475990348976705,
          0.11909603868501696,
          -0.0046058566188946675,
          -0.007005403925634357,
          0.018094367230124923,
          0.36544086885176175,
          0.3438290153194494,
          -0.004603984294359103,
          0.24106519452438138,
          0.4025537798143785,
          0.3604197921465521,
          0.0181340766948555,
          0.3438916823613384,
          -0.0008479320187933905,
          0.36600631106501147,
          0.3232253311780922,
          0.36043841007398125,
          0.34385952914396506,
          0.33755691129160503,
          0.32944111179349117,
          0.38834583158618335,
          0.34378466517252726,
          0.21031040773560897,
          0.31716554447737844,
          0.018141120882069102,
          -0.004603803036237206,
          0.35077766010618605,
          0.3182030426708774,
          -0.047759606044407404,
          0.31770461052650634,
          0.17539845711997967,
          0.0181408875110698,
          0.2103057521461146,
          0.4017337477181337,
          0.36043354643033193,
          0.17571100910434334,
          0.3432545856355366,
          0.3161661790044321,
          0.3161694796636798,
          0.31724926640593104,
          -0.00461259185381748,
          0.40254592841815845,
          0.40256030999583264,
          0.15604794953882248,
          0.1757053539946799,
          -0.0647463123913186,
          0.17569635529284655,
          -0.01027917549072879,
          0.21671093839088232,
          0.31576553968534027,
          -0.004732292018745436,
          0.17570933356097657,
          -0.01022637868375774,
          0.06607594677749598,
          -0.004603150012771585,
          -0.004619354540340828,
          0.2911259339882149,
          0.32689934900318585,
          0.36583586459352296,
          0.3437227102953417,
          0.4025625310916136
         ]
        },
        {
         "customdata": [
          [
           "Proof-of-BibleHash"
          ],
          [
           "SHA-256 + Hive"
          ],
          [
           "Proof-of-Authority"
          ],
          [
           "ECC 256K1"
          ],
          [
           "Leased POS"
          ]
         ],
         "hovertemplate": "<b>%{hovertext}</b><br><br>Class=%{marker.color}<br>PC 1=%{x}<br>PC 2=%{y}<br>PC 3=%{z}<br>Algorithm=%{customdata[0]}<extra></extra>",
         "hovertext": [
          "BiblePay",
          "LitecoinCash",
          "Poa Network",
          "Acute Angle Cloud",
          "Waves"
         ],
         "legendgroup": "3",
         "marker": {
          "color": [
           3,
           3,
           3,
           3,
           3
          ],
          "coloraxis": "coloraxis",
          "symbol": "square"
         },
         "mode": "markers",
         "name": "3",
         "scene": "scene",
         "showlegend": true,
         "type": "scatter3d",
         "x": [
          -0.1997979470656397,
          -0.40239779812632387,
          -0.3842685155170232,
          -0.37354096186171876,
          -0.4164191371489816
         ],
         "y": [
          3.457859243307908,
          3.1131416829903307,
          4.248091218861345,
          1.6454558304722304,
          3.1413840593179456
         ],
         "z": [
          13.4473517903112,
          7.587083377323204,
          18.836107572451986,
          13.319364189572951,
          14.307849475281396
         ]
        },
        {
         "customdata": [
          [
           "TRC10"
          ]
         ],
         "hovertemplate": "<b>%{hovertext}</b><br><br>Class=%{marker.color}<br>PC 1=%{x}<br>PC 2=%{y}<br>PC 3=%{z}<br>Algorithm=%{customdata[0]}<extra></extra>",
         "hovertext": [
          "BitTorrent"
         ],
         "legendgroup": "2",
         "marker": {
          "color": [
           2
          ],
          "coloraxis": "coloraxis",
          "symbol": "x"
         },
         "mode": "markers",
         "name": "2",
         "scene": "scene",
         "showlegend": true,
         "type": "scatter3d",
         "x": [
          34.07249763214685
         ],
         "y": [
          1.673702294199362
         ],
         "z": [
          0.18771376142930976
         ]
        }
       ],
       "layout": {
        "coloraxis": {
         "colorbar": {
          "title": {
           "text": "Class"
          }
         },
         "colorscale": [
          [
           0,
           "#0d0887"
          ],
          [
           0.1111111111111111,
           "#46039f"
          ],
          [
           0.2222222222222222,
           "#7201a8"
          ],
          [
           0.3333333333333333,
           "#9c179e"
          ],
          [
           0.4444444444444444,
           "#bd3786"
          ],
          [
           0.5555555555555556,
           "#d8576b"
          ],
          [
           0.6666666666666666,
           "#ed7953"
          ],
          [
           0.7777777777777778,
           "#fb9f3a"
          ],
          [
           0.8888888888888888,
           "#fdca26"
          ],
          [
           1,
           "#f0f921"
          ]
         ]
        },
        "legend": {
         "title": {
          "text": "Class"
         },
         "tracegroupgap": 0,
         "x": 0,
         "y": 1
        },
        "margin": {
         "t": 60
        },
        "scene": {
         "domain": {
          "x": [
           0,
           1
          ],
          "y": [
           0,
           1
          ]
         },
         "xaxis": {
          "title": {
           "text": "PC 1"
          }
         },
         "yaxis": {
          "title": {
           "text": "PC 2"
          }
         },
         "zaxis": {
          "title": {
           "text": "PC 3"
          }
         }
        },
        "template": {
         "data": {
          "bar": [
           {
            "error_x": {
             "color": "#2a3f5f"
            },
            "error_y": {
             "color": "#2a3f5f"
            },
            "marker": {
             "line": {
              "color": "#E5ECF6",
              "width": 0.5
             },
             "pattern": {
              "fillmode": "overlay",
              "size": 10,
              "solidity": 0.2
             }
            },
            "type": "bar"
           }
          ],
          "barpolar": [
           {
            "marker": {
             "line": {
              "color": "#E5ECF6",
              "width": 0.5
             },
             "pattern": {
              "fillmode": "overlay",
              "size": 10,
              "solidity": 0.2
             }
            },
            "type": "barpolar"
           }
          ],
          "carpet": [
           {
            "aaxis": {
             "endlinecolor": "#2a3f5f",
             "gridcolor": "white",
             "linecolor": "white",
             "minorgridcolor": "white",
             "startlinecolor": "#2a3f5f"
            },
            "baxis": {
             "endlinecolor": "#2a3f5f",
             "gridcolor": "white",
             "linecolor": "white",
             "minorgridcolor": "white",
             "startlinecolor": "#2a3f5f"
            },
            "type": "carpet"
           }
          ],
          "choropleth": [
           {
            "colorbar": {
             "outlinewidth": 0,
             "ticks": ""
            },
            "type": "choropleth"
           }
          ],
          "contour": [
           {
            "colorbar": {
             "outlinewidth": 0,
             "ticks": ""
            },
            "colorscale": [
             [
              0,
              "#0d0887"
             ],
             [
              0.1111111111111111,
              "#46039f"
             ],
             [
              0.2222222222222222,
              "#7201a8"
             ],
             [
              0.3333333333333333,
              "#9c179e"
             ],
             [
              0.4444444444444444,
              "#bd3786"
             ],
             [
              0.5555555555555556,
              "#d8576b"
             ],
             [
              0.6666666666666666,
              "#ed7953"
             ],
             [
              0.7777777777777778,
              "#fb9f3a"
             ],
             [
              0.8888888888888888,
              "#fdca26"
             ],
             [
              1,
              "#f0f921"
             ]
            ],
            "type": "contour"
           }
          ],
          "contourcarpet": [
           {
            "colorbar": {
             "outlinewidth": 0,
             "ticks": ""
            },
            "type": "contourcarpet"
           }
          ],
          "heatmap": [
           {
            "colorbar": {
             "outlinewidth": 0,
             "ticks": ""
            },
            "colorscale": [
             [
              0,
              "#0d0887"
             ],
             [
              0.1111111111111111,
              "#46039f"
             ],
             [
              0.2222222222222222,
              "#7201a8"
             ],
             [
              0.3333333333333333,
              "#9c179e"
             ],
             [
              0.4444444444444444,
              "#bd3786"
             ],
             [
              0.5555555555555556,
              "#d8576b"
             ],
             [
              0.6666666666666666,
              "#ed7953"
             ],
             [
              0.7777777777777778,
              "#fb9f3a"
             ],
             [
              0.8888888888888888,
              "#fdca26"
             ],
             [
              1,
              "#f0f921"
             ]
            ],
            "type": "heatmap"
           }
          ],
          "heatmapgl": [
           {
            "colorbar": {
             "outlinewidth": 0,
             "ticks": ""
            },
            "colorscale": [
             [
              0,
              "#0d0887"
             ],
             [
              0.1111111111111111,
              "#46039f"
             ],
             [
              0.2222222222222222,
              "#7201a8"
             ],
             [
              0.3333333333333333,
              "#9c179e"
             ],
             [
              0.4444444444444444,
              "#bd3786"
             ],
             [
              0.5555555555555556,
              "#d8576b"
             ],
             [
              0.6666666666666666,
              "#ed7953"
             ],
             [
              0.7777777777777778,
              "#fb9f3a"
             ],
             [
              0.8888888888888888,
              "#fdca26"
             ],
             [
              1,
              "#f0f921"
             ]
            ],
            "type": "heatmapgl"
           }
          ],
          "histogram": [
           {
            "marker": {
             "pattern": {
              "fillmode": "overlay",
              "size": 10,
              "solidity": 0.2
             }
            },
            "type": "histogram"
           }
          ],
          "histogram2d": [
           {
            "colorbar": {
             "outlinewidth": 0,
             "ticks": ""
            },
            "colorscale": [
             [
              0,
              "#0d0887"
             ],
             [
              0.1111111111111111,
              "#46039f"
             ],
             [
              0.2222222222222222,
              "#7201a8"
             ],
             [
              0.3333333333333333,
              "#9c179e"
             ],
             [
              0.4444444444444444,
              "#bd3786"
             ],
             [
              0.5555555555555556,
              "#d8576b"
             ],
             [
              0.6666666666666666,
              "#ed7953"
             ],
             [
              0.7777777777777778,
              "#fb9f3a"
             ],
             [
              0.8888888888888888,
              "#fdca26"
             ],
             [
              1,
              "#f0f921"
             ]
            ],
            "type": "histogram2d"
           }
          ],
          "histogram2dcontour": [
           {
            "colorbar": {
             "outlinewidth": 0,
             "ticks": ""
            },
            "colorscale": [
             [
              0,
              "#0d0887"
             ],
             [
              0.1111111111111111,
              "#46039f"
             ],
             [
              0.2222222222222222,
              "#7201a8"
             ],
             [
              0.3333333333333333,
              "#9c179e"
             ],
             [
              0.4444444444444444,
              "#bd3786"
             ],
             [
              0.5555555555555556,
              "#d8576b"
             ],
             [
              0.6666666666666666,
              "#ed7953"
             ],
             [
              0.7777777777777778,
              "#fb9f3a"
             ],
             [
              0.8888888888888888,
              "#fdca26"
             ],
             [
              1,
              "#f0f921"
             ]
            ],
            "type": "histogram2dcontour"
           }
          ],
          "mesh3d": [
           {
            "colorbar": {
             "outlinewidth": 0,
             "ticks": ""
            },
            "type": "mesh3d"
           }
          ],
          "parcoords": [
           {
            "line": {
             "colorbar": {
              "outlinewidth": 0,
              "ticks": ""
             }
            },
            "type": "parcoords"
           }
          ],
          "pie": [
           {
            "automargin": true,
            "type": "pie"
           }
          ],
          "scatter": [
           {
            "marker": {
             "colorbar": {
              "outlinewidth": 0,
              "ticks": ""
             }
            },
            "type": "scatter"
           }
          ],
          "scatter3d": [
           {
            "line": {
             "colorbar": {
              "outlinewidth": 0,
              "ticks": ""
             }
            },
            "marker": {
             "colorbar": {
              "outlinewidth": 0,
              "ticks": ""
             }
            },
            "type": "scatter3d"
           }
          ],
          "scattercarpet": [
           {
            "marker": {
             "colorbar": {
              "outlinewidth": 0,
              "ticks": ""
             }
            },
            "type": "scattercarpet"
           }
          ],
          "scattergeo": [
           {
            "marker": {
             "colorbar": {
              "outlinewidth": 0,
              "ticks": ""
             }
            },
            "type": "scattergeo"
           }
          ],
          "scattergl": [
           {
            "marker": {
             "colorbar": {
              "outlinewidth": 0,
              "ticks": ""
             }
            },
            "type": "scattergl"
           }
          ],
          "scattermapbox": [
           {
            "marker": {
             "colorbar": {
              "outlinewidth": 0,
              "ticks": ""
             }
            },
            "type": "scattermapbox"
           }
          ],
          "scatterpolar": [
           {
            "marker": {
             "colorbar": {
              "outlinewidth": 0,
              "ticks": ""
             }
            },
            "type": "scatterpolar"
           }
          ],
          "scatterpolargl": [
           {
            "marker": {
             "colorbar": {
              "outlinewidth": 0,
              "ticks": ""
             }
            },
            "type": "scatterpolargl"
           }
          ],
          "scatterternary": [
           {
            "marker": {
             "colorbar": {
              "outlinewidth": 0,
              "ticks": ""
             }
            },
            "type": "scatterternary"
           }
          ],
          "surface": [
           {
            "colorbar": {
             "outlinewidth": 0,
             "ticks": ""
            },
            "colorscale": [
             [
              0,
              "#0d0887"
             ],
             [
              0.1111111111111111,
              "#46039f"
             ],
             [
              0.2222222222222222,
              "#7201a8"
             ],
             [
              0.3333333333333333,
              "#9c179e"
             ],
             [
              0.4444444444444444,
              "#bd3786"
             ],
             [
              0.5555555555555556,
              "#d8576b"
             ],
             [
              0.6666666666666666,
              "#ed7953"
             ],
             [
              0.7777777777777778,
              "#fb9f3a"
             ],
             [
              0.8888888888888888,
              "#fdca26"
             ],
             [
              1,
              "#f0f921"
             ]
            ],
            "type": "surface"
           }
          ],
          "table": [
           {
            "cells": {
             "fill": {
              "color": "#EBF0F8"
             },
             "line": {
              "color": "white"
             }
            },
            "header": {
             "fill": {
              "color": "#C8D4E3"
             },
             "line": {
              "color": "white"
             }
            },
            "type": "table"
           }
          ]
         },
         "layout": {
          "annotationdefaults": {
           "arrowcolor": "#2a3f5f",
           "arrowhead": 0,
           "arrowwidth": 1
          },
          "autotypenumbers": "strict",
          "coloraxis": {
           "colorbar": {
            "outlinewidth": 0,
            "ticks": ""
           }
          },
          "colorscale": {
           "diverging": [
            [
             0,
             "#8e0152"
            ],
            [
             0.1,
             "#c51b7d"
            ],
            [
             0.2,
             "#de77ae"
            ],
            [
             0.3,
             "#f1b6da"
            ],
            [
             0.4,
             "#fde0ef"
            ],
            [
             0.5,
             "#f7f7f7"
            ],
            [
             0.6,
             "#e6f5d0"
            ],
            [
             0.7,
             "#b8e186"
            ],
            [
             0.8,
             "#7fbc41"
            ],
            [
             0.9,
             "#4d9221"
            ],
            [
             1,
             "#276419"
            ]
           ],
           "sequential": [
            [
             0,
             "#0d0887"
            ],
            [
             0.1111111111111111,
             "#46039f"
            ],
            [
             0.2222222222222222,
             "#7201a8"
            ],
            [
             0.3333333333333333,
             "#9c179e"
            ],
            [
             0.4444444444444444,
             "#bd3786"
            ],
            [
             0.5555555555555556,
             "#d8576b"
            ],
            [
             0.6666666666666666,
             "#ed7953"
            ],
            [
             0.7777777777777778,
             "#fb9f3a"
            ],
            [
             0.8888888888888888,
             "#fdca26"
            ],
            [
             1,
             "#f0f921"
            ]
           ],
           "sequentialminus": [
            [
             0,
             "#0d0887"
            ],
            [
             0.1111111111111111,
             "#46039f"
            ],
            [
             0.2222222222222222,
             "#7201a8"
            ],
            [
             0.3333333333333333,
             "#9c179e"
            ],
            [
             0.4444444444444444,
             "#bd3786"
            ],
            [
             0.5555555555555556,
             "#d8576b"
            ],
            [
             0.6666666666666666,
             "#ed7953"
            ],
            [
             0.7777777777777778,
             "#fb9f3a"
            ],
            [
             0.8888888888888888,
             "#fdca26"
            ],
            [
             1,
             "#f0f921"
            ]
           ]
          },
          "colorway": [
           "#636efa",
           "#EF553B",
           "#00cc96",
           "#ab63fa",
           "#FFA15A",
           "#19d3f3",
           "#FF6692",
           "#B6E880",
           "#FF97FF",
           "#FECB52"
          ],
          "font": {
           "color": "#2a3f5f"
          },
          "geo": {
           "bgcolor": "white",
           "lakecolor": "white",
           "landcolor": "#E5ECF6",
           "showlakes": true,
           "showland": true,
           "subunitcolor": "white"
          },
          "hoverlabel": {
           "align": "left"
          },
          "hovermode": "closest",
          "mapbox": {
           "style": "light"
          },
          "paper_bgcolor": "white",
          "plot_bgcolor": "#E5ECF6",
          "polar": {
           "angularaxis": {
            "gridcolor": "white",
            "linecolor": "white",
            "ticks": ""
           },
           "bgcolor": "#E5ECF6",
           "radialaxis": {
            "gridcolor": "white",
            "linecolor": "white",
            "ticks": ""
           }
          },
          "scene": {
           "xaxis": {
            "backgroundcolor": "#E5ECF6",
            "gridcolor": "white",
            "gridwidth": 2,
            "linecolor": "white",
            "showbackground": true,
            "ticks": "",
            "zerolinecolor": "white"
           },
           "yaxis": {
            "backgroundcolor": "#E5ECF6",
            "gridcolor": "white",
            "gridwidth": 2,
            "linecolor": "white",
            "showbackground": true,
            "ticks": "",
            "zerolinecolor": "white"
           },
           "zaxis": {
            "backgroundcolor": "#E5ECF6",
            "gridcolor": "white",
            "gridwidth": 2,
            "linecolor": "white",
            "showbackground": true,
            "ticks": "",
            "zerolinecolor": "white"
           }
          },
          "shapedefaults": {
           "line": {
            "color": "#2a3f5f"
           }
          },
          "ternary": {
           "aaxis": {
            "gridcolor": "white",
            "linecolor": "white",
            "ticks": ""
           },
           "baxis": {
            "gridcolor": "white",
            "linecolor": "white",
            "ticks": ""
           },
           "bgcolor": "#E5ECF6",
           "caxis": {
            "gridcolor": "white",
            "linecolor": "white",
            "ticks": ""
           }
          },
          "title": {
           "x": 0.05
          },
          "xaxis": {
           "automargin": true,
           "gridcolor": "white",
           "linecolor": "white",
           "ticks": "",
           "title": {
            "standoff": 15
           },
           "zerolinecolor": "white",
           "zerolinewidth": 2
          },
          "yaxis": {
           "automargin": true,
           "gridcolor": "white",
           "linecolor": "white",
           "ticks": "",
           "title": {
            "standoff": 15
           },
           "zerolinecolor": "white",
           "zerolinewidth": 2
          }
         }
        },
        "width": 800
       }
      },
      "text/html": [
       "<div>                            <div id=\"ec08eb46-25a5-4a8a-ac54-eab9c66c64b4\" class=\"plotly-graph-div\" style=\"height:525px; width:800px;\"></div>            <script type=\"text/javascript\">                require([\"plotly\"], function(Plotly) {                    window.PLOTLYENV=window.PLOTLYENV || {};                                    if (document.getElementById(\"ec08eb46-25a5-4a8a-ac54-eab9c66c64b4\")) {                    Plotly.newPlot(                        \"ec08eb46-25a5-4a8a-ac54-eab9c66c64b4\",                        [{\"customdata\":[[\"Scrypt\"],[\"Scrypt\"],[\"X13\"],[\"X11\"],[\"SHA-512\"],[\"SHA-256\"],[\"SHA-256\"],[\"X15\"],[\"Scrypt\"],[\"Scrypt\"],[\"Scrypt\"],[\"Scrypt\"],[\"Scrypt\"],[\"Scrypt\"],[\"Groestl\"],[\"PoS\"],[\"Scrypt\"],[\"Scrypt\"],[\"X11\"],[\"X11\"],[\"SHA3\"],[\"Scrypt\"],[\"SHA-256\"],[\"Scrypt\"],[\"X13\"],[\"X13\"],[\"NeoScrypt\"],[\"Scrypt\"],[\"Scrypt\"],[\"Scrypt\"],[\"X11\"],[\"X11\"],[\"Multiple\"],[\"PHI1612\"],[\"X11\"],[\"Scrypt\"],[\"Scrypt\"],[\"Scrypt\"],[\"X11\"],[\"Multiple\"],[\"X13\"],[\"Scrypt\"],[\"Shabal256\"],[\"Counterparty\"],[\"SHA-256\"],[\"Groestl\"],[\"Scrypt\"],[\"X13\"],[\"Scrypt\"],[\"Scrypt\"],[\"X13\"],[\"X11\"],[\"Scrypt\"],[\"X11\"],[\"SHA3\"],[\"QUAIT\"],[\"X11\"],[\"Scrypt\"],[\"X13\"],[\"SHA-256\"],[\"X15\"],[\"BLAKE256\"],[\"SHA-256\"],[\"X11\"],[\"SHA-256\"],[\"NIST5\"],[\"Scrypt\"],[\"Scrypt\"],[\"X11\"],[\"Scrypt\"],[\"SHA-256\"],[\"Scrypt\"],[\"PoS\"],[\"X11\"],[\"SHA-256\"],[\"SHA-256\"],[\"NIST5\"],[\"X11\"],[\"POS 3.0\"],[\"Scrypt\"],[\"Scrypt\"],[\"Scrypt\"],[\"X13\"],[\"X11\"],[\"X11\"],[\"Scrypt\"],[\"SHA-256\"],[\"X11\"],[\"Scrypt\"],[\"Scrypt\"],[\"Scrypt\"],[\"Scrypt\"],[\"SHA-256D\"],[\"PoS\"],[\"Scrypt\"],[\"X11\"],[\"PoS\"],[\"X13\"],[\"X14\"],[\"PoS\"],[\"SHA-256D\"],[\"DPoS\"],[\"X11\"],[\"X13\"],[\"X11\"],[\"PoS\"],[\"Scrypt\"],[\"Scrypt\"],[\"PoS\"],[\"X11\"],[\"SHA-256\"],[\"Scrypt\"],[\"X11\"],[\"Scrypt\"],[\"Scrypt\"],[\"X11\"],[\"Scrypt\"],[\"Scrypt\"],[\"Scrypt\"],[\"Scrypt\"],[\"Quark\"],[\"QuBit\"],[\"Scrypt\"],[\"SHA-256\"],[\"X11\"],[\"Scrypt\"],[\"Scrypt\"],[\"Scrypt\"],[\"Scrypt\"],[\"X13\"],[\"Scrypt\"],[\"Scrypt\"],[\"X11\"],[\"Blake2S\"],[\"X11\"],[\"PoS\"],[\"X11\"],[\"PoS\"],[\"X11\"],[\"Scrypt\"],[\"Scrypt\"],[\"Scrypt\"],[\"SHA-256\"],[\"X11\"],[\"Scrypt\"],[\"PoS\"],[\"Scrypt\"],[\"X15\"],[\"SHA-256\"],[\"POS 3.0\"],[\"536\"],[\"NIST5\"],[\"NIST5\"],[\"Skein\"],[\"X13\"],[\"Scrypt\"],[\"X13\"],[\"SkunkHash v2 Raptor\"],[\"Skein\"],[\"X11\"],[\"Scrypt\"],[\"VeChainThor Authority\"],[\"PoS\"],[\"Scrypt\"],[\"Scrypt\"],[\"SHA-512\"],[\"Ouroboros\"],[\"X11\"],[\"NeoScrypt\"],[\"Scrypt\"],[\"Lyra2REv2\"],[\"Scrypt\"],[\"SHA-256\"],[\"NIST5\"],[\"PHI1612\"],[\"Scrypt\"],[\"Quark\"],[\"POS 2.0\"],[\"Scrypt\"],[\"SHA-256\"],[\"X11\"],[\"DPoS\"],[\"NIST5\"],[\"X13\"],[\"Scrypt\"],[\"NIST5\"],[\"Quark\"],[\"Scrypt\"],[\"Scrypt\"],[\"X11\"],[\"Quark\"],[\"Scrypt\"],[\"Scrypt\"],[\"X11\"],[\"POS 3.0\"],[\"Ethash\"],[\"Scrypt\"],[\"Scrypt\"],[\"X13\"],[\"C11\"],[\"X11\"],[\"XEVAN\"],[\"Scrypt\"],[\"VBFT\"],[\"NIST5\"],[\"Scrypt\"],[\"Scrypt\"],[\"Scrypt\"],[\"Green Protocol\"],[\"PoS\"],[\"Scrypt\"],[\"Semux BFT consensus\"],[\"Quark\"],[\"PoS\"],[\"X16R\"],[\"Scrypt\"],[\"XEVAN\"],[\"Scrypt\"],[\"Scrypt\"],[\"Scrypt\"],[\"SHA-256D\"],[\"Scrypt\"],[\"X15\"],[\"Scrypt\"],[\"Quark\"],[\"SHA-256\"],[\"DPoS\"],[\"X16R\"],[\"Quark\"],[\"Quark\"],[\"Scrypt\"],[\"Lyra2REv2\"],[\"Quark\"],[\"Scrypt\"],[\"X11\"],[\"X11\"],[\"Scrypt\"],[\"PoS\"],[\"Keccak\"],[\"X11\"],[\"Scrypt\"],[\"SHA-512\"],[\"XEVAN\"],[\"XEVAN\"],[\"X11\"],[\"Quark\"],[\"Equihash\"],[\"Scrypt\"],[\"Quark\"],[\"Quark\"],[\"Scrypt\"],[\"X11\"],[\"Scrypt\"],[\"XEVAN\"],[\"SHA-256D\"],[\"X11\"],[\"X11\"],[\"DPoS\"],[\"Scrypt\"],[\"X11\"],[\"Scrypt\"],[\"Scrypt\"],[\"SHA-256\"],[\"Scrypt\"],[\"X11\"],[\"Scrypt\"],[\"SHA-256\"],[\"X11\"],[\"Scrypt\"],[\"Scrypt\"],[\"X11\"],[\"Scrypt\"],[\"PoS\"],[\"X11\"],[\"SHA-256\"],[\"DPoS\"],[\"Scrypt\"],[\"Scrypt\"],[\"NeoScrypt\"],[\"X13\"],[\"DPoS\"],[\"DPoS\"],[\"SHA-256\"],[\"PoS\"],[\"PoS\"],[\"SHA-256\"],[\"Scrypt\"],[\"Scrypt\"]],\"hovertemplate\":\"<b>%{hovertext}</b><br><br>Class=%{marker.color}<br>PC 1=%{x}<br>PC 2=%{y}<br>PC 3=%{z}<br>Algorithm=%{customdata[0]}<extra></extra>\",\"hovertext\":[\"42 Coin\",\"404Coin\",\"EliteCoin\",\"Dash\",\"Bitshares\",\"BitcoinDark\",\"PayCoin\",\"KoboCoin\",\"Aurora Coin\",\"BlueCoin\",\"EnergyCoin\",\"BitBar\",\"CryptoBullion\",\"CasinoCoin\",\"Diamond\",\"Exclusive Coin\",\"FlutterCoin\",\"HoboNickels\",\"HyperStake\",\"IOCoin\",\"MaxCoin\",\"MintCoin\",\"MazaCoin\",\"Nautilus Coin\",\"NavCoin\",\"OpalCoin\",\"Orbitcoin\",\"PotCoin\",\"PhoenixCoin\",\"Reddcoin\",\"SuperCoin\",\"SyncCoin\",\"TeslaCoin\",\"TittieCoin\",\"TorCoin\",\"UnitaryStatus Dollar\",\"UltraCoin\",\"VeriCoin\",\"X11 Coin\",\"Crypti\",\"StealthCoin\",\"ZCC Coin\",\"BurstCoin\",\"StorjCoin\",\"Neutron\",\"FairCoin\",\"RubyCoin\",\"Kore\",\"Dnotes\",\"8BIT Coin\",\"Sativa Coin\",\"Ucoin\",\"Vtorrent\",\"IslaCoin\",\"Nexus\",\"Droidz\",\"Squall Coin\",\"Diggits\",\"Paycon\",\"Emercoin\",\"EverGreenCoin\",\"Decred\",\"EDRCoin\",\"Hitcoin\",\"DubaiCoin\",\"PWR Coin\",\"BillaryCoin\",\"GPU Coin\",\"EuropeCoin\",\"ZeitCoin\",\"SwingCoin\",\"SafeExchangeCoin\",\"Nebuchadnezzar\",\"Ratecoin\",\"Revenu\",\"Clockcoin\",\"VIP Tokens\",\"BitSend\",\"Let it Ride\",\"PutinCoin\",\"iBankCoin\",\"Frankywillcoin\",\"MudraCoin\",\"Lutetium Coin\",\"GoldBlocks\",\"CarterCoin\",\"BitTokens\",\"MustangCoin\",\"ZoneCoin\",\"RootCoin\",\"BitCurrency\",\"Swiscoin\",\"BuzzCoin\",\"Opair\",\"PesoBit\",\"Halloween Coin\",\"CoffeeCoin\",\"RoyalCoin\",\"GanjaCoin V2\",\"TeamUP\",\"LanaCoin\",\"ARK\",\"InsaneCoin\",\"EmberCoin\",\"XenixCoin\",\"FreeCoin\",\"PLNCoin\",\"AquariusCoin\",\"Creatio\",\"Eternity\",\"Eurocoin\",\"BitcoinFast\",\"Stakenet\",\"BitConnect Coin\",\"MoneyCoin\",\"Enigma\",\"Russiacoin\",\"PandaCoin\",\"GameUnits\",\"GAKHcoin\",\"Allsafe\",\"LiteCreed\",\"Klingon Empire Darsek\",\"Internet of People\",\"KushCoin\",\"Printerium\",\"Impeach\",\"Zilbercoin\",\"FirstCoin\",\"FindCoin\",\"OpenChat\",\"RenosCoin\",\"VirtacoinPlus\",\"TajCoin\",\"Impact\",\"Atmos\",\"HappyCoin\",\"MacronCoin\",\"Condensate\",\"Independent Money System\",\"ArgusCoin\",\"LomoCoin\",\"ProCurrency\",\"GoldReserve\",\"GrowthCoin\",\"Phreak\",\"Degas Coin\",\"HTML5 Coin\",\"Ultimate Secure Cash\",\"QTUM\",\"Espers\",\"Denarius\",\"Virta Unique Coin\",\"Bitcoin Planet\",\"BritCoin\",\"Linda\",\"DeepOnion\",\"Signatum\",\"Cream\",\"Monoeci\",\"Draftcoin\",\"Vechain\",\"Stakecoin\",\"CoinonatX\",\"Ethereum Dark\",\"Obsidian\",\"Cardano\",\"Regalcoin\",\"TrezarCoin\",\"TerraNovaCoin\",\"Rupee\",\"WomenCoin\",\"Theresa May Coin\",\"NamoCoin\",\"LUXCoin\",\"Xios\",\"Bitcloud 2.0\",\"KekCoin\",\"BlackholeCoin\",\"Infinity Economics\",\"Magnet\",\"Lamden Tau\",\"Electra\",\"Bitcoin Diamond\",\"Cash & Back Coin\",\"Bulwark\",\"Kalkulus\",\"GermanCoin\",\"LiteCoin Ultra\",\"PhantomX\",\"Digiwage\",\"Trollcoin\",\"Litecoin Plus\",\"Monkey Project\",\"TokenPay\",\"1717 Masonic Commemorative Token\",\"My Big Coin\",\"Unified Society USDEX\",\"Tokyo Coin\",\"Stipend\",\"Pushi\",\"Ellerium\",\"Velox\",\"Ontology\",\"Bitspace\",\"Briacoin\",\"Ignition\",\"MedicCoin\",\"Bitcoin Green\",\"Deviant Coin\",\"Abjcoin\",\"Semux\",\"Carebit\",\"Zealium\",\"Proton\",\"iDealCash\",\"Bitcoin Incognito\",\"HollyWoodCoin\",\"Swisscoin\",\"Xt3ch\",\"TheVig\",\"EmaratCoin\",\"Dekado\",\"Lynx\",\"Poseidon Quark\",\"BitcoinWSpectrum\",\"Muse\",\"Trivechain\",\"Dystem\",\"Giant\",\"Peony Coin\",\"Absolute Coin\",\"Vitae\",\"TPCash\",\"ARENON\",\"EUNO\",\"MMOCoin\",\"Ketan\",\"XDNA\",\"PAXEX\",\"ThunderStake\",\"Kcash\",\"Bettex coin\",\"BitMoney\",\"Junson Ming Chan Coin\",\"HerbCoin\",\"PirateCash\",\"Oduwa\",\"Galilel\",\"Crypto Sports\",\"Credit\",\"Dash Platinum\",\"Nasdacoin\",\"Beetle Coin\",\"Titan Coin\",\"Award\",\"Insane Coin\",\"ALAX\",\"LiteDoge\",\"TruckCoin\",\"OrangeCoin\",\"BitstarCoin\",\"NeosCoin\",\"HyperCoin\",\"PinkCoin\",\"AudioCoin\",\"IncaKoin\",\"Piggy Coin\",\"Genstake\",\"XiaoMiCoin\",\"CapriCoin\",\" ClubCoin\",\"Radium\",\"Creditbit \",\"OKCash\",\"Lisk\",\"HiCoin\",\"WhiteCoin\",\"FriendshipCoin\",\"Triangles Coin\",\"EOS\",\"Oxycoin\",\"TigerCash\",\"Particl\",\"Nxt\",\"ZEPHYR\",\"Gapcoin\",\"BitcoinPlus\"],\"legendgroup\":\"0\",\"marker\":{\"color\":[0,0,0,0,0,0,0,0,0,0,0,0,0,0,0,0,0,0,0,0,0,0,0,0,0,0,0,0,0,0,0,0,0,0,0,0,0,0,0,0,0,0,0,0,0,0,0,0,0,0,0,0,0,0,0,0,0,0,0,0,0,0,0,0,0,0,0,0,0,0,0,0,0,0,0,0,0,0,0,0,0,0,0,0,0,0,0,0,0,0,0,0,0,0,0,0,0,0,0,0,0,0,0,0,0,0,0,0,0,0,0,0,0,0,0,0,0,0,0,0,0,0,0,0,0,0,0,0,0,0,0,0,0,0,0,0,0,0,0,0,0,0,0,0,0,0,0,0,0,0,0,0,0,0,0,0,0,0,0,0,0,0,0,0,0,0,0,0,0,0,0,0,0,0,0,0,0,0,0,0,0,0,0,0,0,0,0,0,0,0,0,0,0,0,0,0,0,0,0,0,0,0,0,0,0,0,0,0,0,0,0,0,0,0,0,0,0,0,0,0,0,0,0,0,0,0,0,0,0,0,0,0,0,0,0,0,0,0,0,0,0,0,0,0,0,0,0,0,0,0,0,0,0,0,0,0,0,0,0,0,0,0,0,0,0,0,0,0,0,0,0,0,0,0,0,0,0,0,0,0,0,0,0,0,0,0,0,0],\"coloraxis\":\"coloraxis\",\"symbol\":\"circle\"},\"mode\":\"markers\",\"name\":\"0\",\"scene\":\"scene\",\"showlegend\":true,\"x\":[-0.3325943358455256,-0.3159255089593257,2.3050665531632997,-0.3950670990848221,-0.2766135435553144,-0.31029741297973695,-0.2668097215038359,-0.2440255837380958,-0.3322538125302439,-0.32482703510959093,-0.33109004025605515,-0.3325902725198617,-0.3325745473846996,0.7006144436764556,-0.3723836860367306,-0.35372011560369543,-0.26579380617601017,-0.33065267776368107,-0.3313913576187318,-0.39496173448546884,-0.42292470316494807,-0.028877273309887926,-0.27359624940177957,-0.2888577357892027,-0.27857476869587966,-0.27919733632750104,-0.3502902735287943,-0.3268957036315407,-0.3309957164356818,0.025753610632956343,-0.35128942880895975,-0.3953333951875281,-0.2457437146430901,-0.31704303204044,-0.3952450409212847,-0.30782125762399754,-0.3312715402866441,-0.2843303628704726,-0.395209470831984,-0.24621115293821802,-0.27897807341894654,-0.32369802546147974,0.09539917830741745,-0.34502217747776776,-0.30950893549839115,-0.37180489054521604,-0.2888378915999613,-0.27927283495142313,-0.2834916953487989,-0.33257639404588885,-0.2792249814363758,-0.351734643790054,-0.3323107365997502,-0.3953149134309195,-0.4349770914768126,-0.42313044880446027,-0.38211213323999,-0.28723907793319864,-0.27874657109955664,-0.3028554272204687,-0.24646659119494424,-0.08069420156131035,-0.31026831016610684,-0.0727485162894049,-0.3103319757131564,-0.22549657394679548,-0.33218667084762266,-0.2871087382032074,-0.3924846744606496,0.8644025514147113,-0.31013209165004574,-0.030359908479791343,-0.35340332089621956,-0.39315709452695435,-0.30887595431190235,-0.3065445694448611,-0.3469256744940706,-0.39405017012493343,-0.3657383860599193,-0.3084806366825769,-0.33222480380816566,-0.33066322492191924,-0.23447987751058644,-0.33922186557672934,-0.3947888014969012,-0.3314288321634496,-0.31031297668007063,-0.39530411592041437,-0.33241394170679295,-0.33257062382043684,-0.28709704826978216,-0.23786748978913275,0.0350041951633315,-0.3523601073116293,-0.3321845583719457,-0.3814670774755262,-0.3516881654799579,-0.23591017768120093,-0.40560108039673753,-0.35143845178004385,-0.27963162900409416,3.717046775247006,-0.394896578390492,0.8535892300339089,-0.3952590046166924,-0.35282398737581727,-0.3321122918257613,-0.33226672661173645,-0.35340332089621956,-0.3948339860702139,-0.3101755647908593,-0.33211299642604936,-0.37386364299138836,-0.33226044341983696,-0.3278494951975564,-0.3952880217454607,-0.3314713549827346,0.3545984663932871,-0.3324597485846162,-0.3325303050661175,-0.3542095691726138,-0.3476466371188249,-0.32875773522183277,-0.3102893767861167,-0.39519794626640753,-0.33230808395945827,-0.3324351212807733,-0.2887446623289405,-0.2768443310542741,-0.2356779667577199,-0.31328321930985065,-0.28848552621369333,-0.39446378705528523,-0.41783751851012135,-0.39320148801228777,-0.3516493805482435,-0.3943616134410978,-0.34604772136752737,-0.3903025479363882,-0.33237837101953527,-0.3323776027947178,-0.3255009182289961,0.26573209979022505,-0.39484002467620816,-0.2713878965150771,-0.35343769207993053,-0.3315890839811817,0.8880473876447128,-0.26550045122747623,-0.36451641361462506,0.5586426050594119,-0.3484617507709057,-0.3469637452202052,-0.40755852302833145,-0.2789100085289942,0.13233451422405607,-0.27898075812700573,-0.34909334591498914,-0.40706312326273203,-0.39511239143105004,-0.28881869216551115,4.366110463773471,-0.3533040701661455,-0.33201351171498317,-0.3325132299637371,-0.33469102665635386,0.6373106409565307,-0.3950532851574597,-0.34528890101874465,-0.33246888557518295,-0.3244977873004311,0.43694775033359207,-0.3086351463108243,-0.33322662743746523,-0.3960722295277124,-0.3324192258401838,-0.396075719535189,-0.335490696256012,-0.33228951495712,-0.09324488554132368,-0.39384591212604775,3.721903437984572,0.21118142136577298,-0.2756507852880855,-0.32974944071061923,-0.30480110337812183,-0.3540954358417136,0.08180823961070526,-0.331428323497038,-0.39442685028874813,-0.3532602631281525,-0.3189912105220646,-0.33253537306464437,-0.3517065628218692,-0.3660204163427028,-0.27320640470637253,-0.27832038164919665,-0.32807936521767156,-0.22747348215909913,-0.3826071884151298,-0.3951297348908346,-0.3345969513619606,-0.28797880065578074,-0.2972957789124308,-0.3480607085678168,-0.3325627378203688,-0.33254444970323305,-0.28235914017769237,-0.3512486065354237,-0.3528984450100238,-0.3322609400690836,3.9219888972926364,-0.39474298132659136,-0.353087176910513,-0.3154148123199661,-0.2791293423607721,-0.3215279219098192,-0.288512774981755,-0.13562093971981662,-0.2887650805041172,-0.34494207517562886,-0.3317349766666342,-0.2023861752807628,2.246661305607432,-0.3498044936863502,-0.26562768182053315,1.013521423848165,-0.35817534527735434,-0.35420903877472193,-0.39775972758442696,-0.16952371821029066,-0.3678503421135473,-0.3529282852781635,-0.32544097507496494,-0.35128392097063055,-0.39460291091336036,-0.2860102048369565,-0.3521871957813172,-0.35368976658664536,-0.3511454751663518,-0.1920661410953093,-0.3281521499481572,-0.2911658346244786,0.4623193739032672,-0.1415384177134119,-0.39705422899289555,-0.2774571965558869,-0.3322648652513838,-0.39751041102134593,-0.3543260393192241,0.5743438387759042,-0.35176090164941387,-0.3317478460348385,-0.32905187939264086,-0.29966362113878603,-0.39216825389306775,-0.3948301646254613,3.7341493374728363,0.1027165693409742,-0.39236823668906723,-0.33113363789969835,-0.33195828327594284,-0.2668424179689082,-0.33247660668986434,-0.3864558592427875,-0.24618932926990936,-0.08983069509053794,-0.3822046057367379,-0.33175459840928717,-0.32481712593739975,-0.3913978174603572,-0.33019371340149195,-0.35367904729939664,-0.38330790160896067,-0.3088120952526052,3.7174386165414415,-0.09599340445296108,-0.32738767635651206,-0.3499162354176804,-0.279380033540459,3.727313163314166,3.728558008830843,-0.24773382419302864,-0.3536148751290777,-0.3596507837850986,2.473244652131486,-0.3306399957424398,-0.28916153371642384],\"y\":[0.9940894771668318,0.9943171472540692,1.6986040658953991,1.227788401304203,1.5304898801390177,0.8592105915223816,0.6907282775446594,1.8670693205903524,0.994090049707634,0.994366918504315,0.9941432093417949,0.9940892767271122,0.9940894928081774,0.3555148533434258,0.9091851350712356,1.6178080615082897,0.32537056603192327,0.9940758858137984,1.0600358273074133,1.2277921648371626,1.8412784208013024,0.8348957662198204,0.8588645461428932,0.8255983036303135,1.8234700584586399,1.8234478208777627,0.52296533969802,0.9940027173506412,0.9940788394862599,1.0068893579436495,1.0593250853013576,1.2277940954640896,0.16513116503415143,1.6987145933175198,1.2277903399487418,0.9938684070585914,0.9940676048662906,0.37725807509781956,1.2277947209470352,0.1651835899902439,1.8234556527604608,0.9937160312552684,0.6702570357246435,1.7199809526598389,0.8592069593933724,0.9092088366684044,0.8256101962983712,1.8234368295577421,0.82545555058309,0.99409011806153,1.8234399212731904,1.0592953583146993,0.9940857828271753,1.2277947563077702,1.8189960143151251,1.8509304470868557,0.6077311131157849,0.8255981830984515,1.8234293610992165,0.8588004050748572,1.867205877418608,1.0228378334586272,0.8592116310498787,1.2209648057867635,0.8592173059380326,1.509884614616969,0.9940750076301617,0.8255191653866772,1.2276304236425992,0.7983727181762378,0.8592040547971652,0.35556928585483855,1.61780555285297,1.2278199906572038,0.8591226207734116,0.8589969589736075,1.5054850621746458,1.2277438530359632,1.5909717033818267,0.9935683688037293,0.9940720327199642,0.9940893333684403,1.654864623694312,1.0593020003624278,1.2277789878488259,0.9940688986806357,0.8592107268148818,1.2277930683420568,0.9940814052149238,0.9940903241690248,0.8256723777263542,0.1841956843613103,1.8602893034137864,1.6178054899626668,0.994104114095129,1.227252567354322,1.617852992511173,1.6549500493799156,1.8255159978322122,1.6176815050140292,1.8576868161246023,1.612230072257773,1.2277889624408633,1.8633224513850335,1.2277940898472204,1.617805509713436,0.9940800559870969,0.9940721481070531,1.61780555285297,1.227770461749655,0.8592163262640008,0.9940838601477303,0.8339896235495359,0.9940820495403198,0.9938092133134526,1.2277922607831504,0.9940300542188725,0.8261184080077637,0.9940852987486354,0.9940894723988386,1.5828703885995294,0.5645729709315421,0.9938809100218459,0.8592115697828167,1.227792468653919,0.9940858775772071,0.9940800035654335,0.8255755095701284,0.09426533591345379,1.654950032088543,0.9940880391823745,0.8255989864443235,1.2277560363602407,1.9536467989353725,1.2277942124524248,1.6178057923169096,1.2277596859139497,1.6178056270366723,1.2276281864446965,0.9940825291481987,0.9940774499794129,0.9936516334746976,0.6579177662404171,1.2277840703459089,0.8248510661221701,1.617797412998785,0.9940528064058438,1.8455386141778123,0.6906453826342902,1.590969385423138,1.8187738441200012,1.5054854920101561,1.5054629658859116,2.0901352723767026,1.823437347544738,0.9761356110629147,1.8234424941636191,1.6194713366351405,2.090152967630672,1.2277954186559894,0.8255988508812292,4.338783683146255,1.6177803435046139,0.9940768712525208,0.9940894711273576,1.5308409995313952,1.5575859592178083,1.2277854386533036,0.5228701045040255,0.9940830830637704,0.6456460697562357,1.0042964967165446,0.859216051528258,1.5052071322659815,1.8674822822644226,0.9940812164702199,1.7512893144871728,1.508787322486708,0.9940901432652396,0.6907155740033537,1.2277476928836621,1.6121443426389537,1.5047459422979985,1.823429345587858,0.994045939359928,1.3369905436916103,1.5828710092715252,0.9743308559470104,0.9940274439795465,1.227791916434985,1.5828317194728945,0.9939532760910662,0.9940888184377191,1.0592956701282514,1.5909675048257332,-0.01325290705825277,0.32222665018324753,0.9940903863024909,1.6547001574140543,0.9236499952323179,1.227784090363522,1.3613747520893626,0.8255551716903001,1.799319459233067,1.5054721683129222,0.9940885322066604,0.9940878030134843,0.8254960044806853,1.416924319303465,1.617776583999581,0.994080649371428,1.539501425020577,1.7513369187508656,1.617775372374286,0.7647704743802414,0.9924588338548095,0.7413332888015505,0.8256038376075321,0.9940748097248132,0.8255823836099949,1.8604731177172389,0.9940621107490494,1.6986941367644464,0.22403511635840204,1.5825888129011705,0.6907098364775482,1.5807904818503935,0.9332593756436407,1.582866260257865,1.7513638456214038,0.8182042952336039,0.814120077623871,1.582857401726526,0.993653774592655,1.059287265238912,1.227785627700749,0.8255314830689972,1.6177176610414687,0.942822886180401,1.059261105751422,0.986667162502501,1.5185412088335983,1.192890762917847,0.9598329623568626,1.0668172111950158,1.7513552802876269,-0.011259563047622064,0.9940867300978219,1.7513631534821277,1.5828673550656067,0.9747816846623324,1.0592946277708755,0.9940616510662748,1.361268682914072,1.8587034741235176,1.2276168421912679,1.2277913346834857,1.6122361483949268,0.9854459010741864,1.2279000090691392,0.9940034091707024,0.994074693830776,0.69072123433174,0.9940936823801477,1.2277655868596726,0.9899180375017905,0.8669693492189325,1.2275718307303347,0.9941091036780102,0.9940907866499888,1.2277908989934334,0.9940646310463187,1.6178033075023006,0.7791707625144346,0.8592062749915779,1.6122199323876074,0.8255801833279116,0.9940680902480521,0.5229397168021664,1.823441212144552,1.612683180631376,1.6127276454436328,0.6907270778838599,1.6178058525648227,1.6281910576754177,0.7221727678202589,0.993986480919231,0.8255979448655476],\"z\":[-0.5022163452968669,-0.5023445903733675,-0.5832282379436629,-0.47947326117760036,-0.01075698924465999,-0.32190145662953373,-0.056112495901146364,-0.5540596504161727,-0.5022189902501266,-0.5022750514964999,-0.5022277149449639,-0.5022163781319107,-0.5022164991085077,0.0052306423327077205,-0.43152572038200493,-0.14683589910754125,-0.15760876343936212,-0.5022315303725297,-0.21383683107341936,-0.4794740575360092,-0.5770643672163248,-0.23839427003468347,-0.32218903235180635,-0.23642937494431618,-0.5623661397346563,-0.562361434293085,-0.2803189094399137,-0.5022612005102786,-0.5022288441834013,-0.50492478248292,-0.21368643904110685,-0.47947115502235943,0.05928865660566138,-0.22124548046086218,-0.4794718652927634,-0.502410380407586,-0.5022267679698065,-0.21656200608298926,-0.4794721150187244,0.05929261438497476,-0.5623630915087073,-0.502287832928763,0.5696550483326359,-0.15505715353493593,-0.32190761145691327,-0.43153007638114554,-0.23642945619256978,-0.5623609146442268,-0.23647198751171453,-0.5022164809029784,-0.5623612678304092,-0.213683159017162,-0.5022185737389473,-0.47947129470546607,-0.4373390028431031,-0.6571651360084767,-0.37216759894333884,-0.23644196504398637,-0.5623650536433081,-0.32196185883864403,-0.5540398258221598,-0.3354683094734435,-0.32190167659212426,-0.4820220813951367,-0.32190114654544116,-0.49938902923969125,-0.5022196049042226,-0.23644346442815758,-0.47949431731881537,-0.2455663629710779,-0.32190278261649924,0.010916241625601302,-0.14683837844512387,-0.4794879223801632,-0.3219130529144181,-0.3219319579405674,-0.4984716357306784,-0.4794814442940132,-0.12317435523119978,-0.502407096037025,-0.5022193266032475,-0.5022313656910182,-0.2965826583016263,-0.2137804382398267,-0.47947548353522096,-0.502225536656343,-0.32190133474896065,-0.4794713890590799,-0.5022177979504869,-0.5022165245150412,-0.23644261369732789,-0.24181496558004573,-0.686979772997806,-0.1468464925847538,-0.5022194424444648,-0.4795823306878868,-0.14685142676189722,-0.29657100889269544,-0.687927195691695,-0.14685442291951437,-0.6845486398089767,0.44578421192669304,-0.47947458397959253,-0.5709267833807864,-0.47947173364091517,-0.14684288456526415,-0.5022201523709667,-0.5022189998330604,-0.14683837844512387,-0.4794751845071486,-0.32190236907642344,-0.5022201235102598,-0.1591629474653429,-0.5022189878468171,-0.5022549715365541,-0.47947151919728526,-0.5022254446687152,-0.241430757315451,-0.5022174177506316,-0.5022168433353394,-0.1774507029564784,-0.3415663764839557,-0.5022474669092178,-0.32190151311981785,-0.47947221849550636,-0.5022185937879236,-0.5022176418377249,-0.23643039448392456,-0.280870063686654,-0.2965728150549181,-0.5023665492952043,-0.2364322656645684,-0.47947815244576897,-0.5605008309154204,-0.47948773553724433,-0.1468520185124999,-0.47947892468632153,-0.14689558728876992,-0.4795113028913156,-0.5022180676991915,-0.5022181048910149,-0.5022742064468415,-0.06045607643428997,-0.47947505390182094,-0.2365698418503136,-0.146838161145961,-0.5022243891773015,-0.5629968498305918,-0.056123188427299714,-0.12318387355495852,-0.7560666040747954,-0.49845968602086627,-0.4984714754347361,-0.5499510247612472,-0.5623637333986072,-0.5059427458917073,-0.5623631515014057,-0.09311200899781419,-0.5499547690526837,-0.4794728657804478,-0.23642967524863426,-5.681092951584041,-0.14683930532082498,-0.5022209402219217,-0.5022169761473726,-0.010303124744937059,-0.1481948846550696,-0.479473386826144,-0.28035839369952875,-0.5022173603040062,-0.1126090405714341,-0.50813884361344,-0.32191435160513365,-0.4985798903347506,-0.486756257764468,-0.5022177580123668,-0.44325266505524025,-0.0846021285000045,-0.5022187119940352,-0.05746250101755562,-0.47948300934191346,0.44574591159121635,-0.5028169416407179,-0.5623891316859582,-0.5022387394892386,-0.23267214813487955,-0.17745158683122106,-0.5055608621879227,-0.5022257953953403,-0.4794782192062956,-0.1774583239918131,-0.5023229827821538,-0.5022168079374856,-0.21368337550476182,-0.12317218750211535,0.1340147492393862,-0.2206061174481025,-0.5022514555834034,-0.29663816243073,-0.41897785074729604,-0.4794728005133178,-0.5453635613070185,-0.23643647608782026,-0.008762252124769266,-0.498462887076039,-0.5022165968631062,-0.5022167435833922,-0.23648054750088424,-0.2054730216724418,-0.14684248323858864,-0.5022189925895633,0.379119352010178,-0.4432627380520556,-0.14684102279409803,-0.021515124260257697,-0.502642199474716,-0.4380586889592248,-0.23643202391760665,-0.5037484261379983,-0.23643019343023747,-0.6840235530759688,-0.5022231972896607,-0.2882556559565824,-0.3129878011492852,-0.17748669468336278,-0.056121802735215116,0.15445941306442468,-0.2873097000893597,-0.1774507324547337,-0.4432391093529899,-0.237402957468682,-0.37839910339565863,-0.1774607481558046,-0.5022746595044605,-0.21368671432324807,-0.4794768885187687,-0.23645193273419507,-0.14684837723176455,-0.45303209985218806,-0.21368795188423292,-0.5033549427453523,0.21355630302597492,-0.2795741708557861,-0.4602651783394594,-0.21527176259014544,-0.44324464911910627,0.17073255322122674,-0.5022189246883949,-0.4432410527045898,-0.17744981573636964,-0.509388862273864,-0.21368295928260864,-0.5022231000214173,-0.5454073408584957,-0.684386589495036,-0.47949686180045475,-0.479475085942873,0.4456512314792421,-0.5056551662678697,-0.4794935660452123,-0.5022282350768097,-0.5022213831520963,-0.056112284887348464,-0.5022172351079022,-0.47954037663041177,-0.5029140113287854,-0.3235684844929326,-0.4795746322396586,-0.5022227558575523,-0.502276825687458,-0.479501784225332,-0.5022351692103966,-0.14683624774092488,-0.2978799386454511,-0.32191303544480065,0.4457811020009635,-0.23792951812747398,-0.5022569723319605,-0.2803219760581528,-0.5623600539552079,0.4457071483521874,0.4456977396589843,-0.05626086898126733,-0.1468367312076993,-0.22358833680002374,0.23492822302233807,-0.5022321784960582,-0.23642701431449106],\"type\":\"scatter3d\"},{\"customdata\":[[\"SHA-256\"],[\"Ethash\"],[\"Scrypt\"],[\"CryptoNight-V7\"],[\"Ethash\"],[\"Equihash\"],[\"Multiple\"],[\"Scrypt\"],[\"X11\"],[\"Scrypt\"],[\"Multiple\"],[\"Scrypt\"],[\"SHA-256\"],[\"Scrypt\"],[\"Scrypt\"],[\"Quark\"],[\"Groestl\"],[\"Scrypt\"],[\"Scrypt\"],[\"Scrypt\"],[\"X11\"],[\"Multiple\"],[\"SHA-256\"],[\"Scrypt\"],[\"Scrypt\"],[\"Scrypt\"],[\"Scrypt\"],[\"Scrypt\"],[\"NeoScrypt\"],[\"Scrypt\"],[\"Scrypt\"],[\"Scrypt\"],[\"Scrypt\"],[\"SHA-256\"],[\"Scrypt\"],[\"Scrypt\"],[\"Scrypt\"],[\"Scrypt\"],[\"HybridScryptHash256\"],[\"Scrypt\"],[\"Scrypt\"],[\"SHA-256\"],[\"Scrypt\"],[\"Scrypt\"],[\"Scrypt\"],[\"Scrypt\"],[\"SHA-256\"],[\"SHA-256\"],[\"SHA-256\"],[\"SHA-256\"],[\"SHA-256\"],[\"X11\"],[\"Scrypt\"],[\"Lyra2REv2\"],[\"Scrypt\"],[\"SHA-256\"],[\"CryptoNight\"],[\"CryptoNight\"],[\"Scrypt\"],[\"Scrypt\"],[\"Scrypt\"],[\"Scrypt\"],[\"Scrypt\"],[\"Scrypt\"],[\"Stanford Folding\"],[\"Multiple\"],[\"QuBit\"],[\"Scrypt\"],[\"Scrypt\"],[\"M7 POW\"],[\"Scrypt\"],[\"SHA-256\"],[\"Scrypt\"],[\"X11\"],[\"Lyra2RE\"],[\"SHA-256\"],[\"X11\"],[\"Scrypt\"],[\"Scrypt\"],[\"Ethash\"],[\"Blake2b\"],[\"X11\"],[\"SHA-256\"],[\"Scrypt\"],[\"1GB AES Pattern Search\"],[\"Scrypt\"],[\"SHA-256\"],[\"X11\"],[\"Dagger\"],[\"Scrypt\"],[\"X11GOST\"],[\"Scrypt\"],[\"X11\"],[\"Scrypt\"],[\"X11\"],[\"Equihash\"],[\"CryptoNight\"],[\"SHA-256\"],[\"Multiple\"],[\"Scrypt\"],[\"SHA-256\"],[\"Scrypt\"],[\"Lyra2Z\"],[\"Ethash\"],[\"Equihash\"],[\"Scrypt\"],[\"X11\"],[\"X11\"],[\"CryptoNight\"],[\"Scrypt\"],[\"CryptoNight\"],[\"Lyra2RE\"],[\"X11\"],[\"CryptoNight-V7\"],[\"Scrypt\"],[\"X11\"],[\"Equihash\"],[\"Scrypt\"],[\"Lyra2RE\"],[\"Dagger-Hashimoto\"],[\"Scrypt\"],[\"NIST5\"],[\"Scrypt\"],[\"SHA-256\"],[\"Scrypt\"],[\"CryptoNight-V7\"],[\"Argon2d\"],[\"Blake2b\"],[\"Cloverhash\"],[\"CryptoNight\"],[\"X11\"],[\"Scrypt\"],[\"Scrypt\"],[\"X11\"],[\"X11\"],[\"CryptoNight\"],[\"Time Travel\"],[\"Scrypt\"],[\"Keccak\"],[\"X11\"],[\"SHA-256\"],[\"Scrypt\"],[\"Scrypt\"],[\"Scrypt\"],[\"Scrypt\"],[\"Scrypt\"],[\"Scrypt\"],[\"CryptoNight\"],[\"Equihash\"],[\"X11\"],[\"NeoScrypt\"],[\"Equihash\"],[\"Dagger\"],[\"Scrypt\"],[\"X11\"],[\"NeoScrypt\"],[\"Ethash\"],[\"NeoScrypt\"],[\"Multiple\"],[\"CryptoNight\"],[\"CryptoNight\"],[\"Ethash\"],[\"X11\"],[\"CryptoNight-V7\"],[\"Scrypt\"],[\"BLAKE256\"],[\"X11\"],[\"NeoScrypt\"],[\"NeoScrypt\"],[\"Scrypt\"],[\"X11\"],[\"SHA-256\"],[\"C11\"],[\"CryptoNight\"],[\"SkunkHash\"],[\"CryptoNight\"],[\"Scrypt\"],[\"Dagger\"],[\"Lyra2REv2\"],[\"Scrypt\"],[\"Scrypt\"],[\"X11\"],[\"Ethash\"],[\"CryptoNight\"],[\"Scrypt\"],[\"IMesh\"],[\"Equihash\"],[\"Lyra2Z\"],[\"X11\"],[\"CryptoNight\"],[\"NIST5\"],[\"Lyra2RE\"],[\"Tribus\"],[\"Lyra2Z\"],[\"CryptoNight\"],[\"CryptoNight Heavy\"],[\"CryptoNight\"],[\"Jump Consistent Hash\"],[\"CryptoNight\"],[\"X16R\"],[\"HMQ1725\"],[\"X11\"],[\"Scrypt\"],[\"CryptoNight-V7\"],[\"Cryptonight-GPU\"],[\"XEVAN\"],[\"CryptoNight Heavy\"],[\"SHA-256\"],[\"X11\"],[\"X16R\"],[\"Equihash\"],[\"Lyra2Z\"],[\"SHA-256\"],[\"CryptoNight\"],[\"Blake\"],[\"Blake\"],[\"Exosis\"],[\"Scrypt\"],[\"Equihash\"],[\"Equihash\"],[\"QuBit\"],[\"SHA-256\"],[\"X13\"],[\"SHA-256\"],[\"Scrypt\"],[\"NeoScrypt\"],[\"Blake\"],[\"Scrypt\"],[\"SHA-256\"],[\"Scrypt\"],[\"Groestl\"],[\"Scrypt\"],[\"Scrypt\"],[\"Multiple\"],[\"Equihash+Scrypt\"],[\"Ethash\"],[\"CryptoNight\"],[\"Equihash\"]],\"hovertemplate\":\"<b>%{hovertext}</b><br><br>Class=%{marker.color}<br>PC 1=%{x}<br>PC 2=%{y}<br>PC 3=%{z}<br>Algorithm=%{customdata[0]}<extra></extra>\",\"hovertext\":[\"Bitcoin\",\"Ethereum\",\"Litecoin\",\"Monero\",\"Ethereum Classic\",\"ZCash\",\"DigiByte\",\"ProsperCoin\",\"Spreadcoin\",\"Argentum\",\"MyriadCoin\",\"MoonCoin\",\"ZetaCoin\",\"SexCoin\",\"Quatloo\",\"QuarkCoin\",\"Riecoin\",\"Digitalcoin \",\"Catcoin\",\"CannaCoin\",\"CryptCoin\",\"Verge\",\"DevCoin\",\"EarthCoin\",\"E-Gulden\",\"Einsteinium\",\"Emerald\",\"Franko\",\"FeatherCoin\",\"GrandCoin\",\"GlobalCoin\",\"GoldCoin\",\"Infinite Coin\",\"IXcoin\",\"KrugerCoin\",\"LuckyCoin\",\"Litebar \",\"MegaCoin\",\"MediterraneanCoin\",\"MinCoin\",\"NobleCoin\",\"Namecoin\",\"NyanCoin\",\"RonPaulCoin\",\"StableCoin\",\"SmartCoin\",\"SysCoin\",\"TigerCoin\",\"TerraCoin\",\"UnbreakableCoin\",\"Unobtanium\",\"UroCoin\",\"ViaCoin\",\"Vertcoin\",\"WorldCoin\",\"JouleCoin\",\"ByteCoin\",\"DigitalNote \",\"MonaCoin\",\"Gulden\",\"PesetaCoin\",\"Wild Beast Coin\",\"Flo\",\"ArtByte\",\"Folding Coin\",\"Unitus\",\"CypherPunkCoin\",\"OmniCron\",\"GreenCoin\",\"Cryptonite\",\"MasterCoin\",\"SoonCoin\",\"1Credit\",\"MarsCoin \",\"Crypto\",\"Anarchists Prime\",\"BowsCoin\",\"Song Coin\",\"BitZeny\",\"Expanse\",\"Siacoin\",\"MindCoin\",\"I0coin\",\"Revolution VR\",\"HOdlcoin\",\"Gamecredits\",\"CarpeDiemCoin\",\"Adzcoin\",\"SoilCoin\",\"YoCoin\",\"SibCoin\",\"Francs\",\"BolivarCoin\",\"Omni\",\"PizzaCoin\",\"Komodo\",\"Karbo\",\"ZayedCoin\",\"Circuits of Value\",\"DopeCoin\",\"DollarCoin\",\"Shilling\",\"ZCoin\",\"Elementrem\",\"ZClassic\",\"KiloCoin\",\"ArtexCoin\",\"Kurrent\",\"Cannabis Industry Coin\",\"OsmiumCoin\",\"Bikercoins\",\"HexxCoin\",\"PacCoin\",\"Citadel\",\"BeaverCoin\",\"VaultCoin\",\"Zero\",\"Canada eCoin\",\"Zoin\",\"DubaiCoin\",\"EB3coin\",\"Coinonat\",\"BenjiRolls\",\"ILCoin\",\"EquiTrader\",\"Quantum Resistant Ledger\",\"Dynamic\",\"Nano\",\"ChanCoin\",\"Dinastycoin\",\"DigitalPrice\",\"Unify\",\"SocialCoin\",\"ArcticCoin\",\"DAS\",\"LeviarCoin\",\"Bitcore\",\"gCn Coin\",\"SmartCash\",\"Onix\",\"Bitcoin Cash\",\"Sojourn Coin\",\"NewYorkCoin\",\"FrazCoin\",\"Kronecoin\",\"AdCoin\",\"Linx\",\"Sumokoin\",\"BitcoinZ\",\"Elements\",\"VIVO Coin\",\"Bitcoin Gold\",\"Pirl\",\"eBoost\",\"Pura\",\"Innova\",\"Ellaism\",\"GoByte\",\"SHIELD\",\"UltraNote\",\"BitCoal\",\"DaxxCoin\",\"AC3\",\"Lethean\",\"PopularCoin\",\"Photon\",\"Sucre\",\"SparksPay\",\"GunCoin\",\"IrishCoin\",\"Pioneer Coin\",\"UnitedBitcoin\",\"Interzone\",\"TurtleCoin\",\"MUNcoin\",\"Niobio Cash\",\"ShareChain\",\"Travelflex\",\"KREDS\",\"BitFlip\",\"LottoCoin\",\"Crypto Improvement Fund\",\"Callisto Network\",\"BitTube\",\"Poseidon\",\"Aidos Kuneen\",\"Bitrolium\",\"Alpenschillling\",\"FuturoCoin\",\"Monero Classic\",\"Jumpcoin\",\"Infinex\",\"KEYCO\",\"GINcoin\",\"PlatinCoin\",\"Loki\",\"Newton Coin\",\"MassGrid\",\"PluraCoin\",\"Motion\",\"PlusOneCoin\",\"Axe\",\"HexCoin\",\"Webchain\",\"Ryo\",\"Urals Coin\",\"Qwertycoin\",\"Project Pai\",\"Azart\",\"Xchange\",\"CrypticCoin\",\"Actinium\",\"Bitcoin SV\",\"FREDEnergy\",\"Universal Molecule\",\"Lithium\",\"Exosis\",\"Block-Logic\",\"Beam\",\"Bithereum\",\"SLICE\",\"BLAST\",\"Bitcoin Rhodium\",\"GlobalToken\",\"SolarCoin\",\"UFO Coin\",\"BlakeCoin\",\"Crypto Escudo\",\"Crown Coin\",\"SmileyCoin\",\"Groestlcoin\",\"Bata\",\"Pakcoin\",\"JoinCoin\",\"Vollar\",\"Reality Clash\",\"Beldex\",\"Horizen\"],\"legendgroup\":\"1\",\"marker\":{\"color\":[1,1,1,1,1,1,1,1,1,1,1,1,1,1,1,1,1,1,1,1,1,1,1,1,1,1,1,1,1,1,1,1,1,1,1,1,1,1,1,1,1,1,1,1,1,1,1,1,1,1,1,1,1,1,1,1,1,1,1,1,1,1,1,1,1,1,1,1,1,1,1,1,1,1,1,1,1,1,1,1,1,1,1,1,1,1,1,1,1,1,1,1,1,1,1,1,1,1,1,1,1,1,1,1,1,1,1,1,1,1,1,1,1,1,1,1,1,1,1,1,1,1,1,1,1,1,1,1,1,1,1,1,1,1,1,1,1,1,1,1,1,1,1,1,1,1,1,1,1,1,1,1,1,1,1,1,1,1,1,1,1,1,1,1,1,1,1,1,1,1,1,1,1,1,1,1,1,1,1,1,1,1,1,1,1,1,1,1,1,1,1,1,1,1,1,1,1,1,1,1,1,1,1,1,1,1,1,1,1,1,1,1,1,1,1,1,1,1,1,1,1,1,1,1,1,1,1,1,1,1,1,1,1,1,1,1,1,1],\"coloraxis\":\"coloraxis\",\"symbol\":\"diamond\"},\"mode\":\"markers\",\"name\":\"1\",\"scene\":\"scene\",\"showlegend\":true,\"x\":[-0.14318068049447266,-0.14842504995208256,-0.16430798692287438,-0.14969909691651737,-0.14686733958473433,-0.15463071910509657,0.16432365716076294,-0.1654545562881765,-0.22813494209145133,-0.1650711115034575,-0.08912573118803427,2.5558518051395147,-0.140264712687115,-0.1623259240300134,-0.16487522951151184,-0.22602481442913616,-0.20433367939190464,-0.16492373248648692,-0.16543681163418852,-0.16552327391428573,-0.22822432672955478,0.18811268408993528,0.23477286716583437,0.08327928716410812,-0.16526946128121542,-0.16087373075484643,-0.1652087816191066,-0.16558030026298876,-0.17850385816797218,-0.1447982181238203,-0.16437501808743685,-0.16465264560219145,1.583861416862717,-0.1431420266777154,-0.16194151446741717,-0.16529591305576793,-0.1656508332966097,-0.16490987075093383,-0.13969801214011657,-0.16553207788760085,-0.030441955702550507,-0.14321968392445733,-0.15919405592829095,-0.1655115700069505,-0.1636060720243248,-0.16499817736038613,-0.13036900482414632,-0.14268327849272436,-0.1429706275114361,-0.14295382013085337,-0.1435444245928957,-0.2283982225319795,-0.16522790027906864,-0.2002440932372534,-0.16233072926830827,-0.14275060223066904,3.8560714359293438,0.45399393119319953,-0.16409528398888026,-0.14869394770995015,-0.1628136820797662,-0.16565305126740043,-0.16267860361042402,-0.1488987685177595,-0.13649860909872708,-0.12314131212235008,-0.18157662040269656,-0.16552605677162704,-0.03844490340249758,-0.12464879341687743,-0.16566193764300802,-0.14324747818103398,0.4863593778847177,-0.2277852289107127,-0.14422208251967647,-0.14298737174563106,-0.2280702304755087,-0.16378579306549063,-0.16297777648121997,-0.14949324840844516,0.36922472191949113,-0.22810561985476926,-0.14314314970530115,-0.16161856581254383,-0.1517433322443588,-0.16422490343237137,0.2754687271586349,-0.227266226646352,-0.15855394096155312,-0.164472963190923,-0.19186961317512008,-0.1654518340151551,-0.22806889287652324,-0.16566199615569366,-0.2282189544012314,-0.27577988952521604,0.2988625385818253,-0.14340332679197929,-0.10320866615698031,-0.1628281451880985,-0.1433619366992884,-0.16532536226237385,-0.14826415485862213,-0.14923530328022916,-0.1546523492147495,-0.0924013259707576,-0.2147969070804981,-0.2260469627085716,0.29885683567519755,-0.16564373507379276,0.298987607515428,-0.14476253194937863,0.4868816390462654,-0.14846412185518276,-0.16561200678098356,-0.22095424684607864,-0.15466470842622818,-0.1637447028678093,-0.1444808053984747,-0.15562156708027053,-0.13654117635236934,-0.18119745702329093,-0.16517430529254215,-0.10972248986726123,-0.1649964732522041,-0.14832131004159654,-0.1492886770306551,-0.03132210606409043,-0.15343921359758825,0.33498924267244795,-0.2272747176258387,-0.1653156231196682,-0.16507918256221207,-0.22766940513416845,-0.22824696870547834,0.2992518713317972,-0.17399756910905254,3.24494206980149,-0.12659019599071364,-0.2191198242523291,-0.1431798442067721,-0.09125125080826801,1.5824125771169917,-0.1654135339512746,-0.1648652153765994,-0.16456610233858662,-0.16455302536765606,0.2994353905682498,0.057668676469006,-0.182616632338952,-0.18319364340164784,-0.1545106897803162,-0.1573130167730682,-0.1637429109405379,-0.22379061766438293,-0.18303906592332403,-0.14760098427576435,-0.18313925531396857,-0.11337103918940612,1.136814437275982,0.2988396440590304,-0.07250101371835227,-0.22353319175331016,-0.1374319691900432,-0.08177972171484342,1.0916187403889863,-0.22822095680079732,-0.18319116589537207,-0.17622759795313053,-0.16466433664708607,-0.2281463376674165,-0.1431592243348437,-0.2156526850417684,8.035573860665437,-0.14570249254797138,0.30271454571958367,0.027437273012068837,-0.15681560651244586,-0.18579928829754624,-0.16523826942253492,0.1419174267566453,-0.22228646483922784,-0.10064710134151159,0.30676185694709684,-0.1654753135150651,-0.14270691444047578,-0.15350145431627277,-0.14604793937976668,-0.227315514763316,0.29902223913433956,-0.18125679667958788,-0.14460777105664896,-0.15564240682288663,-0.1483485193096456,0.30294946363058123,0.58449652110409,2.1075368464396096,-0.13943967972146448,0.3126297368286645,-0.19203549682966617,-0.16057021855536505,-0.22820311316137443,-0.16549991665940442,-0.1373161246135025,-0.13817920093799502,-0.16643829013948822,3.107513118999465,-0.10299530589909818,-0.2281744846129477,-0.19146332442782085,-0.04923707021055781,-0.14774633288157377,-0.14317988179499014,0.3787840078481417,-0.1521176166898529,-0.15250941541235863,-0.1152038036357242,-0.16439210996496526,-0.15257101997766184,-0.15434346460723697,-0.18078769537327743,-0.1424558347436098,-0.11243297987880703,-0.14132369030385167,0.5302700863532236,-0.1083344725383352,-0.102985272334321,-0.14904944593307892,-0.14296999758074863,0.5503205145730278,-0.20389453510823125,-0.16557670243500458,-0.16353220106762723,-0.12387665933576526,-0.14764374940116726,-0.14926847195765705,0.3206019079823938,-0.15463177669392938],\"y\":[-1.283137601483745,-1.987070632698624,-1.148275691348877,-2.1731504428790034,-1.9871601476684742,-1.98509017161517,-1.8129438907344804,-1.1482730993077255,-0.914565693365391,-1.1482891252131346,-1.8088638095484848,-1.3164822281642707,-1.2831362952876226,-1.148319635372979,-1.1483070121988181,-0.3909872506902124,-1.2331854478970763,-1.1482729162708292,-1.148272465483931,-1.1482701208962882,-0.9145675036788551,-1.8090217186640911,-1.2841384145784742,-1.1487054204313096,-1.1482664878731141,-1.1483021815460863,-1.148271923807261,-1.1482708416267933,-1.619446389657117,-1.1485027031214587,-1.1482684086414348,-1.1482798775181287,-1.1483985543197017,-1.2831362208026171,-1.1483165636743136,-1.14826674149327,-1.1482665277888253,-1.1482681591129162,-2.2053973551736585,-1.1482682649531084,-1.1538042672701287,-1.283138994652746,-1.1482679033971692,-1.1482751357887724,-1.148365361159405,-1.1482776725225643,-1.2832792624114957,-1.2831378145611647,-1.2831446140762435,-1.2831702798821871,-1.2831362514094484,-0.9145612732264379,-1.1482663857788347,-1.3282330947487324,-1.1483304660925797,-1.2831388286057757,-2.2974657510542524,-2.2983906109404826,-1.148282692233154,-1.148821149631878,-1.1482792624619194,-1.1482674903849714,-1.1482700234792362,-1.1483584397926936,-2.247067513264884,-1.8086963878653095,-1.5777588090433599,-1.1482634680560146,-1.1506340531676273,-2.193604156112757,-1.1482664194791357,-1.2831399874397094,-1.1885680844591946,-0.9145621876996031,-2.1964382007856567,-1.2831533408484643,-0.9145640731365744,-1.1483442979519114,-1.1483429189824503,-1.9871204737764712,-2.1523564703562377,-0.9145618811422765,-1.2831362609161974,-1.1482667205650845,-1.997767138573675,-1.1482727236779877,-1.2831176872456278,-0.9145789013243419,-2.228424602163567,-1.1483398890013827,-2.226103262658942,-1.148272310855968,-0.9145667902167023,-1.1482664194747787,-0.9145721502854288,-1.2116117756552554,-2.2970265381012256,-1.2831377683780154,-1.8088138682823225,-1.1483030135560457,-1.2831369136409319,-1.1482747055386624,-2.1779246563789343,-1.987117687899945,-1.9850909442241018,-1.152561330221222,-0.9144210531768633,-0.9146348851526219,-2.2970343451636905,-1.1482672172606754,-2.297032438963934,-2.196418942939166,-0.9581335415157394,-2.173234205314099,-1.1482665302801995,-0.9149865953145722,-1.9850886208265015,-1.148266630758478,-2.1964164832690645,-2.248653300069084,-1.1499906807292817,-0.6368845617861569,-1.1482731256940368,-1.2836560244169894,-1.1482919889149588,-2.173173807038536,-2.148451344314758,-2.1668988670005733,-2.0720276431350495,-2.297111640134145,-0.9145902640468914,-1.148266945633488,-1.148297016863958,-0.9145767133654205,-0.9145689345238344,-2.2970430449080794,-2.3698287010820147,-1.1646850473283206,-1.200586550611198,-0.9149901927660601,-1.2831375716122613,-1.1528658577763915,-1.0858262716037386,-1.1482709428105948,-1.1482955950704659,-1.1482959704418099,-1.148295503343644,-2.2970606054640372,-1.9920080086887386,-0.914170180267783,-1.619400319474483,-1.9850858842708206,-2.228467582463336,-1.1482665667523753,-0.9146386186157851,-1.6194072399608384,-1.9872347378417263,-1.6194016946083396,-1.8088036036833588,-2.325841936928111,-2.297029083910168,-1.9912708363960212,-0.9147676664841492,-2.1734031277367474,-1.1487258631247894,-1.145801095666628,-0.914568627494002,-1.6193960836930659,-1.6194784427766475,-1.1482745955647746,-0.9145681740490836,-1.2831362586152573,-1.218707213107295,-2.711885448690745,-2.279259185678084,-2.29711428364417,-1.1482807984335108,-2.228410895365912,-1.3284194126632443,-1.1482785068022912,-1.1500026921025581,-0.9146885737448126,-1.989856939699559,-2.297428683595057,-1.1482738407380344,-2.324950439706702,-1.9850837047578789,-2.1780380674269555,-0.9145917212855882,-2.297026639936539,-0.6368678443700418,-2.1964246679858617,-2.3503932325046453,-2.1779201355665467,-2.297288373565238,-2.24010861527086,-2.3595988023959027,-2.09486169418613,-2.2972190879674996,-1.2090826036972033,-2.208253054546788,-0.9145688195919381,-1.1482754835150266,-2.1739177591293757,-2.2660500131369763,-0.781040597507557,-2.2773932875301663,-1.283139249384348,-0.9145705618628008,-1.2091160285969755,-1.9865643157560322,-2.1779494302507643,-1.2831375729548804,-2.299749912933424,-2.2712368735032102,-2.2711956462597906,-2.2527032905256226,-1.1483035798737944,-1.9851837365990481,-1.9850867444779037,-1.5777997507695314,-1.2831414328399773,-0.31891510146257646,-1.2831728799217275,-1.191216040153748,-1.6194726094347196,-2.274247749434055,-1.1483638218605035,-1.2831445915756605,-1.157252438462002,-1.2331842775451616,-1.1482664028310816,-1.1483157199660576,-1.8087245892365567,-2.1934326941968494,-1.9871176854300283,-2.2972109685364557,-1.985090209391334],\"z\":[0.1757110151410171,0.3658295939385227,-0.004613074729303589,0.3508786865318256,0.36581692844435226,0.40256252309822915,0.28885847992915215,-0.004604141179994396,0.01814060988510561,-0.004607221976468975,0.2908547976777905,-0.02680333946383021,0.1756883437836552,-0.004628760608667372,-0.0046088554129524685,0.054337425967671577,0.06607935509623779,-0.004608268618289943,-0.004604275296238647,-0.004603588412681477,0.018141293961508806,0.2886975630114556,0.1727652726069658,-0.006541363732836537,-0.004605540150477428,-0.004639947991686584,-0.004606045505360235,-0.004603149311185701,0.2172568526606076,-0.00476621016431273,-0.004612508624268845,-0.004610419822157174,-0.018210484584038664,0.17571072299078175,-0.004631731533973382,-0.004605335976520747,-0.004602574216661954,-0.0046083471923147904,0.42145549698768553,-0.004603508531709278,-0.00568821716505364,0.17571130993365922,-0.004652801244074985,-0.004603710263401715,-0.004619085095061923,-0.004607718844077447,0.17561049971982612,0.175707145211333,0.17570933832206895,0.1757090498567084,0.1757138525139592,0.01814268475537811,-0.00460586277004728,0.11920953048288802,-0.004628789801362838,0.17570766259962337,0.31622348976511017,0.34267798330277854,-0.004614772086679312,-0.004737867720975784,-0.0046247188618567,-0.0046025628822214575,-0.004625712672025904,-0.004733430856902124,0.3912231893274123,0.2911203880399766,0.15605433715381603,-0.004603525879877913,-0.005606488714010684,0.37621205788705403,-0.004602487185233542,0.17571152000601706,-0.009921378769639392,0.018137911483397082,0.3660032281401685,0.17570941491771,0.018140116538633087,-0.004617557831617338,-0.0046238338288822,0.3658375956894008,0.3790942499360394,0.01814040525705124,0.1757107314787601,-0.0046339369781341734,0.4063133711342688,-0.004613702684383444,0.1724550277795294,0.018133772141146406,0.34761247081684266,-0.004612186163296897,0.19236707154696492,-0.004604157507022968,0.01814008943593565,-0.004602486730115399,0.0181412236191164,0.6680121181435194,0.34389292508267977,0.17571274578087845,0.29096463679862267,-0.004624752348291233,0.17571242911636542,-0.004605155878255774,0.36043772613141906,0.3658356066038845,0.402562686581218,-0.005198679536488423,0.018037760245373076,0.01812394504997053,0.3438929214552923,-0.004602633661705103,0.3438919160729213,0.3660075499279459,0.012311688861026729,0.35086856651621406,-0.004602876211133634,0.0180821740448683,0.4025627969865977,-0.004617400070266686,0.3660053738738979,0.31741860269559713,-0.004839575757122315,-0.0008484962881560457,-0.004606321037118836,0.1754476026950417,-0.004607820087337753,0.35086782698647506,0.39844550275159635,0.38212018577888796,0.40201135968327645,0.34361142107836334,0.018133768345148564,-0.004605183933142741,-0.004607207705075794,0.01813692137076848,0.018141461268888943,0.3438897955360098,0.21989115875314866,-0.03122989088602128,0.04410732376706935,0.018067884432642133,0.17571100882024715,-0.005209496064168397,-0.017814643480684844,-0.004604446983545004,-0.0046088631291479965,-0.004611191833570123,-0.004611290670900438,0.34388826025900104,0.4008688147113695,0.017789015118112508,0.21729361133181924,0.4025616159020534,0.3476025551801247,-0.004617413613869876,0.01810637303546371,0.2172923665481835,0.36582217604295353,0.21729317986850952,0.29104373929488786,0.3371985251637099,0.3438930875016549,0.36521326847011526,0.018103577731128667,0.35078172405661195,-0.005257717705119214,0.15416451089846842,0.018141260844346,0.2172936180959703,0.21723895169872404,-0.004610296430106408,0.018140683269527325,0.17571085651579005,0.07863582737624952,0.2811697256578938,0.3032335422811172,0.34386242621970736,-0.006104434183672146,0.3475990348976705,0.11909603868501696,-0.0046058566188946675,-0.007005403925634357,0.018094367230124923,0.36544086885176175,0.3438290153194494,-0.004603984294359103,0.24106519452438138,0.4025537798143785,0.3604197921465521,0.0181340766948555,0.3438916823613384,-0.0008479320187933905,0.36600631106501147,0.3232253311780922,0.36043841007398125,0.34385952914396506,0.33755691129160503,0.32944111179349117,0.38834583158618335,0.34378466517252726,0.21031040773560897,0.31716554447737844,0.018141120882069102,-0.004603803036237206,0.35077766010618605,0.3182030426708774,-0.047759606044407404,0.31770461052650634,0.17539845711997967,0.0181408875110698,0.2103057521461146,0.4017337477181337,0.36043354643033193,0.17571100910434334,0.3432545856355366,0.3161661790044321,0.3161694796636798,0.31724926640593104,-0.00461259185381748,0.40254592841815845,0.40256030999583264,0.15604794953882248,0.1757053539946799,-0.0647463123913186,0.17569635529284655,-0.01027917549072879,0.21671093839088232,0.31576553968534027,-0.004732292018745436,0.17570933356097657,-0.01022637868375774,0.06607594677749598,-0.004603150012771585,-0.004619354540340828,0.2911259339882149,0.32689934900318585,0.36583586459352296,0.3437227102953417,0.4025625310916136],\"type\":\"scatter3d\"},{\"customdata\":[[\"Proof-of-BibleHash\"],[\"SHA-256 + Hive\"],[\"Proof-of-Authority\"],[\"ECC 256K1\"],[\"Leased POS\"]],\"hovertemplate\":\"<b>%{hovertext}</b><br><br>Class=%{marker.color}<br>PC 1=%{x}<br>PC 2=%{y}<br>PC 3=%{z}<br>Algorithm=%{customdata[0]}<extra></extra>\",\"hovertext\":[\"BiblePay\",\"LitecoinCash\",\"Poa Network\",\"Acute Angle Cloud\",\"Waves\"],\"legendgroup\":\"3\",\"marker\":{\"color\":[3,3,3,3,3],\"coloraxis\":\"coloraxis\",\"symbol\":\"square\"},\"mode\":\"markers\",\"name\":\"3\",\"scene\":\"scene\",\"showlegend\":true,\"x\":[-0.1997979470656397,-0.40239779812632387,-0.3842685155170232,-0.37354096186171876,-0.4164191371489816],\"y\":[3.457859243307908,3.1131416829903307,4.248091218861345,1.6454558304722304,3.1413840593179456],\"z\":[13.4473517903112,7.587083377323204,18.836107572451986,13.319364189572951,14.307849475281396],\"type\":\"scatter3d\"},{\"customdata\":[[\"TRC10\"]],\"hovertemplate\":\"<b>%{hovertext}</b><br><br>Class=%{marker.color}<br>PC 1=%{x}<br>PC 2=%{y}<br>PC 3=%{z}<br>Algorithm=%{customdata[0]}<extra></extra>\",\"hovertext\":[\"BitTorrent\"],\"legendgroup\":\"2\",\"marker\":{\"color\":[2],\"coloraxis\":\"coloraxis\",\"symbol\":\"x\"},\"mode\":\"markers\",\"name\":\"2\",\"scene\":\"scene\",\"showlegend\":true,\"x\":[34.07249763214685],\"y\":[1.673702294199362],\"z\":[0.18771376142930976],\"type\":\"scatter3d\"}],                        {\"template\":{\"data\":{\"bar\":[{\"error_x\":{\"color\":\"#2a3f5f\"},\"error_y\":{\"color\":\"#2a3f5f\"},\"marker\":{\"line\":{\"color\":\"#E5ECF6\",\"width\":0.5},\"pattern\":{\"fillmode\":\"overlay\",\"size\":10,\"solidity\":0.2}},\"type\":\"bar\"}],\"barpolar\":[{\"marker\":{\"line\":{\"color\":\"#E5ECF6\",\"width\":0.5},\"pattern\":{\"fillmode\":\"overlay\",\"size\":10,\"solidity\":0.2}},\"type\":\"barpolar\"}],\"carpet\":[{\"aaxis\":{\"endlinecolor\":\"#2a3f5f\",\"gridcolor\":\"white\",\"linecolor\":\"white\",\"minorgridcolor\":\"white\",\"startlinecolor\":\"#2a3f5f\"},\"baxis\":{\"endlinecolor\":\"#2a3f5f\",\"gridcolor\":\"white\",\"linecolor\":\"white\",\"minorgridcolor\":\"white\",\"startlinecolor\":\"#2a3f5f\"},\"type\":\"carpet\"}],\"choropleth\":[{\"colorbar\":{\"outlinewidth\":0,\"ticks\":\"\"},\"type\":\"choropleth\"}],\"contour\":[{\"colorbar\":{\"outlinewidth\":0,\"ticks\":\"\"},\"colorscale\":[[0.0,\"#0d0887\"],[0.1111111111111111,\"#46039f\"],[0.2222222222222222,\"#7201a8\"],[0.3333333333333333,\"#9c179e\"],[0.4444444444444444,\"#bd3786\"],[0.5555555555555556,\"#d8576b\"],[0.6666666666666666,\"#ed7953\"],[0.7777777777777778,\"#fb9f3a\"],[0.8888888888888888,\"#fdca26\"],[1.0,\"#f0f921\"]],\"type\":\"contour\"}],\"contourcarpet\":[{\"colorbar\":{\"outlinewidth\":0,\"ticks\":\"\"},\"type\":\"contourcarpet\"}],\"heatmap\":[{\"colorbar\":{\"outlinewidth\":0,\"ticks\":\"\"},\"colorscale\":[[0.0,\"#0d0887\"],[0.1111111111111111,\"#46039f\"],[0.2222222222222222,\"#7201a8\"],[0.3333333333333333,\"#9c179e\"],[0.4444444444444444,\"#bd3786\"],[0.5555555555555556,\"#d8576b\"],[0.6666666666666666,\"#ed7953\"],[0.7777777777777778,\"#fb9f3a\"],[0.8888888888888888,\"#fdca26\"],[1.0,\"#f0f921\"]],\"type\":\"heatmap\"}],\"heatmapgl\":[{\"colorbar\":{\"outlinewidth\":0,\"ticks\":\"\"},\"colorscale\":[[0.0,\"#0d0887\"],[0.1111111111111111,\"#46039f\"],[0.2222222222222222,\"#7201a8\"],[0.3333333333333333,\"#9c179e\"],[0.4444444444444444,\"#bd3786\"],[0.5555555555555556,\"#d8576b\"],[0.6666666666666666,\"#ed7953\"],[0.7777777777777778,\"#fb9f3a\"],[0.8888888888888888,\"#fdca26\"],[1.0,\"#f0f921\"]],\"type\":\"heatmapgl\"}],\"histogram\":[{\"marker\":{\"pattern\":{\"fillmode\":\"overlay\",\"size\":10,\"solidity\":0.2}},\"type\":\"histogram\"}],\"histogram2d\":[{\"colorbar\":{\"outlinewidth\":0,\"ticks\":\"\"},\"colorscale\":[[0.0,\"#0d0887\"],[0.1111111111111111,\"#46039f\"],[0.2222222222222222,\"#7201a8\"],[0.3333333333333333,\"#9c179e\"],[0.4444444444444444,\"#bd3786\"],[0.5555555555555556,\"#d8576b\"],[0.6666666666666666,\"#ed7953\"],[0.7777777777777778,\"#fb9f3a\"],[0.8888888888888888,\"#fdca26\"],[1.0,\"#f0f921\"]],\"type\":\"histogram2d\"}],\"histogram2dcontour\":[{\"colorbar\":{\"outlinewidth\":0,\"ticks\":\"\"},\"colorscale\":[[0.0,\"#0d0887\"],[0.1111111111111111,\"#46039f\"],[0.2222222222222222,\"#7201a8\"],[0.3333333333333333,\"#9c179e\"],[0.4444444444444444,\"#bd3786\"],[0.5555555555555556,\"#d8576b\"],[0.6666666666666666,\"#ed7953\"],[0.7777777777777778,\"#fb9f3a\"],[0.8888888888888888,\"#fdca26\"],[1.0,\"#f0f921\"]],\"type\":\"histogram2dcontour\"}],\"mesh3d\":[{\"colorbar\":{\"outlinewidth\":0,\"ticks\":\"\"},\"type\":\"mesh3d\"}],\"parcoords\":[{\"line\":{\"colorbar\":{\"outlinewidth\":0,\"ticks\":\"\"}},\"type\":\"parcoords\"}],\"pie\":[{\"automargin\":true,\"type\":\"pie\"}],\"scatter\":[{\"marker\":{\"colorbar\":{\"outlinewidth\":0,\"ticks\":\"\"}},\"type\":\"scatter\"}],\"scatter3d\":[{\"line\":{\"colorbar\":{\"outlinewidth\":0,\"ticks\":\"\"}},\"marker\":{\"colorbar\":{\"outlinewidth\":0,\"ticks\":\"\"}},\"type\":\"scatter3d\"}],\"scattercarpet\":[{\"marker\":{\"colorbar\":{\"outlinewidth\":0,\"ticks\":\"\"}},\"type\":\"scattercarpet\"}],\"scattergeo\":[{\"marker\":{\"colorbar\":{\"outlinewidth\":0,\"ticks\":\"\"}},\"type\":\"scattergeo\"}],\"scattergl\":[{\"marker\":{\"colorbar\":{\"outlinewidth\":0,\"ticks\":\"\"}},\"type\":\"scattergl\"}],\"scattermapbox\":[{\"marker\":{\"colorbar\":{\"outlinewidth\":0,\"ticks\":\"\"}},\"type\":\"scattermapbox\"}],\"scatterpolar\":[{\"marker\":{\"colorbar\":{\"outlinewidth\":0,\"ticks\":\"\"}},\"type\":\"scatterpolar\"}],\"scatterpolargl\":[{\"marker\":{\"colorbar\":{\"outlinewidth\":0,\"ticks\":\"\"}},\"type\":\"scatterpolargl\"}],\"scatterternary\":[{\"marker\":{\"colorbar\":{\"outlinewidth\":0,\"ticks\":\"\"}},\"type\":\"scatterternary\"}],\"surface\":[{\"colorbar\":{\"outlinewidth\":0,\"ticks\":\"\"},\"colorscale\":[[0.0,\"#0d0887\"],[0.1111111111111111,\"#46039f\"],[0.2222222222222222,\"#7201a8\"],[0.3333333333333333,\"#9c179e\"],[0.4444444444444444,\"#bd3786\"],[0.5555555555555556,\"#d8576b\"],[0.6666666666666666,\"#ed7953\"],[0.7777777777777778,\"#fb9f3a\"],[0.8888888888888888,\"#fdca26\"],[1.0,\"#f0f921\"]],\"type\":\"surface\"}],\"table\":[{\"cells\":{\"fill\":{\"color\":\"#EBF0F8\"},\"line\":{\"color\":\"white\"}},\"header\":{\"fill\":{\"color\":\"#C8D4E3\"},\"line\":{\"color\":\"white\"}},\"type\":\"table\"}]},\"layout\":{\"annotationdefaults\":{\"arrowcolor\":\"#2a3f5f\",\"arrowhead\":0,\"arrowwidth\":1},\"autotypenumbers\":\"strict\",\"coloraxis\":{\"colorbar\":{\"outlinewidth\":0,\"ticks\":\"\"}},\"colorscale\":{\"diverging\":[[0,\"#8e0152\"],[0.1,\"#c51b7d\"],[0.2,\"#de77ae\"],[0.3,\"#f1b6da\"],[0.4,\"#fde0ef\"],[0.5,\"#f7f7f7\"],[0.6,\"#e6f5d0\"],[0.7,\"#b8e186\"],[0.8,\"#7fbc41\"],[0.9,\"#4d9221\"],[1,\"#276419\"]],\"sequential\":[[0.0,\"#0d0887\"],[0.1111111111111111,\"#46039f\"],[0.2222222222222222,\"#7201a8\"],[0.3333333333333333,\"#9c179e\"],[0.4444444444444444,\"#bd3786\"],[0.5555555555555556,\"#d8576b\"],[0.6666666666666666,\"#ed7953\"],[0.7777777777777778,\"#fb9f3a\"],[0.8888888888888888,\"#fdca26\"],[1.0,\"#f0f921\"]],\"sequentialminus\":[[0.0,\"#0d0887\"],[0.1111111111111111,\"#46039f\"],[0.2222222222222222,\"#7201a8\"],[0.3333333333333333,\"#9c179e\"],[0.4444444444444444,\"#bd3786\"],[0.5555555555555556,\"#d8576b\"],[0.6666666666666666,\"#ed7953\"],[0.7777777777777778,\"#fb9f3a\"],[0.8888888888888888,\"#fdca26\"],[1.0,\"#f0f921\"]]},\"colorway\":[\"#636efa\",\"#EF553B\",\"#00cc96\",\"#ab63fa\",\"#FFA15A\",\"#19d3f3\",\"#FF6692\",\"#B6E880\",\"#FF97FF\",\"#FECB52\"],\"font\":{\"color\":\"#2a3f5f\"},\"geo\":{\"bgcolor\":\"white\",\"lakecolor\":\"white\",\"landcolor\":\"#E5ECF6\",\"showlakes\":true,\"showland\":true,\"subunitcolor\":\"white\"},\"hoverlabel\":{\"align\":\"left\"},\"hovermode\":\"closest\",\"mapbox\":{\"style\":\"light\"},\"paper_bgcolor\":\"white\",\"plot_bgcolor\":\"#E5ECF6\",\"polar\":{\"angularaxis\":{\"gridcolor\":\"white\",\"linecolor\":\"white\",\"ticks\":\"\"},\"bgcolor\":\"#E5ECF6\",\"radialaxis\":{\"gridcolor\":\"white\",\"linecolor\":\"white\",\"ticks\":\"\"}},\"scene\":{\"xaxis\":{\"backgroundcolor\":\"#E5ECF6\",\"gridcolor\":\"white\",\"gridwidth\":2,\"linecolor\":\"white\",\"showbackground\":true,\"ticks\":\"\",\"zerolinecolor\":\"white\"},\"yaxis\":{\"backgroundcolor\":\"#E5ECF6\",\"gridcolor\":\"white\",\"gridwidth\":2,\"linecolor\":\"white\",\"showbackground\":true,\"ticks\":\"\",\"zerolinecolor\":\"white\"},\"zaxis\":{\"backgroundcolor\":\"#E5ECF6\",\"gridcolor\":\"white\",\"gridwidth\":2,\"linecolor\":\"white\",\"showbackground\":true,\"ticks\":\"\",\"zerolinecolor\":\"white\"}},\"shapedefaults\":{\"line\":{\"color\":\"#2a3f5f\"}},\"ternary\":{\"aaxis\":{\"gridcolor\":\"white\",\"linecolor\":\"white\",\"ticks\":\"\"},\"baxis\":{\"gridcolor\":\"white\",\"linecolor\":\"white\",\"ticks\":\"\"},\"bgcolor\":\"#E5ECF6\",\"caxis\":{\"gridcolor\":\"white\",\"linecolor\":\"white\",\"ticks\":\"\"}},\"title\":{\"x\":0.05},\"xaxis\":{\"automargin\":true,\"gridcolor\":\"white\",\"linecolor\":\"white\",\"ticks\":\"\",\"title\":{\"standoff\":15},\"zerolinecolor\":\"white\",\"zerolinewidth\":2},\"yaxis\":{\"automargin\":true,\"gridcolor\":\"white\",\"linecolor\":\"white\",\"ticks\":\"\",\"title\":{\"standoff\":15},\"zerolinecolor\":\"white\",\"zerolinewidth\":2}}},\"scene\":{\"domain\":{\"x\":[0.0,1.0],\"y\":[0.0,1.0]},\"xaxis\":{\"title\":{\"text\":\"PC 1\"}},\"yaxis\":{\"title\":{\"text\":\"PC 2\"}},\"zaxis\":{\"title\":{\"text\":\"PC 3\"}}},\"coloraxis\":{\"colorbar\":{\"title\":{\"text\":\"Class\"}},\"colorscale\":[[0.0,\"#0d0887\"],[0.1111111111111111,\"#46039f\"],[0.2222222222222222,\"#7201a8\"],[0.3333333333333333,\"#9c179e\"],[0.4444444444444444,\"#bd3786\"],[0.5555555555555556,\"#d8576b\"],[0.6666666666666666,\"#ed7953\"],[0.7777777777777778,\"#fb9f3a\"],[0.8888888888888888,\"#fdca26\"],[1.0,\"#f0f921\"]]},\"legend\":{\"title\":{\"text\":\"Class\"},\"tracegroupgap\":0,\"x\":0,\"y\":1},\"margin\":{\"t\":60},\"width\":800},                        {\"responsive\": true}                    ).then(function(){\n",
       "                            \n",
       "var gd = document.getElementById('ec08eb46-25a5-4a8a-ac54-eab9c66c64b4');\n",
       "var x = new MutationObserver(function (mutations, observer) {{\n",
       "        var display = window.getComputedStyle(gd).display;\n",
       "        if (!display || display === 'none') {{\n",
       "            console.log([gd, 'removed!']);\n",
       "            Plotly.purge(gd);\n",
       "            observer.disconnect();\n",
       "        }}\n",
       "}});\n",
       "\n",
       "// Listen for the removal of the full notebook cells\n",
       "var notebookContainer = gd.closest('#notebook-container');\n",
       "if (notebookContainer) {{\n",
       "    x.observe(notebookContainer, {childList: true});\n",
       "}}\n",
       "\n",
       "// Listen for the clearing of the current output cell\n",
       "var outputEl = gd.closest('.output');\n",
       "if (outputEl) {{\n",
       "    x.observe(outputEl, {childList: true});\n",
       "}}\n",
       "\n",
       "                        })                };                });            </script>        </div>"
      ]
     },
     "metadata": {},
     "output_type": "display_data"
    }
   ],
   "source": [
    "# Creating a 3D-Scatter with the PCA data and the clusters\n",
    "fig = px.scatter_3d(\n",
    "    clustered_df,\n",
    "    hover_name=\"CoinName\",\n",
    "    hover_data=[\"Algorithm\"],\n",
    "    x=\"PC 1\",\n",
    "    y=\"PC 2\",\n",
    "    z=\"PC 3\",\n",
    "    color=\"Class\",\n",
    "    symbol=\"Class\",\n",
    "    width=800,\n",
    ")\n",
    "fig.update_layout(legend=dict(x=0, y=1))\n",
    "fig.show()"
   ]
  },
  {
   "cell_type": "code",
   "execution_count": 110,
   "metadata": {},
   "outputs": [
    {
     "data": {},
     "metadata": {},
     "output_type": "display_data"
    },
    {
     "data": {
      "application/vnd.holoviews_exec.v0+json": "",
      "text/html": [
       "<div id='2150'>\n",
       "\n",
       "\n",
       "\n",
       "\n",
       "\n",
       "  <div class=\"bk-root\" id=\"8cb5fc1a-bbcb-41c9-b840-ab691c0d2772\" data-root-id=\"2150\"></div>\n",
       "</div>\n",
       "<script type=\"application/javascript\">(function(root) {\n",
       "  function embed_document(root) {\n",
       "    var docs_json = {\"5a5bb25b-d877-44b6-90ec-88c3d79e5fdc\":{\"defs\":[{\"extends\":null,\"module\":null,\"name\":\"ReactiveHTML1\",\"overrides\":[],\"properties\":[]},{\"extends\":null,\"module\":null,\"name\":\"FlexBox1\",\"overrides\":[],\"properties\":[{\"default\":\"flex-start\",\"kind\":null,\"name\":\"align_content\"},{\"default\":\"flex-start\",\"kind\":null,\"name\":\"align_items\"},{\"default\":\"row\",\"kind\":null,\"name\":\"flex_direction\"},{\"default\":\"wrap\",\"kind\":null,\"name\":\"flex_wrap\"},{\"default\":\"flex-start\",\"kind\":null,\"name\":\"justify_content\"}]},{\"extends\":null,\"module\":null,\"name\":\"GridStack1\",\"overrides\":[],\"properties\":[{\"default\":\"warn\",\"kind\":null,\"name\":\"mode\"},{\"default\":null,\"kind\":null,\"name\":\"ncols\"},{\"default\":null,\"kind\":null,\"name\":\"nrows\"},{\"default\":true,\"kind\":null,\"name\":\"allow_resize\"},{\"default\":true,\"kind\":null,\"name\":\"allow_drag\"},{\"default\":[],\"kind\":null,\"name\":\"state\"}]},{\"extends\":null,\"module\":null,\"name\":\"click1\",\"overrides\":[],\"properties\":[{\"default\":\"\",\"kind\":null,\"name\":\"terminal_output\"},{\"default\":\"\",\"kind\":null,\"name\":\"debug_name\"},{\"default\":0,\"kind\":null,\"name\":\"clears\"}]},{\"extends\":null,\"module\":null,\"name\":\"TemplateActions1\",\"overrides\":[],\"properties\":[{\"default\":0,\"kind\":null,\"name\":\"open_modal\"},{\"default\":0,\"kind\":null,\"name\":\"close_modal\"}]},{\"extends\":null,\"module\":null,\"name\":\"MaterialTemplateActions1\",\"overrides\":[],\"properties\":[{\"default\":0,\"kind\":null,\"name\":\"open_modal\"},{\"default\":0,\"kind\":null,\"name\":\"close_modal\"}]}],\"roots\":{\"references\":[{\"attributes\":{},\"id\":\"2195\",\"type\":\"IntEditor\"},{\"attributes\":{\"editor\":{\"id\":\"2195\"},\"field\":\"Class\",\"formatter\":{\"id\":\"2194\"},\"title\":\"Class\"},\"id\":\"2196\",\"type\":\"TableColumn\"},{\"attributes\":{\"source\":{\"id\":\"2152\"}},\"id\":\"2201\",\"type\":\"CDSView\"},{\"attributes\":{},\"id\":\"2169\",\"type\":\"StringFormatter\"},{\"attributes\":{\"editor\":{\"id\":\"2165\"},\"field\":\"TotalCoinsMined\",\"formatter\":{\"id\":\"2164\"},\"title\":\"TotalCoinsMined\"},\"id\":\"2166\",\"type\":\"TableColumn\"},{\"attributes\":{},\"id\":\"2170\",\"type\":\"StringEditor\"},{\"attributes\":{},\"id\":\"2175\",\"type\":\"NumberEditor\"},{\"attributes\":{\"editor\":{\"id\":\"2170\"},\"field\":\"TotalCoinSupply\",\"formatter\":{\"id\":\"2169\"},\"title\":\"TotalCoinSupply\"},\"id\":\"2171\",\"type\":\"TableColumn\"},{\"attributes\":{},\"id\":\"2180\",\"type\":\"NumberEditor\"},{\"attributes\":{},\"id\":\"2155\",\"type\":\"StringEditor\"},{\"attributes\":{\"columns\":[{\"id\":\"2156\"},{\"id\":\"2161\"},{\"id\":\"2166\"},{\"id\":\"2171\"},{\"id\":\"2176\"},{\"id\":\"2181\"},{\"id\":\"2186\"},{\"id\":\"2191\"},{\"id\":\"2196\"}],\"height\":300,\"reorderable\":false,\"source\":{\"id\":\"2152\"},\"view\":{\"id\":\"2201\"},\"width\":700},\"id\":\"2199\",\"type\":\"DataTable\"},{\"attributes\":{\"children\":[{\"id\":\"2151\"},{\"id\":\"2199\"},{\"id\":\"2206\"}],\"margin\":[0,0,0,0],\"name\":\"Row03850\",\"tags\":[\"embedded\"]},\"id\":\"2150\",\"type\":\"Row\"},{\"attributes\":{\"margin\":[5,5,5,5],\"name\":\"HSpacer03855\",\"sizing_mode\":\"stretch_width\"},\"id\":\"2206\",\"type\":\"Spacer\"},{\"attributes\":{\"data\":{\"Algorithm\":[\"Scrypt\",\"Scrypt\",\"X13\",\"SHA-256\",\"Ethash\",\"Scrypt\",\"X11\",\"CryptoNight-V7\",\"Ethash\",\"Equihash\",\"SHA-512\",\"Multiple\",\"SHA-256\",\"SHA-256\",\"Scrypt\",\"X15\",\"X11\",\"Scrypt\",\"Scrypt\",\"Scrypt\",\"Multiple\",\"Scrypt\",\"SHA-256\",\"Scrypt\",\"Scrypt\",\"Scrypt\",\"Quark\",\"Groestl\",\"Scrypt\",\"Scrypt\",\"Scrypt\",\"Scrypt\",\"Scrypt\",\"X11\",\"Scrypt\",\"Groestl\",\"Multiple\",\"SHA-256\",\"Scrypt\",\"Scrypt\",\"Scrypt\",\"Scrypt\",\"PoS\",\"Scrypt\",\"Scrypt\",\"NeoScrypt\",\"Scrypt\",\"Scrypt\",\"Scrypt\",\"Scrypt\",\"X11\",\"Scrypt\",\"X11\",\"SHA-256\",\"Scrypt\",\"Scrypt\",\"Scrypt\",\"SHA3\",\"Scrypt\",\"HybridScryptHash256\",\"Scrypt\",\"Scrypt\",\"SHA-256\",\"Scrypt\",\"X13\",\"Scrypt\",\"SHA-256\",\"Scrypt\",\"X13\",\"NeoScrypt\",\"Scrypt\",\"Scrypt\",\"Scrypt\",\"Scrypt\",\"Scrypt\",\"Scrypt\",\"X11\",\"X11\",\"SHA-256\",\"Multiple\",\"SHA-256\",\"PHI1612\",\"X11\",\"SHA-256\",\"SHA-256\",\"SHA-256\",\"X11\",\"Scrypt\",\"Scrypt\",\"Scrypt\",\"Scrypt\",\"Lyra2REv2\",\"Scrypt\",\"X11\",\"Multiple\",\"SHA-256\",\"X13\",\"Scrypt\",\"CryptoNight\",\"CryptoNight\",\"Shabal256\",\"Counterparty\",\"Scrypt\",\"SHA-256\",\"Groestl\",\"Scrypt\",\"Scrypt\",\"Scrypt\",\"X13\",\"Scrypt\",\"Scrypt\",\"Scrypt\",\"Scrypt\",\"X13\",\"Scrypt\",\"Stanford Folding\",\"X11\",\"Multiple\",\"QuBit\",\"Scrypt\",\"Scrypt\",\"Scrypt\",\"M7 POW\",\"Scrypt\",\"SHA-256\",\"Scrypt\",\"X11\",\"SHA3\",\"X11\",\"Lyra2RE\",\"SHA-256\",\"QUAIT\",\"X11\",\"X11\",\"Scrypt\",\"Scrypt\",\"Scrypt\",\"Ethash\",\"X13\",\"Blake2b\",\"SHA-256\",\"X15\",\"X11\",\"SHA-256\",\"BLAKE256\",\"Scrypt\",\"1GB AES Pattern Search\",\"SHA-256\",\"X11\",\"Scrypt\",\"SHA-256\",\"SHA-256\",\"NIST5\",\"Scrypt\",\"Scrypt\",\"X11\",\"Dagger\",\"Scrypt\",\"X11GOST\",\"X11\",\"Scrypt\",\"SHA-256\",\"Scrypt\",\"PoS\",\"Scrypt\",\"X11\",\"X11\",\"SHA-256\",\"SHA-256\",\"NIST5\",\"X11\",\"Scrypt\",\"POS 3.0\",\"Scrypt\",\"Scrypt\",\"Scrypt\",\"X13\",\"X11\",\"X11\",\"Equihash\",\"X11\",\"Scrypt\",\"CryptoNight\",\"SHA-256\",\"SHA-256\",\"X11\",\"Scrypt\",\"Multiple\",\"Scrypt\",\"Scrypt\",\"Scrypt\",\"SHA-256\",\"Scrypt\",\"Scrypt\",\"SHA-256D\",\"PoS\",\"Scrypt\",\"X11\",\"Lyra2Z\",\"PoS\",\"X13\",\"X14\",\"PoS\",\"SHA-256D\",\"Ethash\",\"Equihash\",\"DPoS\",\"X11\",\"Scrypt\",\"X11\",\"X13\",\"X11\",\"PoS\",\"Scrypt\",\"Scrypt\",\"X11\",\"PoS\",\"X11\",\"SHA-256\",\"Scrypt\",\"X11\",\"Scrypt\",\"Scrypt\",\"X11\",\"CryptoNight\",\"Scrypt\",\"Scrypt\",\"Scrypt\",\"Scrypt\",\"Quark\",\"QuBit\",\"Scrypt\",\"CryptoNight\",\"Lyra2RE\",\"Scrypt\",\"SHA-256\",\"X11\",\"Scrypt\",\"X11\",\"Scrypt\",\"CryptoNight-V7\",\"Scrypt\",\"Scrypt\",\"Scrypt\",\"X13\",\"X11\",\"Equihash\",\"Scrypt\",\"Scrypt\",\"Lyra2RE\",\"Scrypt\",\"Dagger-Hashimoto\",\"X11\",\"Blake2S\",\"X11\",\"Scrypt\",\"PoS\",\"X11\",\"NIST5\",\"PoS\",\"X11\",\"Scrypt\",\"Scrypt\",\"Scrypt\",\"SHA-256\",\"X11\",\"Scrypt\",\"Scrypt\",\"SHA-256\",\"PoS\",\"Scrypt\",\"X15\",\"SHA-256\",\"Scrypt\",\"POS 3.0\",\"CryptoNight-V7\",\"536\",\"Argon2d\",\"Blake2b\",\"Cloverhash\",\"CryptoNight\",\"NIST5\",\"X11\",\"NIST5\",\"Skein\",\"Scrypt\",\"X13\",\"Scrypt\",\"X11\",\"X11\",\"Scrypt\",\"CryptoNight\",\"X13\",\"Time Travel\",\"Scrypt\",\"Keccak\",\"SkunkHash v2 Raptor\",\"X11\",\"Skein\",\"SHA-256\",\"X11\",\"Scrypt\",\"VeChainThor Authority\",\"Scrypt\",\"PoS\",\"Scrypt\",\"Scrypt\",\"Scrypt\",\"Scrypt\",\"Scrypt\",\"Scrypt\",\"Scrypt\",\"CryptoNight\",\"SHA-512\",\"Ouroboros\",\"X11\",\"Equihash\",\"NeoScrypt\",\"X11\",\"Scrypt\",\"NeoScrypt\",\"Lyra2REv2\",\"Equihash\",\"Scrypt\",\"SHA-256\",\"NIST5\",\"PHI1612\",\"Dagger\",\"Scrypt\",\"Quark\",\"Scrypt\",\"POS 2.0\",\"Scrypt\",\"SHA-256\",\"X11\",\"NeoScrypt\",\"Ethash\",\"NeoScrypt\",\"X11\",\"DPoS\",\"NIST5\",\"X13\",\"Multiple\",\"Scrypt\",\"CryptoNight\",\"CryptoNight\",\"Ethash\",\"NIST5\",\"Quark\",\"X11\",\"CryptoNight-V7\",\"Scrypt\",\"Scrypt\",\"Scrypt\",\"X11\",\"BLAKE256\",\"X11\",\"NeoScrypt\",\"Quark\",\"NeoScrypt\",\"Scrypt\",\"Scrypt\",\"Scrypt\",\"X11\",\"X11\",\"SHA-256\",\"C11\",\"POS 3.0\",\"Ethash\",\"Scrypt\",\"CryptoNight\",\"SkunkHash\",\"Scrypt\",\"CryptoNight\",\"Scrypt\",\"Dagger\",\"Lyra2REv2\",\"X13\",\"Proof-of-BibleHash\",\"SHA-256 + Hive\",\"Scrypt\",\"Scrypt\",\"X11\",\"C11\",\"Proof-of-Authority\",\"X11\",\"XEVAN\",\"Scrypt\",\"VBFT\",\"Ethash\",\"CryptoNight\",\"Scrypt\",\"IMesh\",\"NIST5\",\"Scrypt\",\"Scrypt\",\"Equihash\",\"Scrypt\",\"Lyra2Z\",\"Green Protocol\",\"PoS\",\"Scrypt\",\"Semux BFT consensus\",\"X11\",\"Quark\",\"PoS\",\"CryptoNight\",\"X16R\",\"Scrypt\",\"NIST5\",\"Lyra2RE\",\"XEVAN\",\"Tribus\",\"Scrypt\",\"Lyra2Z\",\"CryptoNight\",\"CryptoNight Heavy\",\"CryptoNight\",\"Scrypt\",\"Scrypt\",\"Jump Consistent Hash\",\"SHA-256D\",\"CryptoNight\",\"Scrypt\",\"X15\",\"Scrypt\",\"Quark\",\"SHA-256\",\"DPoS\",\"X16R\",\"HMQ1725\",\"X11\",\"X16R\",\"Quark\",\"Quark\",\"Scrypt\",\"Lyra2REv2\",\"Quark\",\"Scrypt\",\"Scrypt\",\"CryptoNight-V7\",\"Cryptonight-GPU\",\"XEVAN\",\"CryptoNight Heavy\",\"X11\",\"X11\",\"Scrypt\",\"PoS\",\"SHA-256\",\"Keccak\",\"X11\",\"X11\",\"Scrypt\",\"SHA-512\",\"X16R\",\"ECC 256K1\",\"Equihash\",\"XEVAN\",\"Lyra2Z\",\"SHA-256\",\"XEVAN\",\"X11\",\"CryptoNight\",\"Quark\",\"Blake\",\"Blake\",\"Equihash\",\"Exosis\",\"Scrypt\",\"Scrypt\",\"Equihash\",\"Quark\",\"Equihash\",\"Quark\",\"Scrypt\",\"QuBit\",\"X11\",\"Scrypt\",\"XEVAN\",\"SHA-256D\",\"X11\",\"SHA-256\",\"X13\",\"SHA-256\",\"X11\",\"DPoS\",\"Scrypt\",\"Scrypt\",\"X11\",\"NeoScrypt\",\"Scrypt\",\"Blake\",\"Scrypt\",\"SHA-256\",\"Scrypt\",\"X11\",\"Scrypt\",\"Scrypt\",\"SHA-256\",\"X11\",\"SHA-256\",\"Scrypt\",\"Scrypt\",\"Scrypt\",\"Groestl\",\"X11\",\"Scrypt\",\"PoS\",\"Scrypt\",\"Scrypt\",\"X11\",\"SHA-256\",\"DPoS\",\"Scrypt\",\"Scrypt\",\"NeoScrypt\",\"Multiple\",\"X13\",\"Equihash+Scrypt\",\"DPoS\",\"Ethash\",\"DPoS\",\"SHA-256\",\"Leased POS\",\"PoS\",\"TRC10\",\"PoS\",\"SHA-256\",\"Scrypt\",\"CryptoNight\",\"Equihash\",\"Scrypt\"],\"Class\":{\"__ndarray__\":\"AAAAAAAAAAAAAAAAAQAAAAEAAAABAAAAAAAAAAEAAAABAAAAAQAAAAAAAAABAAAAAAAAAAAAAAABAAAAAAAAAAEAAAABAAAAAAAAAAAAAAABAAAAAQAAAAEAAAABAAAAAQAAAAAAAAABAAAAAQAAAAEAAAAAAAAAAQAAAAAAAAABAAAAAQAAAAAAAAAAAAAAAQAAAAEAAAABAAAAAQAAAAEAAAABAAAAAAAAAAAAAAABAAAAAQAAAAEAAAABAAAAAQAAAAAAAAAAAAAAAQAAAAAAAAABAAAAAQAAAAEAAAABAAAAAAAAAAEAAAABAAAAAAAAAAEAAAAAAAAAAAAAAAAAAAABAAAAAQAAAAEAAAAAAAAAAAAAAAAAAAAAAAAAAAAAAAEAAAABAAAAAQAAAAAAAAAAAAAAAQAAAAAAAAABAAAAAAAAAAAAAAABAAAAAQAAAAEAAAABAAAAAAAAAAAAAAABAAAAAAAAAAEAAAABAAAAAAAAAAAAAAABAAAAAAAAAAAAAAABAAAAAQAAAAAAAAAAAAAAAQAAAAAAAAAAAAAAAQAAAAAAAAABAAAAAAAAAAEAAAAAAAAAAQAAAAAAAAAAAAAAAQAAAAEAAAAAAAAAAQAAAAEAAAABAAAAAAAAAAEAAAABAAAAAQAAAAEAAAABAAAAAAAAAAAAAAABAAAAAQAAAAEAAAAAAAAAAQAAAAAAAAABAAAAAQAAAAAAAAABAAAAAAAAAAEAAAAAAAAAAAAAAAEAAAABAAAAAAAAAAEAAAABAAAAAAAAAAAAAAABAAAAAAAAAAEAAAAAAAAAAAAAAAAAAAABAAAAAQAAAAEAAAABAAAAAAAAAAAAAAAAAAAAAAAAAAAAAAABAAAAAQAAAAAAAAAAAAAAAAAAAAAAAAAAAAAAAQAAAAAAAAAAAAAAAAAAAAAAAAAAAAAAAQAAAAAAAAABAAAAAAAAAAAAAAABAAAAAAAAAAEAAAAAAAAAAAAAAAEAAAAAAAAAAQAAAAAAAAABAAAAAAAAAAEAAAAAAAAAAAAAAAAAAAAAAAAAAQAAAAAAAAAAAAAAAAAAAAAAAAAAAAAAAQAAAAEAAAAAAAAAAAAAAAEAAAABAAAAAAAAAAAAAAAAAAAAAAAAAAAAAAABAAAAAAAAAAAAAAAAAAAAAAAAAAAAAAAAAAAAAAAAAAAAAAABAAAAAAAAAAAAAAAAAAAAAAAAAAAAAAAAAAAAAQAAAAEAAAABAAAAAAAAAAAAAAAAAAAAAAAAAAEAAAAAAAAAAQAAAAAAAAAAAAAAAQAAAAAAAAABAAAAAQAAAAAAAAABAAAAAQAAAAAAAAABAAAAAAAAAAAAAAAAAAAAAQAAAAAAAAAAAAAAAQAAAAAAAAAAAAAAAAAAAAAAAAAAAAAAAAAAAAAAAAABAAAAAAAAAAEAAAAAAAAAAAAAAAAAAAAAAAAAAQAAAAAAAAABAAAAAAAAAAEAAAABAAAAAQAAAAEAAAAAAAAAAQAAAAAAAAAAAAAAAQAAAAAAAAABAAAAAQAAAAEAAAAAAAAAAQAAAAAAAAABAAAAAQAAAAEAAAAAAAAAAQAAAAAAAAABAAAAAAAAAAAAAAAAAAAAAQAAAAAAAAABAAAAAQAAAAEAAAABAAAAAQAAAAAAAAAAAAAAAQAAAAAAAAAAAAAAAAAAAAEAAAAAAAAAAQAAAAAAAAABAAAAAAAAAAEAAAAAAAAAAAAAAAAAAAAAAAAAAQAAAAAAAAAAAAAAAQAAAAAAAAAAAAAAAAAAAAEAAAABAAAAAQAAAAEAAAAAAAAAAAAAAAAAAAAAAAAAAQAAAAAAAAABAAAAAQAAAAEAAAAAAAAAAAAAAAEAAAABAAAAAAAAAAAAAAABAAAAAAAAAAEAAAABAAAAAQAAAAAAAAABAAAAAQAAAAAAAAAAAAAAAAAAAAEAAAABAAAAAQAAAAAAAAAAAAAAAAAAAAEAAAABAAAAAAAAAAEAAAABAAAAAQAAAAEAAAAAAAAAAwAAAAMAAAABAAAAAQAAAAEAAAAAAAAAAwAAAAAAAAAAAAAAAAAAAAAAAAABAAAAAQAAAAEAAAABAAAAAAAAAAAAAAAAAAAAAQAAAAAAAAABAAAAAAAAAAAAAAAAAAAAAAAAAAEAAAAAAAAAAAAAAAEAAAAAAAAAAAAAAAEAAAABAAAAAAAAAAEAAAAAAAAAAQAAAAEAAAABAAAAAQAAAAAAAAAAAAAAAQAAAAAAAAABAAAAAAAAAAAAAAAAAAAAAAAAAAAAAAAAAAAAAQAAAAEAAAABAAAAAAAAAAAAAAAAAAAAAAAAAAAAAAAAAAAAAQAAAAAAAAABAAAAAQAAAAEAAAABAAAAAAAAAAAAAAAAAAAAAAAAAAEAAAAAAAAAAAAAAAEAAAAAAAAAAAAAAAEAAAADAAAAAQAAAAAAAAABAAAAAQAAAAAAAAAAAAAAAQAAAAAAAAABAAAAAQAAAAAAAAABAAAAAQAAAAAAAAABAAAAAAAAAAEAAAAAAAAAAAAAAAEAAAAAAAAAAAAAAAAAAAAAAAAAAAAAAAEAAAABAAAAAQAAAAAAAAAAAAAAAAAAAAEAAAAAAAAAAQAAAAAAAAABAAAAAAAAAAAAAAAAAAAAAAAAAAEAAAAAAAAAAAAAAAAAAAABAAAAAAAAAAEAAAAAAAAAAQAAAAAAAAAAAAAAAAAAAAEAAAABAAAAAAAAAAAAAAAAAAAAAAAAAAAAAAAAAAAAAQAAAAAAAAABAAAAAAAAAAEAAAAAAAAAAAAAAAMAAAAAAAAAAgAAAAAAAAAAAAAAAAAAAAEAAAABAAAAAAAAAA==\",\"dtype\":\"int32\",\"order\":\"little\",\"shape\":[532]},\"CoinName\":[\"42 Coin\",\"404Coin\",\"EliteCoin\",\"Bitcoin\",\"Ethereum\",\"Litecoin\",\"Dash\",\"Monero\",\"Ethereum Classic\",\"ZCash\",\"Bitshares\",\"DigiByte\",\"BitcoinDark\",\"PayCoin\",\"ProsperCoin\",\"KoboCoin\",\"Spreadcoin\",\"Argentum\",\"Aurora Coin\",\"BlueCoin\",\"MyriadCoin\",\"MoonCoin\",\"ZetaCoin\",\"SexCoin\",\"Quatloo\",\"EnergyCoin\",\"QuarkCoin\",\"Riecoin\",\"Digitalcoin \",\"BitBar\",\"Catcoin\",\"CryptoBullion\",\"CannaCoin\",\"CryptCoin\",\"CasinoCoin\",\"Diamond\",\"Verge\",\"DevCoin\",\"EarthCoin\",\"E-Gulden\",\"Einsteinium\",\"Emerald\",\"Exclusive Coin\",\"FlutterCoin\",\"Franko\",\"FeatherCoin\",\"GrandCoin\",\"GlobalCoin\",\"GoldCoin\",\"HoboNickels\",\"HyperStake\",\"Infinite Coin\",\"IOCoin\",\"IXcoin\",\"KrugerCoin\",\"LuckyCoin\",\"Litebar \",\"MaxCoin\",\"MegaCoin\",\"MediterraneanCoin\",\"MintCoin\",\"MinCoin\",\"MazaCoin\",\"Nautilus Coin\",\"NavCoin\",\"NobleCoin\",\"Namecoin\",\"NyanCoin\",\"OpalCoin\",\"Orbitcoin\",\"PotCoin\",\"PhoenixCoin\",\"Reddcoin\",\"RonPaulCoin\",\"StableCoin\",\"SmartCoin\",\"SuperCoin\",\"SyncCoin\",\"SysCoin\",\"TeslaCoin\",\"TigerCoin\",\"TittieCoin\",\"TorCoin\",\"TerraCoin\",\"UnbreakableCoin\",\"Unobtanium\",\"UroCoin\",\"UnitaryStatus Dollar\",\"UltraCoin\",\"ViaCoin\",\"VeriCoin\",\"Vertcoin\",\"WorldCoin\",\"X11 Coin\",\"Crypti\",\"JouleCoin\",\"StealthCoin\",\"ZCC Coin\",\"ByteCoin\",\"DigitalNote \",\"BurstCoin\",\"StorjCoin\",\"MonaCoin\",\"Neutron\",\"FairCoin\",\"Gulden\",\"RubyCoin\",\"PesetaCoin\",\"Kore\",\"Wild Beast Coin\",\"Dnotes\",\"Flo\",\"8BIT Coin\",\"Sativa Coin\",\"ArtByte\",\"Folding Coin\",\"Ucoin\",\"Unitus\",\"CypherPunkCoin\",\"OmniCron\",\"Vtorrent\",\"GreenCoin\",\"Cryptonite\",\"MasterCoin\",\"SoonCoin\",\"1Credit\",\"IslaCoin\",\"Nexus\",\"MarsCoin \",\"Crypto\",\"Anarchists Prime\",\"Droidz\",\"BowsCoin\",\"Squall Coin\",\"Song Coin\",\"BitZeny\",\"Diggits\",\"Expanse\",\"Paycon\",\"Siacoin\",\"Emercoin\",\"EverGreenCoin\",\"MindCoin\",\"I0coin\",\"Decred\",\"Revolution VR\",\"HOdlcoin\",\"EDRCoin\",\"Hitcoin\",\"Gamecredits\",\"DubaiCoin\",\"CarpeDiemCoin\",\"PWR Coin\",\"BillaryCoin\",\"GPU Coin\",\"Adzcoin\",\"SoilCoin\",\"YoCoin\",\"SibCoin\",\"EuropeCoin\",\"ZeitCoin\",\"SwingCoin\",\"SafeExchangeCoin\",\"Nebuchadnezzar\",\"Francs\",\"BolivarCoin\",\"Ratecoin\",\"Revenu\",\"Clockcoin\",\"VIP Tokens\",\"BitSend\",\"Omni\",\"Let it Ride\",\"PutinCoin\",\"iBankCoin\",\"Frankywillcoin\",\"MudraCoin\",\"PizzaCoin\",\"Lutetium Coin\",\"Komodo\",\"GoldBlocks\",\"CarterCoin\",\"Karbo\",\"BitTokens\",\"ZayedCoin\",\"MustangCoin\",\"ZoneCoin\",\"Circuits of Value\",\"RootCoin\",\"DopeCoin\",\"BitCurrency\",\"DollarCoin\",\"Swiscoin\",\"Shilling\",\"BuzzCoin\",\"Opair\",\"PesoBit\",\"Halloween Coin\",\"ZCoin\",\"CoffeeCoin\",\"RoyalCoin\",\"GanjaCoin V2\",\"TeamUP\",\"LanaCoin\",\"Elementrem\",\"ZClassic\",\"ARK\",\"InsaneCoin\",\"KiloCoin\",\"ArtexCoin\",\"EmberCoin\",\"XenixCoin\",\"FreeCoin\",\"PLNCoin\",\"AquariusCoin\",\"Kurrent\",\"Creatio\",\"Eternity\",\"Eurocoin\",\"BitcoinFast\",\"Stakenet\",\"BitConnect Coin\",\"MoneyCoin\",\"Enigma\",\"Cannabis Industry Coin\",\"Russiacoin\",\"PandaCoin\",\"GameUnits\",\"GAKHcoin\",\"Allsafe\",\"LiteCreed\",\"OsmiumCoin\",\"Bikercoins\",\"HexxCoin\",\"Klingon Empire Darsek\",\"Internet of People\",\"KushCoin\",\"Printerium\",\"PacCoin\",\"Impeach\",\"Citadel\",\"Zilbercoin\",\"FirstCoin\",\"BeaverCoin\",\"FindCoin\",\"VaultCoin\",\"Zero\",\"OpenChat\",\"Canada eCoin\",\"Zoin\",\"RenosCoin\",\"DubaiCoin\",\"VirtacoinPlus\",\"TajCoin\",\"Impact\",\"EB3coin\",\"Atmos\",\"HappyCoin\",\"Coinonat\",\"MacronCoin\",\"Condensate\",\"Independent Money System\",\"ArgusCoin\",\"LomoCoin\",\"ProCurrency\",\"GoldReserve\",\"BenjiRolls\",\"GrowthCoin\",\"ILCoin\",\"Phreak\",\"Degas Coin\",\"HTML5 Coin\",\"Ultimate Secure Cash\",\"EquiTrader\",\"QTUM\",\"Quantum Resistant Ledger\",\"Espers\",\"Dynamic\",\"Nano\",\"ChanCoin\",\"Dinastycoin\",\"Denarius\",\"DigitalPrice\",\"Virta Unique Coin\",\"Bitcoin Planet\",\"Unify\",\"BritCoin\",\"SocialCoin\",\"ArcticCoin\",\"DAS\",\"Linda\",\"LeviarCoin\",\"DeepOnion\",\"Bitcore\",\"gCn Coin\",\"SmartCash\",\"Signatum\",\"Onix\",\"Cream\",\"Bitcoin Cash\",\"Monoeci\",\"Draftcoin\",\"Vechain\",\"Sojourn Coin\",\"Stakecoin\",\"NewYorkCoin\",\"FrazCoin\",\"Kronecoin\",\"AdCoin\",\"Linx\",\"CoinonatX\",\"Ethereum Dark\",\"Sumokoin\",\"Obsidian\",\"Cardano\",\"Regalcoin\",\"BitcoinZ\",\"TrezarCoin\",\"Elements\",\"TerraNovaCoin\",\"VIVO Coin\",\"Rupee\",\"Bitcoin Gold\",\"WomenCoin\",\"Theresa May Coin\",\"NamoCoin\",\"LUXCoin\",\"Pirl\",\"Xios\",\"Bitcloud 2.0\",\"eBoost\",\"KekCoin\",\"BlackholeCoin\",\"Infinity Economics\",\"Pura\",\"Innova\",\"Ellaism\",\"GoByte\",\"Magnet\",\"Lamden Tau\",\"Electra\",\"Bitcoin Diamond\",\"SHIELD\",\"Cash & Back Coin\",\"UltraNote\",\"BitCoal\",\"DaxxCoin\",\"Bulwark\",\"Kalkulus\",\"AC3\",\"Lethean\",\"GermanCoin\",\"LiteCoin Ultra\",\"PopularCoin\",\"PhantomX\",\"Photon\",\"Sucre\",\"SparksPay\",\"Digiwage\",\"GunCoin\",\"IrishCoin\",\"Trollcoin\",\"Litecoin Plus\",\"Monkey Project\",\"Pioneer Coin\",\"UnitedBitcoin\",\"Interzone\",\"TokenPay\",\"1717 Masonic Commemorative Token\",\"My Big Coin\",\"TurtleCoin\",\"MUNcoin\",\"Unified Society USDEX\",\"Niobio Cash\",\"ShareChain\",\"Travelflex\",\"KREDS\",\"Tokyo Coin\",\"BiblePay\",\"LitecoinCash\",\"BitFlip\",\"LottoCoin\",\"Crypto Improvement Fund\",\"Stipend\",\"Poa Network\",\"Pushi\",\"Ellerium\",\"Velox\",\"Ontology\",\"Callisto Network\",\"BitTube\",\"Poseidon\",\"Aidos Kuneen\",\"Bitspace\",\"Briacoin\",\"Ignition\",\"Bitrolium\",\"MedicCoin\",\"Alpenschillling\",\"Bitcoin Green\",\"Deviant Coin\",\"Abjcoin\",\"Semux\",\"FuturoCoin\",\"Carebit\",\"Zealium\",\"Monero Classic\",\"Proton\",\"iDealCash\",\"Jumpcoin\",\"Infinex\",\"Bitcoin Incognito\",\"KEYCO\",\"HollyWoodCoin\",\"GINcoin\",\"PlatinCoin\",\"Loki\",\"Newton Coin\",\"Swisscoin\",\"Xt3ch\",\"MassGrid\",\"TheVig\",\"PluraCoin\",\"EmaratCoin\",\"Dekado\",\"Lynx\",\"Poseidon Quark\",\"BitcoinWSpectrum\",\"Muse\",\"Motion\",\"PlusOneCoin\",\"Axe\",\"Trivechain\",\"Dystem\",\"Giant\",\"Peony Coin\",\"Absolute Coin\",\"Vitae\",\"HexCoin\",\"TPCash\",\"Webchain\",\"Ryo\",\"Urals Coin\",\"Qwertycoin\",\"ARENON\",\"EUNO\",\"MMOCoin\",\"Ketan\",\"Project Pai\",\"XDNA\",\"PAXEX\",\"Azart\",\"ThunderStake\",\"Kcash\",\"Xchange\",\"Acute Angle Cloud\",\"CrypticCoin\",\"Bettex coin\",\"Actinium\",\"Bitcoin SV\",\"BitMoney\",\"Junson Ming Chan Coin\",\"FREDEnergy\",\"HerbCoin\",\"Universal Molecule\",\"Lithium\",\"PirateCash\",\"Exosis\",\"Block-Logic\",\"Oduwa\",\"Beam\",\"Galilel\",\"Bithereum\",\"Crypto Sports\",\"Credit\",\"SLICE\",\"Dash Platinum\",\"Nasdacoin\",\"Beetle Coin\",\"Titan Coin\",\"Award\",\"BLAST\",\"Bitcoin Rhodium\",\"GlobalToken\",\"Insane Coin\",\"ALAX\",\"LiteDoge\",\"SolarCoin\",\"TruckCoin\",\"UFO Coin\",\"OrangeCoin\",\"BlakeCoin\",\"BitstarCoin\",\"NeosCoin\",\"HyperCoin\",\"PinkCoin\",\"Crypto Escudo\",\"AudioCoin\",\"IncaKoin\",\"Piggy Coin\",\"Crown Coin\",\"Genstake\",\"SmileyCoin\",\"XiaoMiCoin\",\"Groestlcoin\",\"CapriCoin\",\" ClubCoin\",\"Radium\",\"Bata\",\"Pakcoin\",\"Creditbit \",\"OKCash\",\"Lisk\",\"HiCoin\",\"WhiteCoin\",\"FriendshipCoin\",\"JoinCoin\",\"Triangles Coin\",\"Vollar\",\"EOS\",\"Reality Clash\",\"Oxycoin\",\"TigerCash\",\"Waves\",\"Particl\",\"BitTorrent\",\"Nxt\",\"ZEPHYR\",\"Gapcoin\",\"Beldex\",\"Horizen\",\"BitcoinPlus\"],\"PC_1\":{\"__ndarray__\":\"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\",\"dtype\":\"float64\",\"order\":\"little\",\"shape\":[532]},\"PC_2\":{\"__ndarray__\":\"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\",\"dtype\":\"float64\",\"order\":\"little\",\"shape\":[532]},\"PC_3\":{\"__ndarray__\":\"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\",\"dtype\":\"float64\",\"order\":\"little\",\"shape\":[532]},\"ProofType\":[\"PoW/PoS\",\"PoW/PoS\",\"PoW/PoS\",\"PoW\",\"PoW\",\"PoW\",\"PoW/PoS\",\"PoW\",\"PoW\",\"PoW\",\"PoS\",\"PoW\",\"PoW/PoS\",\"PoS\",\"PoW\",\"PoW/PoS\",\"PoW\",\"PoW\",\"PoW/PoS\",\"PoW/PoS\",\"PoW\",\"PoW\",\"PoW\",\"PoW\",\"PoW\",\"PoW/PoS\",\"PoW\",\"PoW\",\"PoW\",\"PoW/PoS\",\"PoW\",\"PoW/PoS\",\"PoW\",\"PoW\",\"PoC\",\"PoW/PoS\",\"PoW\",\"PoW\",\"PoW\",\"PoW\",\"PoW\",\"PoW\",\"PoS\",\"PoS/PoW/PoT\",\"PoW\",\"PoW\",\"PoW\",\"PoW\",\"PoW\",\"PoW/PoS\",\"PoS\",\"PoW\",\"PoW/PoS\",\"PoW\",\"PoW\",\"PoW\",\"PoW\",\"PoW/PoS\",\"PoW\",\"PoW\",\"PoS\",\"PoW\",\"PoW/PoS\",\"PoS\",\"PoW/PoS\",\"PoW\",\"PoW\",\"PoW\",\"PoW/PoS\",\"PoW/PoS\",\"PoW/PoS\",\"PoW/PoS\",\"PoW/PoS\",\"PoW\",\"PoW\",\"PoW\",\"PoS\",\"PoW/PoS\",\"PoW\",\"PoS\",\"PoW\",\"PoS\",\"PoW/PoS\",\"PoW\",\"PoW\",\"PoW\",\"PoW\",\"PoW/PoS\",\"PoW/PoS\",\"PoW\",\"PoST\",\"PoW\",\"PoW\",\"PoW/PoS\",\"PoS\",\"PoW\",\"PoW/PoS\",\"PoW/PoS\",\"PoW\",\"PoW\",\"PoC\",\"PoS\",\"PoW\",\"PoW/PoS\",\"PoW/PoS\",\"PoW\",\"PoS\",\"PoW\",\"PoW/PoS\",\"PoW\",\"PoS\",\"PoW\",\"PoW/PoS\",\"PoW/PoS\",\"PoW\",\"PoW\",\"PoS\",\"PoW\",\"PoW\",\"PoW\",\"PoW/PoS\",\"PoW\",\"PoW\",\"PoW\",\"PoW\",\"PoW\",\"PoW/PoS\",\"PoW/nPoS\",\"PoW\",\"PoW\",\"PoW\",\"PoW/PoS\",\"PoW\",\"PoS/PoW\",\"PoW\",\"PoW\",\"PoS\",\"PoW\",\"PoW/PoS\",\"PoW\",\"PoW/PoS\",\"PoW/PoS\",\"PoW\",\"PoW\",\"PoW/PoS\",\"PoW\",\"PoW\",\"PoW/PoS\",\"PoW/PoS\",\"PoW\",\"PoW/PoS\",\"PoW\",\"PoW/PoS\",\"PoW/PoS\",\"PoS\",\"PoW\",\"PoW\",\"PoW\",\"PoW\",\"PoW/PoS\",\"PoS\",\"PoW/PoS\",\"PoC\",\"PoS\",\"PoW\",\"PoW\",\"PoW/PoS\",\"PoW/PoS\",\"PoW/PoS\",\"PoW/PoS\",\"PoW/PoS\",\"PoW\",\"PoS\",\"PoW/PoS\",\"PoW/PoS\",\"PoW/PoS\",\"PoS\",\"PoW\",\"PoS\",\"dPoW/PoW\",\"PoW/PoS\",\"PoW/PoS\",\"PoW\",\"PoW/PoS\",\"PoW\",\"PoW/PoS\",\"PoW/PoS\",\"PoW\",\"PoW/PoS\",\"PoW\",\"PoS\",\"PoW\",\"PoW/PoW\",\"PoW\",\"PoW/PoS\",\"PoS\",\"PoW/PoS\",\"PoW/PoS\",\"PoW\",\"PoS\",\"PoS\",\"PoW/PoS\",\"PoS\",\"PoW/PoS\",\"PoW\",\"PoW\",\"DPoS\",\"PoW/PoS\",\"PoW\",\"PoW\",\"PoW/PoS\",\"PoW/PoS\",\"PoS\",\"PoW/PoS\",\"PoW/PoS\",\"PoW\",\"PoS\",\"PoW/PoS\",\"PoW/PoS\",\"PoW/PoS\",\"TPoS\",\"PoW/PoS\",\"PoW/PoS\",\"PoW/PoS\",\"PoW\",\"PoW/PoS\",\"PoS\",\"PoW/PoS\",\"PoW/PoS\",\"PoS\",\"PoW/PoS\",\"PoW\",\"PoW\",\"PoW\",\"PoW/PoS\",\"PoW/PoS\",\"PoW/PoS\",\"PoW/PoS\",\"PoW\",\"PoW/PoS\",\"PoW\",\"PoS\",\"PoW/PoS \",\"PoW\",\"PoS\",\"PoW\",\"PoW\",\"PoW/PoS\",\"PoW\",\"PoW\",\"PoS\",\"PoW\",\"PoW/PoS\",\"PoW/PoS\",\"PoW/PoS\",\"PoW\",\"PoS\",\"PoW/PoS\",\"PoW\",\"PoS\",\"PoW/PoS\",\"PoW/PoS\",\"PoW/PoS\",\"PoW/PoS\",\"PoS\",\"PoW/PoS\",\"PoW\",\"PoS\",\"PoW\",\"PoS\",\"PoW/PoS\",\"PoW/PoS\",\"PoS\",\"PoW\",\"PoS\",\"PoW\",\"PoW/PoS\",\"PoW\",\"PoW\",\"PoW\",\"PoW\",\"PoW/PoS\",\"PoW\",\"PoW/PoS\",\"PoW/PoS\",\"PoW\",\"PoW/PoS\",\"PoW\",\"PoW\",\"PoW\",\"PoW/PoS\",\"PoW\",\"PoW/PoS\",\"PoW\",\"PoW\",\"PoW\",\"PoS\",\"PoW\",\"PoW/PoS\",\"PoW\",\"PoW/PoS\",\"PoS\",\"Proof of Authority\",\"PoW\",\"PoS\",\"PoW\",\"PoW\",\"PoW\",\"PoW\",\"PoW\",\"PoW/PoS\",\"PoW/PoS\",\"PoW\",\"PoS\",\"PoS\",\"PoW/PoS\",\"PoW\",\"PoW/PoS\",\"PoW\",\"PoW/PoS\",\"PoW\",\"PoS\",\"PoW\",\"PoW/PoS\",\"PoW/PoS\",\"PoW/PoS\",\"PoW/PoS\",\"PoW\",\"PoW/PoS\",\"PoW/PoS\",\"PoW\",\"PoS\",\"PoW/PoS\",\"PoS\",\"PoW\",\"PoW\",\"PoW\",\"PoW\",\"PoW/PoS\",\"DPoS\",\"PoW/PoS\",\"PoW/PoS\",\"PoW\",\"PoW/PoS\",\"PoW\",\"PoW\",\"PoW\",\"PoS\",\"PoS\",\"PoW\",\"PoW\",\"PoW/PoS\",\"PoW/PoS\",\"PoW\",\"PoW/PoS\",\"PoW\",\"PoW\",\"PoW\",\"PoS\",\"PoW\",\"PoW\",\"PoW/PoS\",\"PoW/PoS\",\"PoS\",\"PoW\",\"PoW\",\"PoW\",\"PoS\",\"PoS\",\"PoW and PoS\",\"PoW\",\"PoW\",\"PoW/PoS\",\"PoW\",\"PoW\",\"PoW\",\"PoW\",\"PoS\",\"POBh\",\"PoW + Hive\",\"PoW\",\"PoW\",\"PoW\",\"PoW/PoS\",\"PoA\",\"PoW/PoS\",\"PoW/PoS\",\"PoS\",\"PoS\",\"PoW\",\"PoW\",\"PoW\",\"PoW\",\"PoW/PoS\",\"PoW/PoS\",\"PoW/PoS\",\"PoW\",\"PoS\",\"PoW\",\"PoS\",\"PoS\",\"PoW/PoS\",\"DPoS\",\"PoW\",\"PoW/PoS\",\"PoS\",\"PoW\",\"PoS\",\"PoW/PoS\",\"PoW\",\"PoW\",\"PoS/PoW\",\"PoW\",\"PoS\",\"PoW\",\"PoW\",\"PoW\",\"PoW\",\"PoW/PoS\",\"PoS\",\"PoW\",\"PoW/PoS\",\"PoW\",\"PoW/PoS\",\"PoS\",\"HPoW\",\"PoS\",\"PoS\",\"PoS\",\"PoW\",\"PoW\",\"PoW\",\"PoW/PoS\",\"PoS\",\"PoW/PoS\",\"PoS\",\"PoW/PoS\",\"PoS\",\"PoW\",\"PoW/PoS\",\"PoW\",\"PoW\",\"PoW\",\"PoW\",\"PoS\",\"PoW/PoS\",\"PoS\",\"PoS\",\"PoW\",\"PoW/PoS\",\"PoS\",\"PoW\",\"PoW/PoS\",\"Zero-Knowledge Proof\",\"PoW\",\"DPOS\",\"PoW\",\"PoS\",\"PoW\",\"PoW\",\"Pos\",\"PoS\",\"PoW\",\"PoW/PoS\",\"PoW\",\"PoW\",\"PoS\",\"PoW\",\"PoW\",\"PoW/PoS\",\"PoW\",\"PoW/PoS\",\"PoW\",\"PoS\",\"PoW/PoS\",\"PoW\",\"PoS\",\"PoW/PoS\",\"PoW/PoS\",\"PoW/PoS\",\"PoW/PoS\",\"PoW\",\"PoW\",\"PoW\",\"PoW/PoS\",\"DPoS\",\"PoW/PoS\",\"PoW\",\"PoW/PoS\",\"PoW\",\"PoW/PoS\",\"PoW\",\"PoW/PoS\",\"PoS\",\"PoW/PoS\",\"PoW/PoS\",\"PoW\",\"PoW/PoS\",\"PoW/PoS\",\"PoW/PoS\",\"PoW\",\"PoW/PoS\",\"PoW\",\"PoW/PoS\",\"PoW\",\"PoW/PoS\",\"PoW/PoS\",\"PoS\",\"PoW\",\"PoW\",\"Proof of Trust\",\"PoW/PoS\",\"DPoS\",\"PoS\",\"PoW/PoS\",\"PoW/PoS\",\"PoW\",\"PoW/PoS\",\"PoW\",\"DPoS\",\"PoW\",\"DPoS\",\"PoS\",\"LPoS\",\"PoS\",\"DPoS\",\"PoS/LPoS\",\"DPoS\",\"PoW/PoS\",\"PoW\",\"PoW\",\"PoS\"],\"TotalCoinSupply\":[\"42\",\"532000000\",\"314159265359\",\"21000000\",\"0\",\"84000000\",\"22000000\",\"0\",\"210000000\",\"21000000\",\"3600570502\",\"21000000000\",\"22000000\",\"12500000\",\"21000000\",\"350000000\",\"20000000\",\"64000000\",\"16768584\",\"0\",\"2000000000\",\"384000000000\",\"169795588\",\"250000000\",\"100000000\",\"0\",\"247000000\",\"84000000\",\"48166000\",\"500000\",\"21000000 \",\"1000000\",\"13140000\",\"18000000\",\"40000000000\",\"4380000\",\"16555000000\",\"21000000000\",\"13500000000\",\"21000000 \",\"299792458\",\"32000000\",\"0\",\"0\",\"11235813\",\"336000000\",\"1420609614\",\"70000000\",\"72245700\",\"120000000\",\"0\",\"90600000000\",\"22000000\",\"21000000\",\"265420800\",\"20000000\",\"1350000\",\"100000000\",\"42000000\",\"200000000\",\"0\",\"10000000\",\"2419200000\",\"16180000\",\"0\",\"15000000000\",\"21000000\",\"337000000\",\"0\",\"3770000\",\"420000000\",\"98000000\",\"0\",\"21000000\",\"250000000\",\"51200000\",\"0\",\"1000\",\"888000000\",\"100000000\",\"47011968\",\"2300000000\",\"10000000\",\"42000000\",\"80000000\",\"250000\",\"0\",\"1600000000\",\"100000000\",\"23000000\",\"0\",\"84000000\",\"265420800\",\"5500000\",\"0\",\"45000000\",\"0\",\"1000000000\",\"184467440735\",\"10000000000\",\"2158812800\",\"500000000\",\"105120000\",\"68000000\",\"0\",\"1680000000\",\"0\",\"166386000\",\"12000000\",\"2628000\",\"500000000\",\"160000000\",\"0\",\"10000000\",\"1000000000\",\"1000000000\",\"20000000\",\"0\",\"0\",\"3371337\",\"20000000\",\"10000000000\",\"1840000000\",\"619478\",\"21000000\",\"92000000000\",\"0\",\"78000000\",\"33000000\",\"65789100\",\"53760000\",\"5060000\",\"21000000\",\"0\",\"210240000\",\"250000000\",\"100000000\",\"16906397\",\"50000000\",\"0\",\"1000000000\",\"26298000\",\"16000000\",\"21000000\",\"21000000\",\"210000000\",\"81962100\",\"22000000\",\"26550000000\",\"84000000\",\"10500000\",\"21626280000 \",\"0\",\"42000000\",\"221052632\",\"84000000\",\"30000000\",\"168351300\",\"24000000\",\"384000000\",\" 99000000000\",\"40000000\",\"2147483647\",\"20000000\",\"20000000\",\"25000000\",\"75000000\",\"222725000\",\"525000000\",\"90000000\",\"139000000\",\"616448\",\"33500000\",\"2000000000\",\"44333333\",\"100000000\",\"200000000\",\"25000000\",\"657000000\",\"200000000\",\"50000000\",\"90000000\",\"10000000\",\"21000000\",\"9736000\",\"3000000\",\"21000000\",\"1200000000\",\"0\",\"200000000\",\"0\",\"10638298\",\"3100000000\",\"30000000\",\"20000000000\",\"74000000\",\"0\",\"1500000000\",\"21400000\",\"39999898\",\"2500124\",\"100000000\",\"301000000\",\"7506000000\",\"26205539\",\"21000000\",\"125000000\",\"30000000\",\"10000000000\",\"500000000\",\"850000000\",\"3853326.77707314\",\"50000000\",\"38540000 \",\"42000000\",\"228000000\",\"20000000\",\"60000000\",\"20000000\",\"33000000\",\"76500000\",\"28000000\",\"650659833\",\"5000000\",\"21000000\",\"144000000\",\"32514916898\",\"13000000\",\"3315789\",\"15000000\",\"78835200\",\"2714286\",\"25000000\",\"9999999\",\"500000000\",\"21000000\",\"9354000\",\"20000000\",\"100000000000\",\"21933333\",\"185000000\",\"55000000\",\"110000000\",\"3360000\",\"14524851.4827\",\"1000000000\",\"17000000\",\"1000000000\",\"100000000 \",\"21000000\",\"34426423\",\"2232901\",\"100000000\",\"36900000\",\"110000000\",\"4000000000\",\"110290030\",\"100000000\",\"48252000\",\"400000000\",\"500000000\",\"21212121\",\"28600000\",\"1000000000\",\"75000000000\",\"40000000\",\"35520400\",\"2000000000\",\"2500000000\",\"30000000\",\"105000000\",\"90000000000\",\"200084200\",\"72000000\",\"100000000\",\"105000000\",\"50000000000\",\"0\",\"340282367\",\"30000000\",\"2000000000\",\"10000000\",\"100000000\",\"120000000\",\"100000000\",\"19276800\",\"30000000\",\" 75000000\",\"60000000\",\"18900000\",\"50000000000\",\"54000000\",\"18898187.6216583\",\"21000000\",\"200000000000\",\"5000000000\",\"137500000\",\"1100000000\",\"100000000\",\"21000000\",\"9507271\",\"17405891.19707116\",\"86712634466\",\"10500000000\",\"61599965\",\"0\",\"20000000\",\"84000000\",\"100000000\",\"100000000\",\"48252000\",\"4200000\",\"88888888\",\"91388946\",\"45000000000\",\"27000000\",\"21000000000\",\"400000000\",\"1800000000\",\"15733333\",\"27000000\",\"24000000\",\"21000000\",\"25000000000\",\"100000000\",\"1200000000\",\"60000000\",\"156306732.71\",\"21000000\",\"200000000\",\"100000000\",\"21000000\",\"14788275.991\",\"9000000000\",\"350000000\",\"45000000\",\"280000000\",\"31800000\",\"144000000\",\"500000000\",\"30000000000\",\"210000000\",\"660000000\",\"210000000\",\"85000000000\",\"12500000\",\"10000000000\",\"27716121\",\"20000000\",\"550000000\",\"999481516\",\"50000000000\",\"150000000\",\"4999999999\",\"50000000\",\" 90000000000\",\"19800000\",\"21000000\",\"120000000\",\"500000000\",\"64000000\",\"900000000\",\"4000000\",\"21000000\",\"23000000\",\"20166000\",\"23000000\",\"25000000\",\"1618033\",\"30000000\",\"1000000000000\",\"16600000\",\"232000000\",\"336000000\",\"10000000000\",\"100000000\",\"1100000000\",\"800000000\",\"5200000000\",\"840000000\",\"40000000\",\"18406979840\",\"500000000\",\"19340594\",\"252460800\",\"25000000\",\"60000000\",\"124000000\",\"1000000000\",\"6500000000\",\"1000000000\",\"21000000\",\"25000000\",\"50000000\",\"3000000\",\"5000000\",\"70000000\",\"500000000\",\"300000000\",\"21000000\",\"88000000\",\"30000000\",\"100000000\",\"100000000\",\"200000000\",\"80000000\",\"18400000\",\"45000000\",\"5121951220\",\"21000000\",\"26280000\",\"21000000\",\"18000000\",\"26000000\",\"10500000\",\"600000518\",\"150000000\",\"184000000000\",\"10200000000\",\"44000000\",\"168000000\",\"100000000\",\"1000000000\",\"84000000\",\"90000000\",\"92000000000\",\"650000000 \",\"100262205\",\"18081806 \",\"22075700\",\"21000000\",\"21000000\",\"82546564\",\"21000000\",\"5151000\",\"16880000000\",\"52500000\",\"100000000\",\"22105263\",\"1000000000\",\"1750000000\",\"88188888\",\"210000000\",\"184470000000\",\"55000000\",\"50000000\",\"260000000\",\"210000000\",\"2100000000\",\"366000000\",\"100000000\",\"25000000\",\"18000000000\",\"1000000000\",\"100000000\",\"1000000000\",\"7600000000\",\"50000000\",\"84000000\",\"21000000\",\"70000000000\",\"0\",\"8080000000\",\"54000000\",\"105120001.44\",\"25228800\",\"105000000\",\"21000000\",\"120000000\",\"21000000\",\"262800000\",\"19035999\",\"30886000\",\"13370000\",\"74800000000\",\"100000000\",\"19700000\",\"84000000\",\"500000000\",\"5000000000\",\"420000000\",\"64000000\",\"2100000\",\"168000000\",\"30000000\",\"1000000000\",\"35000000000\",\"98100000000\",\"0\",\"4000000000\",\"200000000\",\"7000000000\",\"54256119\",\"21000000\",\"0\",\"500000000\",\"1000000000\",\"10500000000\",\"190000000\",\"1000000000\",\"42000000\",\"15000000\",\"50000000000\",\"400000000\",\"105000000\",\"208000000\",\"160000000\",\"9000000\",\"5000000\",\"182000000\",\"16504333\",\"105000000\",\"159918400\",\"10008835635\",\"300000000\",\"60168145\",\"2800000\",\"120000\",\"2100000000\",\"0\",\"24487944\",\"0\",\"1000000000\",\"100000000\",\"8634140\",\"990000000000\",\"1000000000\",\"2000000000\",\"250000000\",\"1400222610\",\"21000000\",\"1000000\"],\"TotalCoinsMined\":{\"__ndarray__\":\"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\",\"dtype\":\"float64\",\"order\":\"little\",\"shape\":[532]}},\"selected\":{\"id\":\"2153\"},\"selection_policy\":{\"id\":\"2202\"}},\"id\":\"2152\",\"type\":\"ColumnDataSource\"},{\"attributes\":{},\"id\":\"2154\",\"type\":\"StringFormatter\"},{\"attributes\":{\"format\":\"0,0.0[00000]\"},\"id\":\"2179\",\"type\":\"NumberFormatter\"},{\"attributes\":{\"format\":\"0,0.0[00000]\"},\"id\":\"2184\",\"type\":\"NumberFormatter\"},{\"attributes\":{\"editor\":{\"id\":\"2175\"},\"field\":\"PC_1\",\"formatter\":{\"id\":\"2174\"},\"title\":\"PC 1\"},\"id\":\"2176\",\"type\":\"TableColumn\"},{\"attributes\":{},\"id\":\"2153\",\"type\":\"Selection\"},{\"attributes\":{\"editor\":{\"id\":\"2180\"},\"field\":\"PC_2\",\"formatter\":{\"id\":\"2179\"},\"title\":\"PC 2\"},\"id\":\"2181\",\"type\":\"TableColumn\"},{\"attributes\":{\"format\":\"0,0.0[00000]\"},\"id\":\"2174\",\"type\":\"NumberFormatter\"},{\"attributes\":{},\"id\":\"2185\",\"type\":\"NumberEditor\"},{\"attributes\":{},\"id\":\"2202\",\"type\":\"UnionRenderers\"},{\"attributes\":{\"editor\":{\"id\":\"2155\"},\"field\":\"Algorithm\",\"formatter\":{\"id\":\"2154\"},\"title\":\"Algorithm\"},\"id\":\"2156\",\"type\":\"TableColumn\"},{\"attributes\":{},\"id\":\"2159\",\"type\":\"StringFormatter\"},{\"attributes\":{},\"id\":\"2189\",\"type\":\"StringFormatter\"},{\"attributes\":{\"editor\":{\"id\":\"2185\"},\"field\":\"PC_3\",\"formatter\":{\"id\":\"2184\"},\"title\":\"PC 3\"},\"id\":\"2186\",\"type\":\"TableColumn\"},{\"attributes\":{},\"id\":\"2160\",\"type\":\"StringEditor\"},{\"attributes\":{\"editor\":{\"id\":\"2160\"},\"field\":\"ProofType\",\"formatter\":{\"id\":\"2159\"},\"title\":\"ProofType\"},\"id\":\"2161\",\"type\":\"TableColumn\"},{\"attributes\":{},\"id\":\"2190\",\"type\":\"StringEditor\"},{\"attributes\":{\"margin\":[5,5,5,5],\"name\":\"HSpacer03854\",\"sizing_mode\":\"stretch_width\"},\"id\":\"2151\",\"type\":\"Spacer\"},{\"attributes\":{\"editor\":{\"id\":\"2190\"},\"field\":\"CoinName\",\"formatter\":{\"id\":\"2189\"},\"title\":\"CoinName\"},\"id\":\"2191\",\"type\":\"TableColumn\"},{\"attributes\":{\"format\":\"0,0.0[00000]\"},\"id\":\"2164\",\"type\":\"NumberFormatter\"},{\"attributes\":{},\"id\":\"2194\",\"type\":\"NumberFormatter\"},{\"attributes\":{},\"id\":\"2165\",\"type\":\"NumberEditor\"}],\"root_ids\":[\"2150\"]},\"title\":\"Bokeh Application\",\"version\":\"2.4.2\"}};\n",
       "    var render_items = [{\"docid\":\"5a5bb25b-d877-44b6-90ec-88c3d79e5fdc\",\"root_ids\":[\"2150\"],\"roots\":{\"2150\":\"8cb5fc1a-bbcb-41c9-b840-ab691c0d2772\"}}];\n",
       "    root.Bokeh.embed.embed_items_notebook(docs_json, render_items);\n",
       "  }\n",
       "  if (root.Bokeh !== undefined && root.Bokeh.Panel !== undefined) {\n",
       "    embed_document(root);\n",
       "  } else {\n",
       "    var attempts = 0;\n",
       "    var timer = setInterval(function(root) {\n",
       "      if (root.Bokeh !== undefined && root.Bokeh.Panel !== undefined) {\n",
       "        clearInterval(timer);\n",
       "        embed_document(root);\n",
       "      } else if (document.readyState == \"complete\") {\n",
       "        attempts++;\n",
       "        if (attempts > 200) {\n",
       "          clearInterval(timer);\n",
       "          console.log(\"Bokeh: ERROR: Unable to run BokehJS code because BokehJS library is missing\");\n",
       "        }\n",
       "      }\n",
       "    }, 25, root)\n",
       "  }\n",
       "})(window);</script>"
      ],
      "text/plain": [
       ":Table   [Algorithm,ProofType,TotalCoinsMined,TotalCoinSupply,PC 1,PC 2,PC 3,CoinName,Class]"
      ]
     },
     "execution_count": 110,
     "metadata": {
      "application/vnd.holoviews_exec.v0+json": {
       "id": "2150"
      }
     },
     "output_type": "execute_result"
    }
   ],
   "source": [
    "# Create a table with tradable cryptocurrencies.\n",
    "clustered_df.hvplot.table(sortable=True, selectable=True)"
   ]
  },
  {
   "cell_type": "code",
   "execution_count": 111,
   "metadata": {},
   "outputs": [
    {
     "name": "stdout",
     "output_type": "stream",
     "text": [
      "532\n"
     ]
    }
   ],
   "source": [
    "# Print the total number of tradable cryptocurrencies.\n",
    "print(len(clustered_df.index))"
   ]
  },
  {
   "cell_type": "code",
   "execution_count": 112,
   "metadata": {},
   "outputs": [
    {
     "data": {
      "text/plain": [
       "array([[4.20000000e-11, 0.00000000e+00],\n",
       "       [5.32000000e-04, 1.06585544e-03],\n",
       "       [3.14159265e-01, 2.95755135e-02],\n",
       "       ...,\n",
       "       [1.40022261e-03, 9.90135079e-04],\n",
       "       [2.10000000e-05, 7.37028150e-06],\n",
       "       [1.00000000e-06, 1.29582282e-07]])"
      ]
     },
     "execution_count": 112,
     "metadata": {},
     "output_type": "execute_result"
    }
   ],
   "source": [
    "# Scaling data to create the scatter plot with tradable cryptocurrencies.\n",
    "scaled_clusters =MinMaxScaler().fit_transform(clustered_df[[\"TotalCoinSupply\",\"TotalCoinsMined\"]])\n",
    "scaled_clusters"
   ]
  },
  {
   "cell_type": "code",
   "execution_count": 113,
   "metadata": {},
   "outputs": [
    {
     "data": {
      "text/html": [
       "<div>\n",
       "<style scoped>\n",
       "    .dataframe tbody tr th:only-of-type {\n",
       "        vertical-align: middle;\n",
       "    }\n",
       "\n",
       "    .dataframe tbody tr th {\n",
       "        vertical-align: top;\n",
       "    }\n",
       "\n",
       "    .dataframe thead th {\n",
       "        text-align: right;\n",
       "    }\n",
       "</style>\n",
       "<table border=\"1\" class=\"dataframe\">\n",
       "  <thead>\n",
       "    <tr style=\"text-align: right;\">\n",
       "      <th></th>\n",
       "      <th>TotalCoinSupply</th>\n",
       "      <th>TotalCoinsMined</th>\n",
       "      <th>CoinName</th>\n",
       "      <th>Class</th>\n",
       "    </tr>\n",
       "  </thead>\n",
       "  <tbody>\n",
       "    <tr>\n",
       "      <th>42</th>\n",
       "      <td>4.200000e-11</td>\n",
       "      <td>0.000000</td>\n",
       "      <td>42 Coin</td>\n",
       "      <td>0</td>\n",
       "    </tr>\n",
       "    <tr>\n",
       "      <th>404</th>\n",
       "      <td>5.320000e-04</td>\n",
       "      <td>0.001066</td>\n",
       "      <td>404Coin</td>\n",
       "      <td>0</td>\n",
       "    </tr>\n",
       "    <tr>\n",
       "      <th>1337</th>\n",
       "      <td>3.141593e-01</td>\n",
       "      <td>0.029576</td>\n",
       "      <td>EliteCoin</td>\n",
       "      <td>0</td>\n",
       "    </tr>\n",
       "    <tr>\n",
       "      <th>BTC</th>\n",
       "      <td>2.100000e-05</td>\n",
       "      <td>0.000018</td>\n",
       "      <td>Bitcoin</td>\n",
       "      <td>1</td>\n",
       "    </tr>\n",
       "    <tr>\n",
       "      <th>ETH</th>\n",
       "      <td>0.000000e+00</td>\n",
       "      <td>0.000109</td>\n",
       "      <td>Ethereum</td>\n",
       "      <td>1</td>\n",
       "    </tr>\n",
       "    <tr>\n",
       "      <th>LTC</th>\n",
       "      <td>8.400000e-05</td>\n",
       "      <td>0.000064</td>\n",
       "      <td>Litecoin</td>\n",
       "      <td>1</td>\n",
       "    </tr>\n",
       "    <tr>\n",
       "      <th>DASH</th>\n",
       "      <td>2.200000e-05</td>\n",
       "      <td>0.000009</td>\n",
       "      <td>Dash</td>\n",
       "      <td>0</td>\n",
       "    </tr>\n",
       "    <tr>\n",
       "      <th>XMR</th>\n",
       "      <td>0.000000e+00</td>\n",
       "      <td>0.000017</td>\n",
       "      <td>Monero</td>\n",
       "      <td>1</td>\n",
       "    </tr>\n",
       "    <tr>\n",
       "      <th>ETC</th>\n",
       "      <td>2.100000e-04</td>\n",
       "      <td>0.000115</td>\n",
       "      <td>Ethereum Classic</td>\n",
       "      <td>1</td>\n",
       "    </tr>\n",
       "    <tr>\n",
       "      <th>ZEC</th>\n",
       "      <td>2.100000e-05</td>\n",
       "      <td>0.000007</td>\n",
       "      <td>ZCash</td>\n",
       "      <td>1</td>\n",
       "    </tr>\n",
       "  </tbody>\n",
       "</table>\n",
       "</div>"
      ],
      "text/plain": [
       "      TotalCoinSupply  TotalCoinsMined          CoinName  Class\n",
       "42       4.200000e-11         0.000000           42 Coin      0\n",
       "404      5.320000e-04         0.001066           404Coin      0\n",
       "1337     3.141593e-01         0.029576         EliteCoin      0\n",
       "BTC      2.100000e-05         0.000018           Bitcoin      1\n",
       "ETH      0.000000e+00         0.000109          Ethereum      1\n",
       "LTC      8.400000e-05         0.000064          Litecoin      1\n",
       "DASH     2.200000e-05         0.000009              Dash      0\n",
       "XMR      0.000000e+00         0.000017            Monero      1\n",
       "ETC      2.100000e-04         0.000115  Ethereum Classic      1\n",
       "ZEC      2.100000e-05         0.000007             ZCash      1"
      ]
     },
     "execution_count": 113,
     "metadata": {},
     "output_type": "execute_result"
    }
   ],
   "source": [
    "# Create a new DataFrame that has the scaled data with the clustered_df DataFrame index.\n",
    "new_df = pd.DataFrame(\n",
    "    data = scaled_clusters,columns = [\"TotalCoinSupply\",\"TotalCoinsMined\"], index = clustered_df.index\n",
    ")\n",
    "\n",
    "# Add the \"CoinName\" column from the clustered_df DataFrame to the new DataFrame.\n",
    "new_df = pd.concat([new_df,clustered_df['CoinName']],axis =1)\n",
    "\n",
    "# Add the \"Class\" column from the clustered_df DataFrame to the new DataFrame. \n",
    "plot_df = pd.concat([new_df,clustered_df[\"Class\"]],axis =1)\n",
    "\n",
    "plot_df.head(10)"
   ]
  },
  {
   "cell_type": "code",
   "execution_count": 115,
   "metadata": {},
   "outputs": [
    {
     "data": {},
     "metadata": {},
     "output_type": "display_data"
    },
    {
     "data": {
      "application/vnd.holoviews_exec.v0+json": "",
      "text/html": [
       "<div id='2581'>\n",
       "\n",
       "\n",
       "\n",
       "\n",
       "\n",
       "  <div class=\"bk-root\" id=\"a6b38581-25e8-4a0f-bbf0-f38470b2a12a\" data-root-id=\"2581\"></div>\n",
       "</div>\n",
       "<script type=\"application/javascript\">(function(root) {\n",
       "  function embed_document(root) {\n",
       "    var docs_json = {\"5a51076f-8548-4a0c-ac21-657b762ecc6d\":{\"defs\":[{\"extends\":null,\"module\":null,\"name\":\"ReactiveHTML1\",\"overrides\":[],\"properties\":[]},{\"extends\":null,\"module\":null,\"name\":\"FlexBox1\",\"overrides\":[],\"properties\":[{\"default\":\"flex-start\",\"kind\":null,\"name\":\"align_content\"},{\"default\":\"flex-start\",\"kind\":null,\"name\":\"align_items\"},{\"default\":\"row\",\"kind\":null,\"name\":\"flex_direction\"},{\"default\":\"wrap\",\"kind\":null,\"name\":\"flex_wrap\"},{\"default\":\"flex-start\",\"kind\":null,\"name\":\"justify_content\"}]},{\"extends\":null,\"module\":null,\"name\":\"GridStack1\",\"overrides\":[],\"properties\":[{\"default\":\"warn\",\"kind\":null,\"name\":\"mode\"},{\"default\":null,\"kind\":null,\"name\":\"ncols\"},{\"default\":null,\"kind\":null,\"name\":\"nrows\"},{\"default\":true,\"kind\":null,\"name\":\"allow_resize\"},{\"default\":true,\"kind\":null,\"name\":\"allow_drag\"},{\"default\":[],\"kind\":null,\"name\":\"state\"}]},{\"extends\":null,\"module\":null,\"name\":\"click1\",\"overrides\":[],\"properties\":[{\"default\":\"\",\"kind\":null,\"name\":\"terminal_output\"},{\"default\":\"\",\"kind\":null,\"name\":\"debug_name\"},{\"default\":0,\"kind\":null,\"name\":\"clears\"}]},{\"extends\":null,\"module\":null,\"name\":\"TemplateActions1\",\"overrides\":[],\"properties\":[{\"default\":0,\"kind\":null,\"name\":\"open_modal\"},{\"default\":0,\"kind\":null,\"name\":\"close_modal\"}]},{\"extends\":null,\"module\":null,\"name\":\"MaterialTemplateActions1\",\"overrides\":[],\"properties\":[{\"default\":0,\"kind\":null,\"name\":\"open_modal\"},{\"default\":0,\"kind\":null,\"name\":\"close_modal\"}]}],\"roots\":{\"references\":[{\"attributes\":{\"fill_alpha\":{\"value\":0.2},\"fill_color\":{\"value\":\"#fc4f30\"},\"hatch_alpha\":{\"value\":0.2},\"hatch_color\":{\"value\":\"#fc4f30\"},\"line_alpha\":{\"value\":0.2},\"line_color\":{\"value\":\"#fc4f30\"},\"size\":{\"value\":5.477225575051661},\"x\":{\"field\":\"TotalCoinsMined\"},\"y\":{\"field\":\"TotalCoinSupply\"}},\"id\":\"2651\",\"type\":\"Scatter\"},{\"attributes\":{},\"id\":\"2640\",\"type\":\"UnionRenderers\"},{\"attributes\":{},\"id\":\"2713\",\"type\":\"UnionRenderers\"},{\"attributes\":{},\"id\":\"2594\",\"type\":\"LinearScale\"},{\"attributes\":{\"angle\":{\"value\":0.0},\"fill_alpha\":{\"value\":1.0},\"fill_color\":{\"value\":\"#6d904f\"},\"hatch_alpha\":{\"value\":1.0},\"hatch_color\":{\"value\":\"#6d904f\"},\"hatch_scale\":{\"value\":12.0},\"hatch_weight\":{\"value\":1.0},\"line_alpha\":{\"value\":1.0},\"line_cap\":{\"value\":\"butt\"},\"line_color\":{\"value\":\"#6d904f\"},\"line_dash\":{\"value\":[]},\"line_dash_offset\":{\"value\":0},\"line_join\":{\"value\":\"bevel\"},\"line_width\":{\"value\":1},\"marker\":{\"value\":\"circle\"},\"size\":{\"value\":5.477225575051661},\"x\":{\"field\":\"TotalCoinsMined\"},\"y\":{\"field\":\"TotalCoinSupply\"}},\"id\":\"2717\",\"type\":\"Scatter\"},{\"attributes\":{},\"id\":\"2663\",\"type\":\"UnionRenderers\"},{\"attributes\":{\"below\":[{\"id\":\"2598\"}],\"center\":[{\"id\":\"2601\"},{\"id\":\"2605\"}],\"height\":300,\"left\":[{\"id\":\"2602\"}],\"margin\":[5,5,5,5],\"min_border_bottom\":10,\"min_border_left\":10,\"min_border_right\":10,\"min_border_top\":10,\"renderers\":[{\"id\":\"2631\"},{\"id\":\"2652\"},{\"id\":\"2674\"},{\"id\":\"2698\"}],\"right\":[{\"id\":\"2643\"}],\"sizing_mode\":\"fixed\",\"title\":{\"id\":\"2590\"},\"toolbar\":{\"id\":\"2612\"},\"width\":700,\"x_range\":{\"id\":\"2583\"},\"x_scale\":{\"id\":\"2594\"},\"y_range\":{\"id\":\"2584\"},\"y_scale\":{\"id\":\"2596\"}},\"id\":\"2589\",\"subtype\":\"Figure\",\"type\":\"Plot\"},{\"attributes\":{\"margin\":[5,5,5,5],\"name\":\"HSpacer04838\",\"sizing_mode\":\"stretch_width\"},\"id\":\"2582\",\"type\":\"Spacer\"},{\"attributes\":{\"source\":{\"id\":\"2646\"}},\"id\":\"2653\",\"type\":\"CDSView\"},{\"attributes\":{\"coordinates\":null,\"group\":null,\"text_color\":\"black\",\"text_font_size\":\"12pt\"},\"id\":\"2590\",\"type\":\"Title\"},{\"attributes\":{\"label\":{\"value\":\"1\"},\"renderers\":[{\"id\":\"2652\"}]},\"id\":\"2666\",\"type\":\"LegendItem\"},{\"attributes\":{\"coordinates\":null,\"data_source\":{\"id\":\"2646\"},\"glyph\":{\"id\":\"2649\"},\"group\":null,\"hover_glyph\":null,\"muted_glyph\":{\"id\":\"2651\"},\"nonselection_glyph\":{\"id\":\"2650\"},\"selection_glyph\":{\"id\":\"2667\"},\"view\":{\"id\":\"2653\"}},\"id\":\"2652\",\"type\":\"GlyphRenderer\"},{\"attributes\":{\"axis\":{\"id\":\"2602\"},\"coordinates\":null,\"dimension\":1,\"grid_line_color\":null,\"group\":null,\"ticker\":null},\"id\":\"2605\",\"type\":\"Grid\"},{\"attributes\":{},\"id\":\"2620\",\"type\":\"BasicTickFormatter\"},{\"attributes\":{\"axis\":{\"id\":\"2598\"},\"coordinates\":null,\"grid_line_color\":null,\"group\":null,\"ticker\":null},\"id\":\"2601\",\"type\":\"Grid\"},{\"attributes\":{\"data\":{\"Class\":[3,3,3,3,3],\"CoinName\":[\"BiblePay\",\"LitecoinCash\",\"Poa Network\",\"Acute Angle Cloud\",\"Waves\"],\"TotalCoinSupply\":{\"__ndarray__\":\"lPYGX5hMdT+8eapDboZLP4RaKOGWizA//Knx0k1iUD8sQxzr4jYaPw==\",\"dtype\":\"float64\",\"order\":\"little\",\"shape\":[5]},\"TotalCoinsMined\":{\"__ndarray__\":\"j1gNkdpTXT+QpMXySiFFP5wZJXiPEis/ekNDBbiMUD/7RX5gv3oaPw==\",\"dtype\":\"float64\",\"order\":\"little\",\"shape\":[5]}},\"selected\":{\"id\":\"2693\"},\"selection_policy\":{\"id\":\"2713\"}},\"id\":\"2692\",\"type\":\"ColumnDataSource\"},{\"attributes\":{},\"id\":\"2599\",\"type\":\"BasicTicker\"},{\"attributes\":{\"fill_alpha\":{\"value\":0.1},\"fill_color\":{\"value\":\"#fc4f30\"},\"hatch_alpha\":{\"value\":0.1},\"hatch_color\":{\"value\":\"#fc4f30\"},\"line_alpha\":{\"value\":0.1},\"line_color\":{\"value\":\"#fc4f30\"},\"size\":{\"value\":5.477225575051661},\"x\":{\"field\":\"TotalCoinsMined\"},\"y\":{\"field\":\"TotalCoinSupply\"}},\"id\":\"2650\",\"type\":\"Scatter\"},{\"attributes\":{},\"id\":\"2596\",\"type\":\"LinearScale\"},{\"attributes\":{\"axis_label\":\"TotalCoinsMined\",\"coordinates\":null,\"formatter\":{\"id\":\"2620\"},\"group\":null,\"major_label_policy\":{\"id\":\"2621\"},\"ticker\":{\"id\":\"2599\"}},\"id\":\"2598\",\"type\":\"LinearAxis\"},{\"attributes\":{\"data\":{\"Class\":[1,1,1,1,1,1,1,1,1,1,1,1,1,1,1,1,1,1,1,1,1,1,1,1,1,1,1,1,1,1,1,1,1,1,1,1,1,1,1,1,1,1,1,1,1,1,1,1,1,1,1,1,1,1,1,1,1,1,1,1,1,1,1,1,1,1,1,1,1,1,1,1,1,1,1,1,1,1,1,1,1,1,1,1,1,1,1,1,1,1,1,1,1,1,1,1,1,1,1,1,1,1,1,1,1,1,1,1,1,1,1,1,1,1,1,1,1,1,1,1,1,1,1,1,1,1,1,1,1,1,1,1,1,1,1,1,1,1,1,1,1,1,1,1,1,1,1,1,1,1,1,1,1,1,1,1,1,1,1,1,1,1,1,1,1,1,1,1,1,1,1,1,1,1,1,1,1,1,1,1,1,1,1,1,1,1,1,1,1,1,1,1,1,1,1,1,1,1,1,1,1,1,1,1,1,1,1,1,1,1,1,1,1,1,1,1,1,1,1,1,1,1,1,1,1,1,1,1,1,1,1,1,1,1,1,1,1,1],\"CoinName\":[\"Bitcoin\",\"Ethereum\",\"Litecoin\",\"Monero\",\"Ethereum Classic\",\"ZCash\",\"DigiByte\",\"ProsperCoin\",\"Spreadcoin\",\"Argentum\",\"MyriadCoin\",\"MoonCoin\",\"ZetaCoin\",\"SexCoin\",\"Quatloo\",\"QuarkCoin\",\"Riecoin\",\"Digitalcoin \",\"Catcoin\",\"CannaCoin\",\"CryptCoin\",\"Verge\",\"DevCoin\",\"EarthCoin\",\"E-Gulden\",\"Einsteinium\",\"Emerald\",\"Franko\",\"FeatherCoin\",\"GrandCoin\",\"GlobalCoin\",\"GoldCoin\",\"Infinite Coin\",\"IXcoin\",\"KrugerCoin\",\"LuckyCoin\",\"Litebar \",\"MegaCoin\",\"MediterraneanCoin\",\"MinCoin\",\"NobleCoin\",\"Namecoin\",\"NyanCoin\",\"RonPaulCoin\",\"StableCoin\",\"SmartCoin\",\"SysCoin\",\"TigerCoin\",\"TerraCoin\",\"UnbreakableCoin\",\"Unobtanium\",\"UroCoin\",\"ViaCoin\",\"Vertcoin\",\"WorldCoin\",\"JouleCoin\",\"ByteCoin\",\"DigitalNote \",\"MonaCoin\",\"Gulden\",\"PesetaCoin\",\"Wild Beast Coin\",\"Flo\",\"ArtByte\",\"Folding Coin\",\"Unitus\",\"CypherPunkCoin\",\"OmniCron\",\"GreenCoin\",\"Cryptonite\",\"MasterCoin\",\"SoonCoin\",\"1Credit\",\"MarsCoin \",\"Crypto\",\"Anarchists Prime\",\"BowsCoin\",\"Song Coin\",\"BitZeny\",\"Expanse\",\"Siacoin\",\"MindCoin\",\"I0coin\",\"Revolution VR\",\"HOdlcoin\",\"Gamecredits\",\"CarpeDiemCoin\",\"Adzcoin\",\"SoilCoin\",\"YoCoin\",\"SibCoin\",\"Francs\",\"BolivarCoin\",\"Omni\",\"PizzaCoin\",\"Komodo\",\"Karbo\",\"ZayedCoin\",\"Circuits of Value\",\"DopeCoin\",\"DollarCoin\",\"Shilling\",\"ZCoin\",\"Elementrem\",\"ZClassic\",\"KiloCoin\",\"ArtexCoin\",\"Kurrent\",\"Cannabis Industry Coin\",\"OsmiumCoin\",\"Bikercoins\",\"HexxCoin\",\"PacCoin\",\"Citadel\",\"BeaverCoin\",\"VaultCoin\",\"Zero\",\"Canada eCoin\",\"Zoin\",\"DubaiCoin\",\"EB3coin\",\"Coinonat\",\"BenjiRolls\",\"ILCoin\",\"EquiTrader\",\"Quantum Resistant Ledger\",\"Dynamic\",\"Nano\",\"ChanCoin\",\"Dinastycoin\",\"DigitalPrice\",\"Unify\",\"SocialCoin\",\"ArcticCoin\",\"DAS\",\"LeviarCoin\",\"Bitcore\",\"gCn Coin\",\"SmartCash\",\"Onix\",\"Bitcoin Cash\",\"Sojourn Coin\",\"NewYorkCoin\",\"FrazCoin\",\"Kronecoin\",\"AdCoin\",\"Linx\",\"Sumokoin\",\"BitcoinZ\",\"Elements\",\"VIVO Coin\",\"Bitcoin Gold\",\"Pirl\",\"eBoost\",\"Pura\",\"Innova\",\"Ellaism\",\"GoByte\",\"SHIELD\",\"UltraNote\",\"BitCoal\",\"DaxxCoin\",\"AC3\",\"Lethean\",\"PopularCoin\",\"Photon\",\"Sucre\",\"SparksPay\",\"GunCoin\",\"IrishCoin\",\"Pioneer Coin\",\"UnitedBitcoin\",\"Interzone\",\"TurtleCoin\",\"MUNcoin\",\"Niobio Cash\",\"ShareChain\",\"Travelflex\",\"KREDS\",\"BitFlip\",\"LottoCoin\",\"Crypto Improvement Fund\",\"Callisto Network\",\"BitTube\",\"Poseidon\",\"Aidos Kuneen\",\"Bitrolium\",\"Alpenschillling\",\"FuturoCoin\",\"Monero Classic\",\"Jumpcoin\",\"Infinex\",\"KEYCO\",\"GINcoin\",\"PlatinCoin\",\"Loki\",\"Newton Coin\",\"MassGrid\",\"PluraCoin\",\"Motion\",\"PlusOneCoin\",\"Axe\",\"HexCoin\",\"Webchain\",\"Ryo\",\"Urals Coin\",\"Qwertycoin\",\"Project Pai\",\"Azart\",\"Xchange\",\"CrypticCoin\",\"Actinium\",\"Bitcoin SV\",\"FREDEnergy\",\"Universal Molecule\",\"Lithium\",\"Exosis\",\"Block-Logic\",\"Beam\",\"Bithereum\",\"SLICE\",\"BLAST\",\"Bitcoin Rhodium\",\"GlobalToken\",\"SolarCoin\",\"UFO Coin\",\"BlakeCoin\",\"Crypto Escudo\",\"Crown Coin\",\"SmileyCoin\",\"Groestlcoin\",\"Bata\",\"Pakcoin\",\"JoinCoin\",\"Vollar\",\"Reality Clash\",\"Beldex\",\"Horizen\"],\"TotalCoinSupply\":{\"__ndarray__\":\"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\",\"dtype\":\"float64\",\"order\":\"little\",\"shape\":[238]},\"TotalCoinsMined\":{\"__ndarray__\":\"r6i7QfH88j5vitZPpIMcP2safiZFsRA/CBAnMBQ48j7wDEJVXgQePwFvcySeR98+S6ekP56Yhz8O0fKLQ3DYPunoanR6nuc+P/QHNS7b6T4I4yegqPBbP4pk9hRmi8k9cMqzLN2IJj8v7oqMShIhP+hFNhs4LN8+ICzRsK4uMT8QbyRNiz0KP59NHRkHtgE/NhWLS7iW3j4HjNNQyO3TPhf3vZ6vK9U+zGWKHw96kD/YQKTwOGuTP/QR9hSJ8Ik/v+Nbg90l9j7UJEJsY/osP53eB+SKpvQ+7OKrfnJdsz7h8m27k6ArPzOFKreVQ00/sp9rdsljET8a/IWo3Q8GPxfWq/5Sbbc/2g1Vrl1W9j4aGveuIA0kP+mrkQNSePQ+w6aYs+e2sj5zk5i3czQEP8Q38CuLaQU/dwwlCTKX2D6/GiTQLZRjP2kcsAWHN+8+WPbFZkYoNj/9tCw6GLayPlG7VH/vpfk+lXaTGbsb+z4TJNibZaVCP11sMg9/Dgc/sbwJ7+tK+D5svacTrE3DPrI5aeKgO4s+Bn6fn5x1tD5Ljct4WoX4PjXfW1HfGQs/ZX20aNqrHz8+VYv99MEEP1hQT91+zMc/EkNUVVGTfD8sNwB0vg4SP7x3FpSAeTs/V09i5Pw0Ij+8Wu9Dc6iIPv0vK9IFKSQ/u43+0IM7Sj+Fn7ZW789HP0XtoIndPRE/RXvZM7732j6tXPx07HrlPkRv+e0tE3M/aJCDWHxzRz/wOSf9uP6kPlQsp9p0Zuo+JVthYlbodz5RI4lAbxABP9C9WRyqHO0+cq2VX2I97z5yy9npd83wPjtGyf0IPwE/zcFpI7cFFD+pIsEbkTvmPi7peHQhHqE/CZb2rYPO8D68ZXludD32PgDbI7+vzSs/t2n0Hb5A6D768QgXA34SP8VZIm+ifJY/qfDDrNPjBz/IH81lZSjYPmbzzSAYkqU+io1ClvJI8j6EVzYip9bbPvB/UyyW7Ow+VIp4kW7kpD5Ztqr0xVm3PvBZKjNxsB4/i2oALxWS4D4AgcASBnTaPnpDQwW4jFA/1DtNvqTwHj/WFD5sjErjPri9zHTrjec+2DMeo0EI4D5jADv2nsH7PoUw/kBpyNc+ov9i+UX9KT9aPV7RHEZLPzuCQ8HDPxA/tcMN/maTsD7UrHW860yuPgxwAoxT0uM+xv90wUrLvz6OM6x+FcZBP9Kf4ZajPOc+Ck3M5oZlyj6rD9eegxcAP/OI8EMuU90+6fmC8iFwGj/Wo9/Kq6TzPsujJZ6E68I+XGxBluj4ED+Bh4j2yXHlPjXeTm3aefU+yXvl+uzOVT9z1k/kEPfsPv9UEsTGRxI/YSp/QHv09D61h4qHSKQhPy+N/AEef/M+hKwqIzTyXT/m4rwM9psCP8kEKAPONPM+528Abuzk1T728NdKYJX7PtQZrzp5OcY+CdfFZ+z/7T70aOzy9tryPhgd90IFFcU/gc0bUEOLYj9LwcxRKDcgPyRl/jd+D/M+/Y1TnL1xoD4ENdImbn3CP/jx38F6juQ+1996s5J88j6p3Vc8E0oBP3gVJ9Mc2wE/uBZMWL/z4j4pupu9+I91P3sMH7KeXWY/uNaq91ym0T7bHSC7aDjyPl7TxYbH/wE/Esjo3RF6Gj88xJCxuDInP9pcGpKPAts+LsltZsEF6z491TfErLXYPniYzdXT4z8/5YO/i7rxkz8tUFOdpxDTPpkfTG2+PUE/YzWXr25EFT+/sGvyzzU9P0ryBjnNZnA/wKP4upcfnz8oDYelxerRPlT2YcShn+A+M9MbVqPYMz/pmLbtWxYIP2UO7kqn9eE+wa/X9f9b9T6YqjPlVz7pPq1f7GWUe6s/m6YY3Oxp1D4N1FrxeLshP1CfshPmr4Q/2fEHH09rHD9QMtgVKk9FP3y2D2d/Xeo+ZkXpZEv6jT9nddkYq/krP9gv1r9BZDA/Fan1HlMyFT/aQYC+gT7RPgdyvDC9evo+92CWwAHlEj9ZXda3XfX8PjbwhEh61wA/ypskKPb28D7608Uz8VD2PvZNHrfomNU+/HzuDZL1qj7LOmFuZ5ndPo+bLwi42HY+GNnqCX9J9D6DWcI4SlulP5GAC7ji/CE/gs5PbtqJQj/1l+lTojbhPh/lK5thUOI+z17SV2Un1T541mKE3gG4PurwYFaPgPA+0YDfJJ+41D6WvW8I0TzvPriw3DhKvrk/v5TwC45gYT/bWtoBLkDVPhsOYClwqeQ+T6v8ir6FcT9aK/QlKOLsPteY+cSoDvM+rhUfyy/mXj+0RLaqCL+6PnZqj8zTyPA+aswyrG2Gmz4bDlRauK8CP5ubDoNU5gI/cW/NA6Cj+j6UzYNAomHrPrJ5rky7sQs/sl813APVsz5+NrhAtWcWPxqIBuE6bQ0/sNggyQ6mbz+XJ/DBLr34PiCh/w8R00k/WGx5EuVY+D5ls63LsJmeP+wERg+zaBM/FZl2+fRn1T5WOcGCu3MSPyAxdFCvPcw++0V+YL96Gj+Cx4Ui5e/5PqkaH3LtOFA/fthsjcfp3j4=\",\"dtype\":\"float64\",\"order\":\"little\",\"shape\":[238]}},\"selected\":{\"id\":\"2647\"},\"selection_policy\":{\"id\":\"2663\"}},\"id\":\"2646\",\"type\":\"ColumnDataSource\"},{\"attributes\":{\"label\":{\"value\":\"2\"},\"renderers\":[{\"id\":\"2674\"}]},\"id\":\"2690\",\"type\":\"LegendItem\"},{\"attributes\":{\"angle\":{\"value\":0.0},\"fill_alpha\":{\"value\":1.0},\"fill_color\":{\"value\":\"#fc4f30\"},\"hatch_alpha\":{\"value\":1.0},\"hatch_color\":{\"value\":\"#fc4f30\"},\"hatch_scale\":{\"value\":12.0},\"hatch_weight\":{\"value\":1.0},\"line_alpha\":{\"value\":1.0},\"line_cap\":{\"value\":\"butt\"},\"line_color\":{\"value\":\"#fc4f30\"},\"line_dash\":{\"value\":[]},\"line_dash_offset\":{\"value\":0},\"line_join\":{\"value\":\"bevel\"},\"line_width\":{\"value\":1},\"marker\":{\"value\":\"circle\"},\"size\":{\"value\":5.477225575051661},\"x\":{\"field\":\"TotalCoinsMined\"},\"y\":{\"field\":\"TotalCoinSupply\"}},\"id\":\"2667\",\"type\":\"Scatter\"},{\"attributes\":{},\"id\":\"2603\",\"type\":\"BasicTicker\"},{\"attributes\":{\"axis_label\":\"TotalCoinSupply\",\"coordinates\":null,\"formatter\":{\"id\":\"2623\"},\"group\":null,\"major_label_policy\":{\"id\":\"2624\"},\"ticker\":{\"id\":\"2603\"}},\"id\":\"2602\",\"type\":\"LinearAxis\"},{\"attributes\":{\"fill_color\":{\"value\":\"#fc4f30\"},\"hatch_color\":{\"value\":\"#fc4f30\"},\"line_color\":{\"value\":\"#fc4f30\"},\"size\":{\"value\":5.477225575051661},\"x\":{\"field\":\"TotalCoinsMined\"},\"y\":{\"field\":\"TotalCoinSupply\"}},\"id\":\"2649\",\"type\":\"Scatter\"},{\"attributes\":{\"angle\":{\"value\":0.0},\"fill_alpha\":{\"value\":1.0},\"fill_color\":{\"value\":\"#e5ae38\"},\"hatch_alpha\":{\"value\":1.0},\"hatch_color\":{\"value\":\"#e5ae38\"},\"hatch_scale\":{\"value\":12.0},\"hatch_weight\":{\"value\":1.0},\"line_alpha\":{\"value\":1.0},\"line_cap\":{\"value\":\"butt\"},\"line_color\":{\"value\":\"#e5ae38\"},\"line_dash\":{\"value\":[]},\"line_dash_offset\":{\"value\":0},\"line_join\":{\"value\":\"bevel\"},\"line_width\":{\"value\":1},\"marker\":{\"value\":\"circle\"},\"size\":{\"value\":5.477225575051661},\"x\":{\"field\":\"TotalCoinsMined\"},\"y\":{\"field\":\"TotalCoinSupply\"}},\"id\":\"2691\",\"type\":\"Scatter\"},{\"attributes\":{\"fill_alpha\":{\"value\":0.2},\"fill_color\":{\"value\":\"#30a2da\"},\"hatch_alpha\":{\"value\":0.2},\"hatch_color\":{\"value\":\"#30a2da\"},\"line_alpha\":{\"value\":0.2},\"line_color\":{\"value\":\"#30a2da\"},\"size\":{\"value\":5.477225575051661},\"x\":{\"field\":\"TotalCoinsMined\"},\"y\":{\"field\":\"TotalCoinSupply\"}},\"id\":\"2630\",\"type\":\"Scatter\"},{\"attributes\":{\"fill_alpha\":{\"value\":0.2},\"fill_color\":{\"value\":\"#e5ae38\"},\"hatch_alpha\":{\"value\":0.2},\"hatch_color\":{\"value\":\"#e5ae38\"},\"line_alpha\":{\"value\":0.2},\"line_color\":{\"value\":\"#e5ae38\"},\"size\":{\"value\":5.477225575051661},\"x\":{\"field\":\"TotalCoinsMined\"},\"y\":{\"field\":\"TotalCoinSupply\"}},\"id\":\"2673\",\"type\":\"Scatter\"},{\"attributes\":{\"end\":1.1,\"reset_end\":1.1,\"reset_start\":-0.1,\"start\":-0.1,\"tags\":[[[\"TotalCoinSupply\",\"TotalCoinSupply\",null]]]},\"id\":\"2584\",\"type\":\"Range1d\"},{\"attributes\":{\"coordinates\":null,\"data_source\":{\"id\":\"2625\"},\"glyph\":{\"id\":\"2628\"},\"group\":null,\"hover_glyph\":null,\"muted_glyph\":{\"id\":\"2630\"},\"nonselection_glyph\":{\"id\":\"2629\"},\"selection_glyph\":{\"id\":\"2645\"},\"view\":{\"id\":\"2632\"}},\"id\":\"2631\",\"type\":\"GlyphRenderer\"},{\"attributes\":{},\"id\":\"2624\",\"type\":\"AllLabels\"},{\"attributes\":{\"fill_alpha\":{\"value\":0.1},\"fill_color\":{\"value\":\"#30a2da\"},\"hatch_alpha\":{\"value\":0.1},\"hatch_color\":{\"value\":\"#30a2da\"},\"line_alpha\":{\"value\":0.1},\"line_color\":{\"value\":\"#30a2da\"},\"size\":{\"value\":5.477225575051661},\"x\":{\"field\":\"TotalCoinsMined\"},\"y\":{\"field\":\"TotalCoinSupply\"}},\"id\":\"2629\",\"type\":\"Scatter\"},{\"attributes\":{},\"id\":\"2669\",\"type\":\"Selection\"},{\"attributes\":{\"click_policy\":\"mute\",\"coordinates\":null,\"group\":null,\"items\":[{\"id\":\"2644\"},{\"id\":\"2666\"},{\"id\":\"2690\"},{\"id\":\"2716\"}],\"location\":[0,0],\"title\":\"Class\"},\"id\":\"2643\",\"type\":\"Legend\"},{\"attributes\":{},\"id\":\"2687\",\"type\":\"UnionRenderers\"},{\"attributes\":{},\"id\":\"2606\",\"type\":\"SaveTool\"},{\"attributes\":{\"source\":{\"id\":\"2668\"}},\"id\":\"2675\",\"type\":\"CDSView\"},{\"attributes\":{},\"id\":\"2607\",\"type\":\"PanTool\"},{\"attributes\":{},\"id\":\"2608\",\"type\":\"WheelZoomTool\"},{\"attributes\":{\"coordinates\":null,\"data_source\":{\"id\":\"2668\"},\"glyph\":{\"id\":\"2671\"},\"group\":null,\"hover_glyph\":null,\"muted_glyph\":{\"id\":\"2673\"},\"nonselection_glyph\":{\"id\":\"2672\"},\"selection_glyph\":{\"id\":\"2691\"},\"view\":{\"id\":\"2675\"}},\"id\":\"2674\",\"type\":\"GlyphRenderer\"},{\"attributes\":{\"tools\":[{\"id\":\"2585\"},{\"id\":\"2606\"},{\"id\":\"2607\"},{\"id\":\"2608\"},{\"id\":\"2609\"},{\"id\":\"2610\"}]},\"id\":\"2612\",\"type\":\"Toolbar\"},{\"attributes\":{\"overlay\":{\"id\":\"2611\"}},\"id\":\"2609\",\"type\":\"BoxZoomTool\"},{\"attributes\":{\"fill_color\":{\"value\":\"#30a2da\"},\"hatch_color\":{\"value\":\"#30a2da\"},\"line_color\":{\"value\":\"#30a2da\"},\"size\":{\"value\":5.477225575051661},\"x\":{\"field\":\"TotalCoinsMined\"},\"y\":{\"field\":\"TotalCoinSupply\"}},\"id\":\"2628\",\"type\":\"Scatter\"},{\"attributes\":{\"end\":1.042857142857143,\"reset_end\":1.042857142857143,\"reset_start\":-0.04285714285714286,\"start\":-0.04285714285714286,\"tags\":[[[\"TotalCoinsMined\",\"TotalCoinsMined\",null]]]},\"id\":\"2583\",\"type\":\"Range1d\"},{\"attributes\":{\"fill_alpha\":{\"value\":0.1},\"fill_color\":{\"value\":\"#e5ae38\"},\"hatch_alpha\":{\"value\":0.1},\"hatch_color\":{\"value\":\"#e5ae38\"},\"line_alpha\":{\"value\":0.1},\"line_color\":{\"value\":\"#e5ae38\"},\"size\":{\"value\":5.477225575051661},\"x\":{\"field\":\"TotalCoinsMined\"},\"y\":{\"field\":\"TotalCoinSupply\"}},\"id\":\"2672\",\"type\":\"Scatter\"},{\"attributes\":{\"fill_color\":{\"value\":\"#e5ae38\"},\"hatch_color\":{\"value\":\"#e5ae38\"},\"line_color\":{\"value\":\"#e5ae38\"},\"size\":{\"value\":5.477225575051661},\"x\":{\"field\":\"TotalCoinsMined\"},\"y\":{\"field\":\"TotalCoinSupply\"}},\"id\":\"2671\",\"type\":\"Scatter\"},{\"attributes\":{},\"id\":\"2610\",\"type\":\"ResetTool\"},{\"attributes\":{\"children\":[{\"id\":\"2582\"},{\"id\":\"2589\"},{\"id\":\"2862\"}],\"margin\":[0,0,0,0],\"name\":\"Row04834\",\"tags\":[\"embedded\"]},\"id\":\"2581\",\"type\":\"Row\"},{\"attributes\":{\"data\":{\"Class\":[2],\"CoinName\":[\"BitTorrent\"],\"TotalCoinSupply\":{\"__ndarray__\":\"rkfhehSu7z8=\",\"dtype\":\"float64\",\"order\":\"little\",\"shape\":[1]},\"TotalCoinsMined\":{\"__ndarray__\":\"AAAAAAAA8D8=\",\"dtype\":\"float64\",\"order\":\"little\",\"shape\":[1]}},\"selected\":{\"id\":\"2669\"},\"selection_policy\":{\"id\":\"2687\"}},\"id\":\"2668\",\"type\":\"ColumnDataSource\"},{\"attributes\":{\"bottom_units\":\"screen\",\"coordinates\":null,\"fill_alpha\":0.5,\"fill_color\":\"lightgrey\",\"group\":null,\"left_units\":\"screen\",\"level\":\"overlay\",\"line_alpha\":1.0,\"line_color\":\"black\",\"line_dash\":[4,4],\"line_width\":2,\"right_units\":\"screen\",\"syncable\":false,\"top_units\":\"screen\"},\"id\":\"2611\",\"type\":\"BoxAnnotation\"},{\"attributes\":{\"fill_alpha\":{\"value\":0.2},\"fill_color\":{\"value\":\"#6d904f\"},\"hatch_alpha\":{\"value\":0.2},\"hatch_color\":{\"value\":\"#6d904f\"},\"line_alpha\":{\"value\":0.2},\"line_color\":{\"value\":\"#6d904f\"},\"size\":{\"value\":5.477225575051661},\"x\":{\"field\":\"TotalCoinsMined\"},\"y\":{\"field\":\"TotalCoinSupply\"}},\"id\":\"2697\",\"type\":\"Scatter\"},{\"attributes\":{},\"id\":\"2626\",\"type\":\"Selection\"},{\"attributes\":{\"label\":{\"value\":\"0\"},\"renderers\":[{\"id\":\"2631\"}]},\"id\":\"2644\",\"type\":\"LegendItem\"},{\"attributes\":{\"angle\":{\"value\":0.0},\"fill_alpha\":{\"value\":1.0},\"fill_color\":{\"value\":\"#30a2da\"},\"hatch_alpha\":{\"value\":1.0},\"hatch_color\":{\"value\":\"#30a2da\"},\"hatch_scale\":{\"value\":12.0},\"hatch_weight\":{\"value\":1.0},\"line_alpha\":{\"value\":1.0},\"line_cap\":{\"value\":\"butt\"},\"line_color\":{\"value\":\"#30a2da\"},\"line_dash\":{\"value\":[]},\"line_dash_offset\":{\"value\":0},\"line_join\":{\"value\":\"bevel\"},\"line_width\":{\"value\":1},\"marker\":{\"value\":\"circle\"},\"size\":{\"value\":5.477225575051661},\"x\":{\"field\":\"TotalCoinsMined\"},\"y\":{\"field\":\"TotalCoinSupply\"}},\"id\":\"2645\",\"type\":\"Scatter\"},{\"attributes\":{\"label\":{\"value\":\"3\"},\"renderers\":[{\"id\":\"2698\"}]},\"id\":\"2716\",\"type\":\"LegendItem\"},{\"attributes\":{},\"id\":\"2623\",\"type\":\"BasicTickFormatter\"},{\"attributes\":{\"coordinates\":null,\"data_source\":{\"id\":\"2692\"},\"glyph\":{\"id\":\"2695\"},\"group\":null,\"hover_glyph\":null,\"muted_glyph\":{\"id\":\"2697\"},\"nonselection_glyph\":{\"id\":\"2696\"},\"selection_glyph\":{\"id\":\"2717\"},\"view\":{\"id\":\"2699\"}},\"id\":\"2698\",\"type\":\"GlyphRenderer\"},{\"attributes\":{\"margin\":[5,5,5,5],\"name\":\"HSpacer04839\",\"sizing_mode\":\"stretch_width\"},\"id\":\"2862\",\"type\":\"Spacer\"},{\"attributes\":{\"fill_color\":{\"value\":\"#6d904f\"},\"hatch_color\":{\"value\":\"#6d904f\"},\"line_color\":{\"value\":\"#6d904f\"},\"size\":{\"value\":5.477225575051661},\"x\":{\"field\":\"TotalCoinsMined\"},\"y\":{\"field\":\"TotalCoinSupply\"}},\"id\":\"2695\",\"type\":\"Scatter\"},{\"attributes\":{},\"id\":\"2647\",\"type\":\"Selection\"},{\"attributes\":{\"data\":{\"Class\":[0,0,0,0,0,0,0,0,0,0,0,0,0,0,0,0,0,0,0,0,0,0,0,0,0,0,0,0,0,0,0,0,0,0,0,0,0,0,0,0,0,0,0,0,0,0,0,0,0,0,0,0,0,0,0,0,0,0,0,0,0,0,0,0,0,0,0,0,0,0,0,0,0,0,0,0,0,0,0,0,0,0,0,0,0,0,0,0,0,0,0,0,0,0,0,0,0,0,0,0,0,0,0,0,0,0,0,0,0,0,0,0,0,0,0,0,0,0,0,0,0,0,0,0,0,0,0,0,0,0,0,0,0,0,0,0,0,0,0,0,0,0,0,0,0,0,0,0,0,0,0,0,0,0,0,0,0,0,0,0,0,0,0,0,0,0,0,0,0,0,0,0,0,0,0,0,0,0,0,0,0,0,0,0,0,0,0,0,0,0,0,0,0,0,0,0,0,0,0,0,0,0,0,0,0,0,0,0,0,0,0,0,0,0,0,0,0,0,0,0,0,0,0,0,0,0,0,0,0,0,0,0,0,0,0,0,0,0,0,0,0,0,0,0,0,0,0,0,0,0,0,0,0,0,0,0,0,0,0,0,0,0,0,0,0,0,0,0,0,0,0,0,0,0,0,0,0,0,0,0,0,0,0,0,0,0,0,0],\"CoinName\":[\"42 Coin\",\"404Coin\",\"EliteCoin\",\"Dash\",\"Bitshares\",\"BitcoinDark\",\"PayCoin\",\"KoboCoin\",\"Aurora Coin\",\"BlueCoin\",\"EnergyCoin\",\"BitBar\",\"CryptoBullion\",\"CasinoCoin\",\"Diamond\",\"Exclusive Coin\",\"FlutterCoin\",\"HoboNickels\",\"HyperStake\",\"IOCoin\",\"MaxCoin\",\"MintCoin\",\"MazaCoin\",\"Nautilus Coin\",\"NavCoin\",\"OpalCoin\",\"Orbitcoin\",\"PotCoin\",\"PhoenixCoin\",\"Reddcoin\",\"SuperCoin\",\"SyncCoin\",\"TeslaCoin\",\"TittieCoin\",\"TorCoin\",\"UnitaryStatus Dollar\",\"UltraCoin\",\"VeriCoin\",\"X11 Coin\",\"Crypti\",\"StealthCoin\",\"ZCC Coin\",\"BurstCoin\",\"StorjCoin\",\"Neutron\",\"FairCoin\",\"RubyCoin\",\"Kore\",\"Dnotes\",\"8BIT Coin\",\"Sativa Coin\",\"Ucoin\",\"Vtorrent\",\"IslaCoin\",\"Nexus\",\"Droidz\",\"Squall Coin\",\"Diggits\",\"Paycon\",\"Emercoin\",\"EverGreenCoin\",\"Decred\",\"EDRCoin\",\"Hitcoin\",\"DubaiCoin\",\"PWR Coin\",\"BillaryCoin\",\"GPU Coin\",\"EuropeCoin\",\"ZeitCoin\",\"SwingCoin\",\"SafeExchangeCoin\",\"Nebuchadnezzar\",\"Ratecoin\",\"Revenu\",\"Clockcoin\",\"VIP Tokens\",\"BitSend\",\"Let it Ride\",\"PutinCoin\",\"iBankCoin\",\"Frankywillcoin\",\"MudraCoin\",\"Lutetium Coin\",\"GoldBlocks\",\"CarterCoin\",\"BitTokens\",\"MustangCoin\",\"ZoneCoin\",\"RootCoin\",\"BitCurrency\",\"Swiscoin\",\"BuzzCoin\",\"Opair\",\"PesoBit\",\"Halloween Coin\",\"CoffeeCoin\",\"RoyalCoin\",\"GanjaCoin V2\",\"TeamUP\",\"LanaCoin\",\"ARK\",\"InsaneCoin\",\"EmberCoin\",\"XenixCoin\",\"FreeCoin\",\"PLNCoin\",\"AquariusCoin\",\"Creatio\",\"Eternity\",\"Eurocoin\",\"BitcoinFast\",\"Stakenet\",\"BitConnect Coin\",\"MoneyCoin\",\"Enigma\",\"Russiacoin\",\"PandaCoin\",\"GameUnits\",\"GAKHcoin\",\"Allsafe\",\"LiteCreed\",\"Klingon Empire Darsek\",\"Internet of People\",\"KushCoin\",\"Printerium\",\"Impeach\",\"Zilbercoin\",\"FirstCoin\",\"FindCoin\",\"OpenChat\",\"RenosCoin\",\"VirtacoinPlus\",\"TajCoin\",\"Impact\",\"Atmos\",\"HappyCoin\",\"MacronCoin\",\"Condensate\",\"Independent Money System\",\"ArgusCoin\",\"LomoCoin\",\"ProCurrency\",\"GoldReserve\",\"GrowthCoin\",\"Phreak\",\"Degas Coin\",\"HTML5 Coin\",\"Ultimate Secure Cash\",\"QTUM\",\"Espers\",\"Denarius\",\"Virta Unique Coin\",\"Bitcoin Planet\",\"BritCoin\",\"Linda\",\"DeepOnion\",\"Signatum\",\"Cream\",\"Monoeci\",\"Draftcoin\",\"Vechain\",\"Stakecoin\",\"CoinonatX\",\"Ethereum Dark\",\"Obsidian\",\"Cardano\",\"Regalcoin\",\"TrezarCoin\",\"TerraNovaCoin\",\"Rupee\",\"WomenCoin\",\"Theresa May Coin\",\"NamoCoin\",\"LUXCoin\",\"Xios\",\"Bitcloud 2.0\",\"KekCoin\",\"BlackholeCoin\",\"Infinity Economics\",\"Magnet\",\"Lamden Tau\",\"Electra\",\"Bitcoin Diamond\",\"Cash & Back Coin\",\"Bulwark\",\"Kalkulus\",\"GermanCoin\",\"LiteCoin Ultra\",\"PhantomX\",\"Digiwage\",\"Trollcoin\",\"Litecoin Plus\",\"Monkey Project\",\"TokenPay\",\"1717 Masonic Commemorative Token\",\"My Big Coin\",\"Unified Society USDEX\",\"Tokyo Coin\",\"Stipend\",\"Pushi\",\"Ellerium\",\"Velox\",\"Ontology\",\"Bitspace\",\"Briacoin\",\"Ignition\",\"MedicCoin\",\"Bitcoin Green\",\"Deviant Coin\",\"Abjcoin\",\"Semux\",\"Carebit\",\"Zealium\",\"Proton\",\"iDealCash\",\"Bitcoin Incognito\",\"HollyWoodCoin\",\"Swisscoin\",\"Xt3ch\",\"TheVig\",\"EmaratCoin\",\"Dekado\",\"Lynx\",\"Poseidon Quark\",\"BitcoinWSpectrum\",\"Muse\",\"Trivechain\",\"Dystem\",\"Giant\",\"Peony Coin\",\"Absolute Coin\",\"Vitae\",\"TPCash\",\"ARENON\",\"EUNO\",\"MMOCoin\",\"Ketan\",\"XDNA\",\"PAXEX\",\"ThunderStake\",\"Kcash\",\"Bettex coin\",\"BitMoney\",\"Junson Ming Chan Coin\",\"HerbCoin\",\"PirateCash\",\"Oduwa\",\"Galilel\",\"Crypto Sports\",\"Credit\",\"Dash Platinum\",\"Nasdacoin\",\"Beetle Coin\",\"Titan Coin\",\"Award\",\"Insane Coin\",\"ALAX\",\"LiteDoge\",\"TruckCoin\",\"OrangeCoin\",\"BitstarCoin\",\"NeosCoin\",\"HyperCoin\",\"PinkCoin\",\"AudioCoin\",\"IncaKoin\",\"Piggy Coin\",\"Genstake\",\"XiaoMiCoin\",\"CapriCoin\",\" ClubCoin\",\"Radium\",\"Creditbit \",\"OKCash\",\"Lisk\",\"HiCoin\",\"WhiteCoin\",\"FriendshipCoin\",\"Triangles Coin\",\"EOS\",\"Oxycoin\",\"TigerCash\",\"Particl\",\"Nxt\",\"ZEPHYR\",\"Gapcoin\",\"BitcoinPlus\"],\"TotalCoinSupply\":{\"__ndarray__\":\"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\",\"dtype\":\"float64\",\"order\":\"little\",\"shape\":[288]},\"TotalCoinsMined\":{\"__ndarray__\":\"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\",\"dtype\":\"float64\",\"order\":\"little\",\"shape\":[288]}},\"selected\":{\"id\":\"2626\"},\"selection_policy\":{\"id\":\"2640\"}},\"id\":\"2625\",\"type\":\"ColumnDataSource\"},{\"attributes\":{\"source\":{\"id\":\"2692\"}},\"id\":\"2699\",\"type\":\"CDSView\"},{\"attributes\":{\"callback\":null,\"renderers\":[{\"id\":\"2631\"},{\"id\":\"2652\"},{\"id\":\"2674\"},{\"id\":\"2698\"}],\"tags\":[\"hv_created\"],\"tooltips\":[[\"Class\",\"@{Class}\"],[\"TotalCoinsMined\",\"@{TotalCoinsMined}\"],[\"TotalCoinSupply\",\"@{TotalCoinSupply}\"],[\"CoinName\",\"@{CoinName}\"]]},\"id\":\"2585\",\"type\":\"HoverTool\"},{\"attributes\":{\"source\":{\"id\":\"2625\"}},\"id\":\"2632\",\"type\":\"CDSView\"},{\"attributes\":{\"fill_alpha\":{\"value\":0.1},\"fill_color\":{\"value\":\"#6d904f\"},\"hatch_alpha\":{\"value\":0.1},\"hatch_color\":{\"value\":\"#6d904f\"},\"line_alpha\":{\"value\":0.1},\"line_color\":{\"value\":\"#6d904f\"},\"size\":{\"value\":5.477225575051661},\"x\":{\"field\":\"TotalCoinsMined\"},\"y\":{\"field\":\"TotalCoinSupply\"}},\"id\":\"2696\",\"type\":\"Scatter\"},{\"attributes\":{},\"id\":\"2621\",\"type\":\"AllLabels\"},{\"attributes\":{},\"id\":\"2693\",\"type\":\"Selection\"}],\"root_ids\":[\"2581\"]},\"title\":\"Bokeh Application\",\"version\":\"2.4.2\"}};\n",
       "    var render_items = [{\"docid\":\"5a51076f-8548-4a0c-ac21-657b762ecc6d\",\"root_ids\":[\"2581\"],\"roots\":{\"2581\":\"a6b38581-25e8-4a0f-bbf0-f38470b2a12a\"}}];\n",
       "    root.Bokeh.embed.embed_items_notebook(docs_json, render_items);\n",
       "  }\n",
       "  if (root.Bokeh !== undefined && root.Bokeh.Panel !== undefined) {\n",
       "    embed_document(root);\n",
       "  } else {\n",
       "    var attempts = 0;\n",
       "    var timer = setInterval(function(root) {\n",
       "      if (root.Bokeh !== undefined && root.Bokeh.Panel !== undefined) {\n",
       "        clearInterval(timer);\n",
       "        embed_document(root);\n",
       "      } else if (document.readyState == \"complete\") {\n",
       "        attempts++;\n",
       "        if (attempts > 200) {\n",
       "          clearInterval(timer);\n",
       "          console.log(\"Bokeh: ERROR: Unable to run BokehJS code because BokehJS library is missing\");\n",
       "        }\n",
       "      }\n",
       "    }, 25, root)\n",
       "  }\n",
       "})(window);</script>"
      ],
      "text/plain": [
       ":NdOverlay   [Class]\n",
       "   :Scatter   [TotalCoinsMined]   (TotalCoinSupply,CoinName)"
      ]
     },
     "execution_count": 115,
     "metadata": {
      "application/vnd.holoviews_exec.v0+json": {
       "id": "2581"
      }
     },
     "output_type": "execute_result"
    }
   ],
   "source": [
    "# Create a hvplot.scatter plot using x=\"TotalCoinsMined\" and y=\"TotalCoinSupply\".\n",
    "plot_df.hvplot.scatter(x = \"TotalCoinsMined\", y = \"TotalCoinSupply\", by=\"Class\", hover_cols = [\"CoinName\"])"
   ]
  },
  {
   "cell_type": "code",
   "execution_count": null,
   "metadata": {},
   "outputs": [],
   "source": []
  }
 ],
 "metadata": {
  "file_extension": ".py",
  "kernelspec": {
   "display_name": "mlenv",
   "language": "python",
   "name": "mlenv"
  },
  "language_info": {
   "codemirror_mode": {
    "name": "ipython",
    "version": 3
   },
   "file_extension": ".py",
   "mimetype": "text/x-python",
   "name": "python",
   "nbconvert_exporter": "python",
   "pygments_lexer": "ipython3",
   "version": "3.7.13"
  },
  "latex_envs": {
   "LaTeX_envs_menu_present": true,
   "autoclose": false,
   "autocomplete": true,
   "bibliofile": "biblio.bib",
   "cite_by": "apalike",
   "current_citInitial": 1,
   "eqLabelWithNumbers": true,
   "eqNumInitial": 1,
   "hotkeys": {
    "equation": "Ctrl-E",
    "itemize": "Ctrl-I"
   },
   "labels_anchors": false,
   "latex_user_defs": false,
   "report_style_numbering": false,
   "user_envs_cfg": false
  },
  "mimetype": "text/x-python",
  "name": "python",
  "npconvert_exporter": "python",
  "pygments_lexer": "ipython3",
  "version": 3
 },
 "nbformat": 4,
 "nbformat_minor": 2
}
